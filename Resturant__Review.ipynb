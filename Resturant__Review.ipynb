{
  "nbformat": 4,
  "nbformat_minor": 0,
  "metadata": {
    "colab": {
      "provenance": [],
      "toc_visible": true,
      "authorship_tag": "ABX9TyPNq7ElI6LFBlsPJKkMAnET",
      "include_colab_link": true
    },
    "kernelspec": {
      "name": "python3",
      "display_name": "Python 3"
    },
    "language_info": {
      "name": "python"
    }
  },
  "cells": [
    {
      "cell_type": "markdown",
      "metadata": {
        "id": "view-in-github",
        "colab_type": "text"
      },
      "source": [
        "<a href=\"https://colab.research.google.com/github/Elixirman/Blackbox/blob/main/Resturant__Review.ipynb\" target=\"_parent\"><img src=\"https://colab.research.google.com/assets/colab-badge.svg\" alt=\"Open In Colab\"/></a>"
      ]
    },
    {
      "cell_type": "markdown",
      "source": [
        "# Part-1: Data Preprocessing"
      ],
      "metadata": {
        "id": "cE8VtmQi2HGP"
      }
    },
    {
      "cell_type": "markdown",
      "source": [
        "## Dataset & Library Importation"
      ],
      "metadata": {
        "id": "JXkz1sQL2QSK"
      }
    },
    {
      "cell_type": "code",
      "source": [
        "import numpy as np\n",
        "import pandas as pd\n",
        "import matplotlib.pyplot as plt\n",
        "import seaborn as sns\n"
      ],
      "metadata": {
        "id": "cO8P7V692PQn"
      },
      "execution_count": null,
      "outputs": []
    },
    {
      "cell_type": "code",
      "source": [
        "# Read data & apply quoting argument to ignore quotes\n",
        "\n",
        "r_data = pd.read_csv(\"/content/Restaurant_Reviews.tsv\", delimiter= \"\\t\", quoting= 3)"
      ],
      "metadata": {
        "id": "RK9oG-7S2PY7"
      },
      "execution_count": null,
      "outputs": []
    },
    {
      "cell_type": "code",
      "source": [
        "# Data head-tail preview\n",
        "\n",
        "r_data.head(-5)"
      ],
      "metadata": {
        "colab": {
          "base_uri": "https://localhost:8080/",
          "height": 423
        },
        "id": "p-74h_N_2PcF",
        "outputId": "8ba61da1-c642-4dd5-e7c5-fe15b5a13240"
      },
      "execution_count": null,
      "outputs": [
        {
          "output_type": "execute_result",
          "data": {
            "text/plain": [
              "                                                Review  Liked\n",
              "0                             Wow... Loved this place.      1\n",
              "1                                   Crust is not good.      0\n",
              "2            Not tasty and the texture was just nasty.      0\n",
              "3    Stopped by during the late May bank holiday of...      1\n",
              "4    The selection on the menu was great and so wer...      1\n",
              "..                                                 ...    ...\n",
              "990  The refried beans that came with my meal were ...      0\n",
              "991         Spend your money and time some place else.      0\n",
              "992  A lady at the table next to us found a live gr...      0\n",
              "993            the presentation of the food was awful.      0\n",
              "994           I can't tell you how disappointed I was.      0\n",
              "\n",
              "[995 rows x 2 columns]"
            ],
            "text/html": [
              "\n",
              "  <div id=\"df-d5ce7747-cd92-40d6-997b-53802c3bfc0a\">\n",
              "    <div class=\"colab-df-container\">\n",
              "      <div>\n",
              "<style scoped>\n",
              "    .dataframe tbody tr th:only-of-type {\n",
              "        vertical-align: middle;\n",
              "    }\n",
              "\n",
              "    .dataframe tbody tr th {\n",
              "        vertical-align: top;\n",
              "    }\n",
              "\n",
              "    .dataframe thead th {\n",
              "        text-align: right;\n",
              "    }\n",
              "</style>\n",
              "<table border=\"1\" class=\"dataframe\">\n",
              "  <thead>\n",
              "    <tr style=\"text-align: right;\">\n",
              "      <th></th>\n",
              "      <th>Review</th>\n",
              "      <th>Liked</th>\n",
              "    </tr>\n",
              "  </thead>\n",
              "  <tbody>\n",
              "    <tr>\n",
              "      <th>0</th>\n",
              "      <td>Wow... Loved this place.</td>\n",
              "      <td>1</td>\n",
              "    </tr>\n",
              "    <tr>\n",
              "      <th>1</th>\n",
              "      <td>Crust is not good.</td>\n",
              "      <td>0</td>\n",
              "    </tr>\n",
              "    <tr>\n",
              "      <th>2</th>\n",
              "      <td>Not tasty and the texture was just nasty.</td>\n",
              "      <td>0</td>\n",
              "    </tr>\n",
              "    <tr>\n",
              "      <th>3</th>\n",
              "      <td>Stopped by during the late May bank holiday of...</td>\n",
              "      <td>1</td>\n",
              "    </tr>\n",
              "    <tr>\n",
              "      <th>4</th>\n",
              "      <td>The selection on the menu was great and so wer...</td>\n",
              "      <td>1</td>\n",
              "    </tr>\n",
              "    <tr>\n",
              "      <th>...</th>\n",
              "      <td>...</td>\n",
              "      <td>...</td>\n",
              "    </tr>\n",
              "    <tr>\n",
              "      <th>990</th>\n",
              "      <td>The refried beans that came with my meal were ...</td>\n",
              "      <td>0</td>\n",
              "    </tr>\n",
              "    <tr>\n",
              "      <th>991</th>\n",
              "      <td>Spend your money and time some place else.</td>\n",
              "      <td>0</td>\n",
              "    </tr>\n",
              "    <tr>\n",
              "      <th>992</th>\n",
              "      <td>A lady at the table next to us found a live gr...</td>\n",
              "      <td>0</td>\n",
              "    </tr>\n",
              "    <tr>\n",
              "      <th>993</th>\n",
              "      <td>the presentation of the food was awful.</td>\n",
              "      <td>0</td>\n",
              "    </tr>\n",
              "    <tr>\n",
              "      <th>994</th>\n",
              "      <td>I can't tell you how disappointed I was.</td>\n",
              "      <td>0</td>\n",
              "    </tr>\n",
              "  </tbody>\n",
              "</table>\n",
              "<p>995 rows × 2 columns</p>\n",
              "</div>\n",
              "      <button class=\"colab-df-convert\" onclick=\"convertToInteractive('df-d5ce7747-cd92-40d6-997b-53802c3bfc0a')\"\n",
              "              title=\"Convert this dataframe to an interactive table.\"\n",
              "              style=\"display:none;\">\n",
              "        \n",
              "  <svg xmlns=\"http://www.w3.org/2000/svg\" height=\"24px\"viewBox=\"0 0 24 24\"\n",
              "       width=\"24px\">\n",
              "    <path d=\"M0 0h24v24H0V0z\" fill=\"none\"/>\n",
              "    <path d=\"M18.56 5.44l.94 2.06.94-2.06 2.06-.94-2.06-.94-.94-2.06-.94 2.06-2.06.94zm-11 1L8.5 8.5l.94-2.06 2.06-.94-2.06-.94L8.5 2.5l-.94 2.06-2.06.94zm10 10l.94 2.06.94-2.06 2.06-.94-2.06-.94-.94-2.06-.94 2.06-2.06.94z\"/><path d=\"M17.41 7.96l-1.37-1.37c-.4-.4-.92-.59-1.43-.59-.52 0-1.04.2-1.43.59L10.3 9.45l-7.72 7.72c-.78.78-.78 2.05 0 2.83L4 21.41c.39.39.9.59 1.41.59.51 0 1.02-.2 1.41-.59l7.78-7.78 2.81-2.81c.8-.78.8-2.07 0-2.86zM5.41 20L4 18.59l7.72-7.72 1.47 1.35L5.41 20z\"/>\n",
              "  </svg>\n",
              "      </button>\n",
              "      \n",
              "  <style>\n",
              "    .colab-df-container {\n",
              "      display:flex;\n",
              "      flex-wrap:wrap;\n",
              "      gap: 12px;\n",
              "    }\n",
              "\n",
              "    .colab-df-convert {\n",
              "      background-color: #E8F0FE;\n",
              "      border: none;\n",
              "      border-radius: 50%;\n",
              "      cursor: pointer;\n",
              "      display: none;\n",
              "      fill: #1967D2;\n",
              "      height: 32px;\n",
              "      padding: 0 0 0 0;\n",
              "      width: 32px;\n",
              "    }\n",
              "\n",
              "    .colab-df-convert:hover {\n",
              "      background-color: #E2EBFA;\n",
              "      box-shadow: 0px 1px 2px rgba(60, 64, 67, 0.3), 0px 1px 3px 1px rgba(60, 64, 67, 0.15);\n",
              "      fill: #174EA6;\n",
              "    }\n",
              "\n",
              "    [theme=dark] .colab-df-convert {\n",
              "      background-color: #3B4455;\n",
              "      fill: #D2E3FC;\n",
              "    }\n",
              "\n",
              "    [theme=dark] .colab-df-convert:hover {\n",
              "      background-color: #434B5C;\n",
              "      box-shadow: 0px 1px 3px 1px rgba(0, 0, 0, 0.15);\n",
              "      filter: drop-shadow(0px 1px 2px rgba(0, 0, 0, 0.3));\n",
              "      fill: #FFFFFF;\n",
              "    }\n",
              "  </style>\n",
              "\n",
              "      <script>\n",
              "        const buttonEl =\n",
              "          document.querySelector('#df-d5ce7747-cd92-40d6-997b-53802c3bfc0a button.colab-df-convert');\n",
              "        buttonEl.style.display =\n",
              "          google.colab.kernel.accessAllowed ? 'block' : 'none';\n",
              "\n",
              "        async function convertToInteractive(key) {\n",
              "          const element = document.querySelector('#df-d5ce7747-cd92-40d6-997b-53802c3bfc0a');\n",
              "          const dataTable =\n",
              "            await google.colab.kernel.invokeFunction('convertToInteractive',\n",
              "                                                     [key], {});\n",
              "          if (!dataTable) return;\n",
              "\n",
              "          const docLinkHtml = 'Like what you see? Visit the ' +\n",
              "            '<a target=\"_blank\" href=https://colab.research.google.com/notebooks/data_table.ipynb>data table notebook</a>'\n",
              "            + ' to learn more about interactive tables.';\n",
              "          element.innerHTML = '';\n",
              "          dataTable['output_type'] = 'display_data';\n",
              "          await google.colab.output.renderOutput(dataTable, element);\n",
              "          const docLink = document.createElement('div');\n",
              "          docLink.innerHTML = docLinkHtml;\n",
              "          element.appendChild(docLink);\n",
              "        }\n",
              "      </script>\n",
              "    </div>\n",
              "  </div>\n",
              "  "
            ]
          },
          "metadata": {},
          "execution_count": 3
        }
      ]
    },
    {
      "cell_type": "markdown",
      "source": [
        "## Data Exploration"
      ],
      "metadata": {
        "id": "yCUMNHZ24B7J"
      }
    },
    {
      "cell_type": "code",
      "source": [
        "r_data.shape"
      ],
      "metadata": {
        "colab": {
          "base_uri": "https://localhost:8080/"
        },
        "id": "b2NwAJTD2PiQ",
        "outputId": "398ae8f8-1eb1-4db6-a830-9cb19dbd5b69"
      },
      "execution_count": null,
      "outputs": [
        {
          "output_type": "execute_result",
          "data": {
            "text/plain": [
              "(1000, 2)"
            ]
          },
          "metadata": {},
          "execution_count": 4
        }
      ]
    },
    {
      "cell_type": "code",
      "source": [
        "r_data.info()"
      ],
      "metadata": {
        "colab": {
          "base_uri": "https://localhost:8080/"
        },
        "id": "1CVp-SOF4JKp",
        "outputId": "fe5bca47-2632-4714-d93d-cbb97ae39a87"
      },
      "execution_count": null,
      "outputs": [
        {
          "output_type": "stream",
          "name": "stdout",
          "text": [
            "<class 'pandas.core.frame.DataFrame'>\n",
            "RangeIndex: 1000 entries, 0 to 999\n",
            "Data columns (total 2 columns):\n",
            " #   Column  Non-Null Count  Dtype \n",
            "---  ------  --------------  ----- \n",
            " 0   Review  1000 non-null   object\n",
            " 1   Liked   1000 non-null   int64 \n",
            "dtypes: int64(1), object(1)\n",
            "memory usage: 15.8+ KB\n"
          ]
        }
      ]
    },
    {
      "cell_type": "code",
      "source": [
        "r_data.columns"
      ],
      "metadata": {
        "colab": {
          "base_uri": "https://localhost:8080/"
        },
        "id": "kL52A62I4LVu",
        "outputId": "9f757fff-e264-41f7-cb13-866feb1376a4"
      },
      "execution_count": null,
      "outputs": [
        {
          "output_type": "execute_result",
          "data": {
            "text/plain": [
              "Index(['Review', 'Liked'], dtype='object')"
            ]
          },
          "metadata": {},
          "execution_count": 6
        }
      ]
    },
    {
      "cell_type": "markdown",
      "source": [
        "### Statistical Summary"
      ],
      "metadata": {
        "id": "-_sTi_S_4kXY"
      }
    },
    {
      "cell_type": "code",
      "source": [
        "r_data.describe()"
      ],
      "metadata": {
        "colab": {
          "base_uri": "https://localhost:8080/",
          "height": 300
        },
        "id": "fKfcoqet4Lbf",
        "outputId": "94041796-e5ed-4525-9bdb-438db25400e7"
      },
      "execution_count": null,
      "outputs": [
        {
          "output_type": "execute_result",
          "data": {
            "text/plain": [
              "            Liked\n",
              "count  1000.00000\n",
              "mean      0.50000\n",
              "std       0.50025\n",
              "min       0.00000\n",
              "25%       0.00000\n",
              "50%       0.50000\n",
              "75%       1.00000\n",
              "max       1.00000"
            ],
            "text/html": [
              "\n",
              "  <div id=\"df-ba967cef-3978-42b2-bf85-0d4fcd2fd645\">\n",
              "    <div class=\"colab-df-container\">\n",
              "      <div>\n",
              "<style scoped>\n",
              "    .dataframe tbody tr th:only-of-type {\n",
              "        vertical-align: middle;\n",
              "    }\n",
              "\n",
              "    .dataframe tbody tr th {\n",
              "        vertical-align: top;\n",
              "    }\n",
              "\n",
              "    .dataframe thead th {\n",
              "        text-align: right;\n",
              "    }\n",
              "</style>\n",
              "<table border=\"1\" class=\"dataframe\">\n",
              "  <thead>\n",
              "    <tr style=\"text-align: right;\">\n",
              "      <th></th>\n",
              "      <th>Liked</th>\n",
              "    </tr>\n",
              "  </thead>\n",
              "  <tbody>\n",
              "    <tr>\n",
              "      <th>count</th>\n",
              "      <td>1000.00000</td>\n",
              "    </tr>\n",
              "    <tr>\n",
              "      <th>mean</th>\n",
              "      <td>0.50000</td>\n",
              "    </tr>\n",
              "    <tr>\n",
              "      <th>std</th>\n",
              "      <td>0.50025</td>\n",
              "    </tr>\n",
              "    <tr>\n",
              "      <th>min</th>\n",
              "      <td>0.00000</td>\n",
              "    </tr>\n",
              "    <tr>\n",
              "      <th>25%</th>\n",
              "      <td>0.00000</td>\n",
              "    </tr>\n",
              "    <tr>\n",
              "      <th>50%</th>\n",
              "      <td>0.50000</td>\n",
              "    </tr>\n",
              "    <tr>\n",
              "      <th>75%</th>\n",
              "      <td>1.00000</td>\n",
              "    </tr>\n",
              "    <tr>\n",
              "      <th>max</th>\n",
              "      <td>1.00000</td>\n",
              "    </tr>\n",
              "  </tbody>\n",
              "</table>\n",
              "</div>\n",
              "      <button class=\"colab-df-convert\" onclick=\"convertToInteractive('df-ba967cef-3978-42b2-bf85-0d4fcd2fd645')\"\n",
              "              title=\"Convert this dataframe to an interactive table.\"\n",
              "              style=\"display:none;\">\n",
              "        \n",
              "  <svg xmlns=\"http://www.w3.org/2000/svg\" height=\"24px\"viewBox=\"0 0 24 24\"\n",
              "       width=\"24px\">\n",
              "    <path d=\"M0 0h24v24H0V0z\" fill=\"none\"/>\n",
              "    <path d=\"M18.56 5.44l.94 2.06.94-2.06 2.06-.94-2.06-.94-.94-2.06-.94 2.06-2.06.94zm-11 1L8.5 8.5l.94-2.06 2.06-.94-2.06-.94L8.5 2.5l-.94 2.06-2.06.94zm10 10l.94 2.06.94-2.06 2.06-.94-2.06-.94-.94-2.06-.94 2.06-2.06.94z\"/><path d=\"M17.41 7.96l-1.37-1.37c-.4-.4-.92-.59-1.43-.59-.52 0-1.04.2-1.43.59L10.3 9.45l-7.72 7.72c-.78.78-.78 2.05 0 2.83L4 21.41c.39.39.9.59 1.41.59.51 0 1.02-.2 1.41-.59l7.78-7.78 2.81-2.81c.8-.78.8-2.07 0-2.86zM5.41 20L4 18.59l7.72-7.72 1.47 1.35L5.41 20z\"/>\n",
              "  </svg>\n",
              "      </button>\n",
              "      \n",
              "  <style>\n",
              "    .colab-df-container {\n",
              "      display:flex;\n",
              "      flex-wrap:wrap;\n",
              "      gap: 12px;\n",
              "    }\n",
              "\n",
              "    .colab-df-convert {\n",
              "      background-color: #E8F0FE;\n",
              "      border: none;\n",
              "      border-radius: 50%;\n",
              "      cursor: pointer;\n",
              "      display: none;\n",
              "      fill: #1967D2;\n",
              "      height: 32px;\n",
              "      padding: 0 0 0 0;\n",
              "      width: 32px;\n",
              "    }\n",
              "\n",
              "    .colab-df-convert:hover {\n",
              "      background-color: #E2EBFA;\n",
              "      box-shadow: 0px 1px 2px rgba(60, 64, 67, 0.3), 0px 1px 3px 1px rgba(60, 64, 67, 0.15);\n",
              "      fill: #174EA6;\n",
              "    }\n",
              "\n",
              "    [theme=dark] .colab-df-convert {\n",
              "      background-color: #3B4455;\n",
              "      fill: #D2E3FC;\n",
              "    }\n",
              "\n",
              "    [theme=dark] .colab-df-convert:hover {\n",
              "      background-color: #434B5C;\n",
              "      box-shadow: 0px 1px 3px 1px rgba(0, 0, 0, 0.15);\n",
              "      filter: drop-shadow(0px 1px 2px rgba(0, 0, 0, 0.3));\n",
              "      fill: #FFFFFF;\n",
              "    }\n",
              "  </style>\n",
              "\n",
              "      <script>\n",
              "        const buttonEl =\n",
              "          document.querySelector('#df-ba967cef-3978-42b2-bf85-0d4fcd2fd645 button.colab-df-convert');\n",
              "        buttonEl.style.display =\n",
              "          google.colab.kernel.accessAllowed ? 'block' : 'none';\n",
              "\n",
              "        async function convertToInteractive(key) {\n",
              "          const element = document.querySelector('#df-ba967cef-3978-42b2-bf85-0d4fcd2fd645');\n",
              "          const dataTable =\n",
              "            await google.colab.kernel.invokeFunction('convertToInteractive',\n",
              "                                                     [key], {});\n",
              "          if (!dataTable) return;\n",
              "\n",
              "          const docLinkHtml = 'Like what you see? Visit the ' +\n",
              "            '<a target=\"_blank\" href=https://colab.research.google.com/notebooks/data_table.ipynb>data table notebook</a>'\n",
              "            + ' to learn more about interactive tables.';\n",
              "          element.innerHTML = '';\n",
              "          dataTable['output_type'] = 'display_data';\n",
              "          await google.colab.output.renderOutput(dataTable, element);\n",
              "          const docLink = document.createElement('div');\n",
              "          docLink.innerHTML = docLinkHtml;\n",
              "          element.appendChild(docLink);\n",
              "        }\n",
              "      </script>\n",
              "    </div>\n",
              "  </div>\n",
              "  "
            ]
          },
          "metadata": {},
          "execution_count": 7
        }
      ]
    },
    {
      "cell_type": "markdown",
      "source": [
        "## Dealing With Missing Values"
      ],
      "metadata": {
        "id": "925ZFYbW4yew"
      }
    },
    {
      "cell_type": "code",
      "source": [
        "r_data.isnull().values.any(), r_data.isnull().values.sum()"
      ],
      "metadata": {
        "colab": {
          "base_uri": "https://localhost:8080/"
        },
        "id": "RsQs7iRs4bnK",
        "outputId": "88664c2f-70a9-4e53-8647-181c41bd590c"
      },
      "execution_count": null,
      "outputs": [
        {
          "output_type": "execute_result",
          "data": {
            "text/plain": [
              "(False, 0)"
            ]
          },
          "metadata": {},
          "execution_count": 8
        }
      ]
    },
    {
      "cell_type": "markdown",
      "source": [
        "## CountPlot"
      ],
      "metadata": {
        "id": "tR7SOwCt5Yqd"
      }
    },
    {
      "cell_type": "code",
      "source": [
        "sns.countplot(r_data[\"Liked\"])"
      ],
      "metadata": {
        "colab": {
          "base_uri": "https://localhost:8080/",
          "height": 282
        },
        "id": "5WOsJRWq49az",
        "outputId": "8e14eb56-f8c8-4b2d-8732-6924734074f2"
      },
      "execution_count": null,
      "outputs": [
        {
          "output_type": "execute_result",
          "data": {
            "text/plain": [
              "<Axes: ylabel='count'>"
            ]
          },
          "metadata": {},
          "execution_count": 9
        },
        {
          "output_type": "display_data",
          "data": {
            "text/plain": [
              "<Figure size 432x288 with 1 Axes>"
            ],
            "image/png": "[encoded data removed]"
          },
          "metadata": {
            "needs_background": "light"
          }
        }
      ]
    },
    {
      "cell_type": "code",
      "source": [
        "# Positive Reviews\n",
        "\n",
        "(r_data.Liked == 1).sum()"
      ],
      "metadata": {
        "colab": {
          "base_uri": "https://localhost:8080/"
        },
        "id": "qgP4wpO_49eh",
        "outputId": "431339c6-c580-4de6-e20c-3716fa220010"
      },
      "execution_count": null,
      "outputs": [
        {
          "output_type": "execute_result",
          "data": {
            "text/plain": [
              "500"
            ]
          },
          "metadata": {},
          "execution_count": 10
        }
      ]
    },
    {
      "cell_type": "code",
      "source": [
        "# Negative Reviews\n",
        "\n",
        "(r_data.Liked == 0).sum()"
      ],
      "metadata": {
        "colab": {
          "base_uri": "https://localhost:8080/"
        },
        "id": "Tt5LdtZj49h5",
        "outputId": "8dae220e-15be-4a50-a426-88f5dba69b48"
      },
      "execution_count": null,
      "outputs": [
        {
          "output_type": "execute_result",
          "data": {
            "text/plain": [
              "500"
            ]
          },
          "metadata": {},
          "execution_count": 11
        }
      ]
    },
    {
      "cell_type": "markdown",
      "source": [
        "## Length Of Messages"
      ],
      "metadata": {
        "id": "kDr2kKeh-q40"
      }
    },
    {
      "cell_type": "code",
      "source": [
        "r_data.head(-5)"
      ],
      "metadata": {
        "colab": {
          "base_uri": "https://localhost:8080/",
          "height": 423
        },
        "id": "AE-aDJLk-phF",
        "outputId": "8e008a59-5ead-4741-ee05-6ab3ef76c905"
      },
      "execution_count": null,
      "outputs": [
        {
          "output_type": "execute_result",
          "data": {
            "text/plain": [
              "                                                Review  Liked\n",
              "0                             Wow... Loved this place.      1\n",
              "1                                   Crust is not good.      0\n",
              "2            Not tasty and the texture was just nasty.      0\n",
              "3    Stopped by during the late May bank holiday of...      1\n",
              "4    The selection on the menu was great and so wer...      1\n",
              "..                                                 ...    ...\n",
              "990  The refried beans that came with my meal were ...      0\n",
              "991         Spend your money and time some place else.      0\n",
              "992  A lady at the table next to us found a live gr...      0\n",
              "993            the presentation of the food was awful.      0\n",
              "994           I can't tell you how disappointed I was.      0\n",
              "\n",
              "[995 rows x 2 columns]"
            ],
            "text/html": [
              "\n",
              "  <div id=\"df-65a30cdc-d0a9-4358-9961-4586958187a6\">\n",
              "    <div class=\"colab-df-container\">\n",
              "      <div>\n",
              "<style scoped>\n",
              "    .dataframe tbody tr th:only-of-type {\n",
              "        vertical-align: middle;\n",
              "    }\n",
              "\n",
              "    .dataframe tbody tr th {\n",
              "        vertical-align: top;\n",
              "    }\n",
              "\n",
              "    .dataframe thead th {\n",
              "        text-align: right;\n",
              "    }\n",
              "</style>\n",
              "<table border=\"1\" class=\"dataframe\">\n",
              "  <thead>\n",
              "    <tr style=\"text-align: right;\">\n",
              "      <th></th>\n",
              "      <th>Review</th>\n",
              "      <th>Liked</th>\n",
              "    </tr>\n",
              "  </thead>\n",
              "  <tbody>\n",
              "    <tr>\n",
              "      <th>0</th>\n",
              "      <td>Wow... Loved this place.</td>\n",
              "      <td>1</td>\n",
              "    </tr>\n",
              "    <tr>\n",
              "      <th>1</th>\n",
              "      <td>Crust is not good.</td>\n",
              "      <td>0</td>\n",
              "    </tr>\n",
              "    <tr>\n",
              "      <th>2</th>\n",
              "      <td>Not tasty and the texture was just nasty.</td>\n",
              "      <td>0</td>\n",
              "    </tr>\n",
              "    <tr>\n",
              "      <th>3</th>\n",
              "      <td>Stopped by during the late May bank holiday of...</td>\n",
              "      <td>1</td>\n",
              "    </tr>\n",
              "    <tr>\n",
              "      <th>4</th>\n",
              "      <td>The selection on the menu was great and so wer...</td>\n",
              "      <td>1</td>\n",
              "    </tr>\n",
              "    <tr>\n",
              "      <th>...</th>\n",
              "      <td>...</td>\n",
              "      <td>...</td>\n",
              "    </tr>\n",
              "    <tr>\n",
              "      <th>990</th>\n",
              "      <td>The refried beans that came with my meal were ...</td>\n",
              "      <td>0</td>\n",
              "    </tr>\n",
              "    <tr>\n",
              "      <th>991</th>\n",
              "      <td>Spend your money and time some place else.</td>\n",
              "      <td>0</td>\n",
              "    </tr>\n",
              "    <tr>\n",
              "      <th>992</th>\n",
              "      <td>A lady at the table next to us found a live gr...</td>\n",
              "      <td>0</td>\n",
              "    </tr>\n",
              "    <tr>\n",
              "      <th>993</th>\n",
              "      <td>the presentation of the food was awful.</td>\n",
              "      <td>0</td>\n",
              "    </tr>\n",
              "    <tr>\n",
              "      <th>994</th>\n",
              "      <td>I can't tell you how disappointed I was.</td>\n",
              "      <td>0</td>\n",
              "    </tr>\n",
              "  </tbody>\n",
              "</table>\n",
              "<p>995 rows × 2 columns</p>\n",
              "</div>\n",
              "      <button class=\"colab-df-convert\" onclick=\"convertToInteractive('df-65a30cdc-d0a9-4358-9961-4586958187a6')\"\n",
              "              title=\"Convert this dataframe to an interactive table.\"\n",
              "              style=\"display:none;\">\n",
              "        \n",
              "  <svg xmlns=\"http://www.w3.org/2000/svg\" height=\"24px\"viewBox=\"0 0 24 24\"\n",
              "       width=\"24px\">\n",
              "    <path d=\"M0 0h24v24H0V0z\" fill=\"none\"/>\n",
              "    <path d=\"M18.56 5.44l.94 2.06.94-2.06 2.06-.94-2.06-.94-.94-2.06-.94 2.06-2.06.94zm-11 1L8.5 8.5l.94-2.06 2.06-.94-2.06-.94L8.5 2.5l-.94 2.06-2.06.94zm10 10l.94 2.06.94-2.06 2.06-.94-2.06-.94-.94-2.06-.94 2.06-2.06.94z\"/><path d=\"M17.41 7.96l-1.37-1.37c-.4-.4-.92-.59-1.43-.59-.52 0-1.04.2-1.43.59L10.3 9.45l-7.72 7.72c-.78.78-.78 2.05 0 2.83L4 21.41c.39.39.9.59 1.41.59.51 0 1.02-.2 1.41-.59l7.78-7.78 2.81-2.81c.8-.78.8-2.07 0-2.86zM5.41 20L4 18.59l7.72-7.72 1.47 1.35L5.41 20z\"/>\n",
              "  </svg>\n",
              "      </button>\n",
              "      \n",
              "  <style>\n",
              "    .colab-df-container {\n",
              "      display:flex;\n",
              "      flex-wrap:wrap;\n",
              "      gap: 12px;\n",
              "    }\n",
              "\n",
              "    .colab-df-convert {\n",
              "      background-color: #E8F0FE;\n",
              "      border: none;\n",
              "      border-radius: 50%;\n",
              "      cursor: pointer;\n",
              "      display: none;\n",
              "      fill: #1967D2;\n",
              "      height: 32px;\n",
              "      padding: 0 0 0 0;\n",
              "      width: 32px;\n",
              "    }\n",
              "\n",
              "    .colab-df-convert:hover {\n",
              "      background-color: #E2EBFA;\n",
              "      box-shadow: 0px 1px 2px rgba(60, 64, 67, 0.3), 0px 1px 3px 1px rgba(60, 64, 67, 0.15);\n",
              "      fill: #174EA6;\n",
              "    }\n",
              "\n",
              "    [theme=dark] .colab-df-convert {\n",
              "      background-color: #3B4455;\n",
              "      fill: #D2E3FC;\n",
              "    }\n",
              "\n",
              "    [theme=dark] .colab-df-convert:hover {\n",
              "      background-color: #434B5C;\n",
              "      box-shadow: 0px 1px 3px 1px rgba(0, 0, 0, 0.15);\n",
              "      filter: drop-shadow(0px 1px 2px rgba(0, 0, 0, 0.3));\n",
              "      fill: #FFFFFF;\n",
              "    }\n",
              "  </style>\n",
              "\n",
              "      <script>\n",
              "        const buttonEl =\n",
              "          document.querySelector('#df-65a30cdc-d0a9-4358-9961-4586958187a6 button.colab-df-convert');\n",
              "        buttonEl.style.display =\n",
              "          google.colab.kernel.accessAllowed ? 'block' : 'none';\n",
              "\n",
              "        async function convertToInteractive(key) {\n",
              "          const element = document.querySelector('#df-65a30cdc-d0a9-4358-9961-4586958187a6');\n",
              "          const dataTable =\n",
              "            await google.colab.kernel.invokeFunction('convertToInteractive',\n",
              "                                                     [key], {});\n",
              "          if (!dataTable) return;\n",
              "\n",
              "          const docLinkHtml = 'Like what you see? Visit the ' +\n",
              "            '<a target=\"_blank\" href=https://colab.research.google.com/notebooks/data_table.ipynb>data table notebook</a>'\n",
              "            + ' to learn more about interactive tables.';\n",
              "          element.innerHTML = '';\n",
              "          dataTable['output_type'] = 'display_data';\n",
              "          await google.colab.output.renderOutput(dataTable, element);\n",
              "          const docLink = document.createElement('div');\n",
              "          docLink.innerHTML = docLinkHtml;\n",
              "          element.appendChild(docLink);\n",
              "        }\n",
              "      </script>\n",
              "    </div>\n",
              "  </div>\n",
              "  "
            ]
          },
          "metadata": {},
          "execution_count": 12
        }
      ]
    },
    {
      "cell_type": "code",
      "source": [
        "# Creating a new columns -\" Length Of Message\"- LOM\n",
        "\n",
        "r_data[\"LOM\"] = r_data[\"Review\"].apply(len)"
      ],
      "metadata": {
        "id": "GlMKawWV-pj9"
      },
      "execution_count": null,
      "outputs": []
    },
    {
      "cell_type": "code",
      "source": [
        "# Preview data head-tail\n",
        "\n",
        "r_data.head(-5)"
      ],
      "metadata": {
        "colab": {
          "base_uri": "https://localhost:8080/",
          "height": 423
        },
        "id": "WkTw5S-2-ppJ",
        "outputId": "9aa679d0-cd69-4fb0-d191-7e041055cc09"
      },
      "execution_count": null,
      "outputs": [
        {
          "output_type": "execute_result",
          "data": {
            "text/plain": [
              "                                                Review  Liked  LOM\n",
              "0                             Wow... Loved this place.      1   24\n",
              "1                                   Crust is not good.      0   18\n",
              "2            Not tasty and the texture was just nasty.      0   41\n",
              "3    Stopped by during the late May bank holiday of...      1   87\n",
              "4    The selection on the menu was great and so wer...      1   59\n",
              "..                                                 ...    ...  ...\n",
              "990  The refried beans that came with my meal were ...      0   90\n",
              "991         Spend your money and time some place else.      0   42\n",
              "992  A lady at the table next to us found a live gr...      0   75\n",
              "993            the presentation of the food was awful.      0   39\n",
              "994           I can't tell you how disappointed I was.      0   40\n",
              "\n",
              "[995 rows x 3 columns]"
            ],
            "text/html": [
              "\n",
              "  <div id=\"df-3e3f17bc-5b2e-423c-93e8-3578912f9dab\">\n",
              "    <div class=\"colab-df-container\">\n",
              "      <div>\n",
              "<style scoped>\n",
              "    .dataframe tbody tr th:only-of-type {\n",
              "        vertical-align: middle;\n",
              "    }\n",
              "\n",
              "    .dataframe tbody tr th {\n",
              "        vertical-align: top;\n",
              "    }\n",
              "\n",
              "    .dataframe thead th {\n",
              "        text-align: right;\n",
              "    }\n",
              "</style>\n",
              "<table border=\"1\" class=\"dataframe\">\n",
              "  <thead>\n",
              "    <tr style=\"text-align: right;\">\n",
              "      <th></th>\n",
              "      <th>Review</th>\n",
              "      <th>Liked</th>\n",
              "      <th>LOM</th>\n",
              "    </tr>\n",
              "  </thead>\n",
              "  <tbody>\n",
              "    <tr>\n",
              "      <th>0</th>\n",
              "      <td>Wow... Loved this place.</td>\n",
              "      <td>1</td>\n",
              "      <td>24</td>\n",
              "    </tr>\n",
              "    <tr>\n",
              "      <th>1</th>\n",
              "      <td>Crust is not good.</td>\n",
              "      <td>0</td>\n",
              "      <td>18</td>\n",
              "    </tr>\n",
              "    <tr>\n",
              "      <th>2</th>\n",
              "      <td>Not tasty and the texture was just nasty.</td>\n",
              "      <td>0</td>\n",
              "      <td>41</td>\n",
              "    </tr>\n",
              "    <tr>\n",
              "      <th>3</th>\n",
              "      <td>Stopped by during the late May bank holiday of...</td>\n",
              "      <td>1</td>\n",
              "      <td>87</td>\n",
              "    </tr>\n",
              "    <tr>\n",
              "      <th>4</th>\n",
              "      <td>The selection on the menu was great and so wer...</td>\n",
              "      <td>1</td>\n",
              "      <td>59</td>\n",
              "    </tr>\n",
              "    <tr>\n",
              "      <th>...</th>\n",
              "      <td>...</td>\n",
              "      <td>...</td>\n",
              "      <td>...</td>\n",
              "    </tr>\n",
              "    <tr>\n",
              "      <th>990</th>\n",
              "      <td>The refried beans that came with my meal were ...</td>\n",
              "      <td>0</td>\n",
              "      <td>90</td>\n",
              "    </tr>\n",
              "    <tr>\n",
              "      <th>991</th>\n",
              "      <td>Spend your money and time some place else.</td>\n",
              "      <td>0</td>\n",
              "      <td>42</td>\n",
              "    </tr>\n",
              "    <tr>\n",
              "      <th>992</th>\n",
              "      <td>A lady at the table next to us found a live gr...</td>\n",
              "      <td>0</td>\n",
              "      <td>75</td>\n",
              "    </tr>\n",
              "    <tr>\n",
              "      <th>993</th>\n",
              "      <td>the presentation of the food was awful.</td>\n",
              "      <td>0</td>\n",
              "      <td>39</td>\n",
              "    </tr>\n",
              "    <tr>\n",
              "      <th>994</th>\n",
              "      <td>I can't tell you how disappointed I was.</td>\n",
              "      <td>0</td>\n",
              "      <td>40</td>\n",
              "    </tr>\n",
              "  </tbody>\n",
              "</table>\n",
              "<p>995 rows × 3 columns</p>\n",
              "</div>\n",
              "      <button class=\"colab-df-convert\" onclick=\"convertToInteractive('df-3e3f17bc-5b2e-423c-93e8-3578912f9dab')\"\n",
              "              title=\"Convert this dataframe to an interactive table.\"\n",
              "              style=\"display:none;\">\n",
              "        \n",
              "  <svg xmlns=\"http://www.w3.org/2000/svg\" height=\"24px\"viewBox=\"0 0 24 24\"\n",
              "       width=\"24px\">\n",
              "    <path d=\"M0 0h24v24H0V0z\" fill=\"none\"/>\n",
              "    <path d=\"M18.56 5.44l.94 2.06.94-2.06 2.06-.94-2.06-.94-.94-2.06-.94 2.06-2.06.94zm-11 1L8.5 8.5l.94-2.06 2.06-.94-2.06-.94L8.5 2.5l-.94 2.06-2.06.94zm10 10l.94 2.06.94-2.06 2.06-.94-2.06-.94-.94-2.06-.94 2.06-2.06.94z\"/><path d=\"M17.41 7.96l-1.37-1.37c-.4-.4-.92-.59-1.43-.59-.52 0-1.04.2-1.43.59L10.3 9.45l-7.72 7.72c-.78.78-.78 2.05 0 2.83L4 21.41c.39.39.9.59 1.41.59.51 0 1.02-.2 1.41-.59l7.78-7.78 2.81-2.81c.8-.78.8-2.07 0-2.86zM5.41 20L4 18.59l7.72-7.72 1.47 1.35L5.41 20z\"/>\n",
              "  </svg>\n",
              "      </button>\n",
              "      \n",
              "  <style>\n",
              "    .colab-df-container {\n",
              "      display:flex;\n",
              "      flex-wrap:wrap;\n",
              "      gap: 12px;\n",
              "    }\n",
              "\n",
              "    .colab-df-convert {\n",
              "      background-color: #E8F0FE;\n",
              "      border: none;\n",
              "      border-radius: 50%;\n",
              "      cursor: pointer;\n",
              "      display: none;\n",
              "      fill: #1967D2;\n",
              "      height: 32px;\n",
              "      padding: 0 0 0 0;\n",
              "      width: 32px;\n",
              "    }\n",
              "\n",
              "    .colab-df-convert:hover {\n",
              "      background-color: #E2EBFA;\n",
              "      box-shadow: 0px 1px 2px rgba(60, 64, 67, 0.3), 0px 1px 3px 1px rgba(60, 64, 67, 0.15);\n",
              "      fill: #174EA6;\n",
              "    }\n",
              "\n",
              "    [theme=dark] .colab-df-convert {\n",
              "      background-color: #3B4455;\n",
              "      fill: #D2E3FC;\n",
              "    }\n",
              "\n",
              "    [theme=dark] .colab-df-convert:hover {\n",
              "      background-color: #434B5C;\n",
              "      box-shadow: 0px 1px 3px 1px rgba(0, 0, 0, 0.15);\n",
              "      filter: drop-shadow(0px 1px 2px rgba(0, 0, 0, 0.3));\n",
              "      fill: #FFFFFF;\n",
              "    }\n",
              "  </style>\n",
              "\n",
              "      <script>\n",
              "        const buttonEl =\n",
              "          document.querySelector('#df-3e3f17bc-5b2e-423c-93e8-3578912f9dab button.colab-df-convert');\n",
              "        buttonEl.style.display =\n",
              "          google.colab.kernel.accessAllowed ? 'block' : 'none';\n",
              "\n",
              "        async function convertToInteractive(key) {\n",
              "          const element = document.querySelector('#df-3e3f17bc-5b2e-423c-93e8-3578912f9dab');\n",
              "          const dataTable =\n",
              "            await google.colab.kernel.invokeFunction('convertToInteractive',\n",
              "                                                     [key], {});\n",
              "          if (!dataTable) return;\n",
              "\n",
              "          const docLinkHtml = 'Like what you see? Visit the ' +\n",
              "            '<a target=\"_blank\" href=https://colab.research.google.com/notebooks/data_table.ipynb>data table notebook</a>'\n",
              "            + ' to learn more about interactive tables.';\n",
              "          element.innerHTML = '';\n",
              "          dataTable['output_type'] = 'display_data';\n",
              "          await google.colab.output.renderOutput(dataTable, element);\n",
              "          const docLink = document.createElement('div');\n",
              "          docLink.innerHTML = docLinkHtml;\n",
              "          element.appendChild(docLink);\n",
              "        }\n",
              "      </script>\n",
              "    </div>\n",
              "  </div>\n",
              "  "
            ]
          },
          "metadata": {},
          "execution_count": 14
        }
      ]
    },
    {
      "cell_type": "markdown",
      "source": [
        "### Histogram"
      ],
      "metadata": {
        "id": "XPmSkzGy__t0"
      }
    },
    {
      "cell_type": "code",
      "source": [
        "r_data[\"LOM\"].plot(bins= 100, kind= \"hist\", )"
      ],
      "metadata": {
        "colab": {
          "base_uri": "https://localhost:8080/",
          "height": 282
        },
        "id": "pkI1-val4btm",
        "outputId": "af6a89d5-79a3-4cdc-8e27-41a34ed5fe2d"
      },
      "execution_count": null,
      "outputs": [
        {
          "output_type": "execute_result",
          "data": {
            "text/plain": [
              "<Axes: ylabel='Frequency'>"
            ]
          },
          "metadata": {},
          "execution_count": 15
        },
        {
          "output_type": "display_data",
          "data": {
            "text/plain": [
              "<Figure size 432x288 with 1 Axes>"
            ],
            "image/png": "[encoded data removed]"
          },
          "metadata": {
            "needs_background": "light"
          }
        }
      ]
    },
    {
      "cell_type": "code",
      "source": [
        "# Checking statistical Summary of LOM\n",
        "\n",
        "r_data.LOM.describe()"
      ],
      "metadata": {
        "colab": {
          "base_uri": "https://localhost:8080/"
        },
        "id": "EY-cyu8AAlE5",
        "outputId": "892a4446-1233-4540-cf64-49fcd333b6be"
      },
      "execution_count": null,
      "outputs": [
        {
          "output_type": "execute_result",
          "data": {
            "text/plain": [
              "count    1000.000000\n",
              "mean       58.315000\n",
              "std        32.360052\n",
              "min        11.000000\n",
              "25%        33.000000\n",
              "50%        51.000000\n",
              "75%        80.000000\n",
              "max       149.000000\n",
              "Name: LOM, dtype: float64"
            ]
          },
          "metadata": {},
          "execution_count": 16
        }
      ]
    },
    {
      "cell_type": "code",
      "source": [
        "# Getting the Longest Message in dataset\n",
        "\n",
        "r_data[r_data[\"LOM\"] == 149][\"Review\"].iloc[0]"
      ],
      "metadata": {
        "colab": {
          "base_uri": "https://localhost:8080/",
          "height": 35
        },
        "id": "X5sL7EzvAlH1",
        "outputId": "9ee39e8e-4130-41e9-9456-15bd01d5ddb6"
      },
      "execution_count": null,
      "outputs": [
        {
          "output_type": "execute_result",
          "data": {
            "text/plain": [
              "'The problem I have is that they charge $11.99 for a sandwich that is no bigger than a Subway sub (which offers better and more amount of vegetables).'"
            ],
            "application/vnd.google.colaboratory.intrinsic+json": {
              "type": "string"
            }
          },
          "metadata": {},
          "execution_count": 17
        }
      ]
    },
    {
      "cell_type": "code",
      "source": [
        "# Getting the Shortest Message in dataset\n",
        "\n",
        "r_data[r_data[\"LOM\"] == 11][\"Review\"].iloc[0]"
      ],
      "metadata": {
        "colab": {
          "base_uri": "https://localhost:8080/",
          "height": 35
        },
        "id": "lh7XJRfTAlLG",
        "outputId": "23a421e7-adff-473d-fa8a-a397f5f4ddc9"
      },
      "execution_count": null,
      "outputs": [
        {
          "output_type": "execute_result",
          "data": {
            "text/plain": [
              "'DELICIOUS!!'"
            ],
            "application/vnd.google.colaboratory.intrinsic+json": {
              "type": "string"
            }
          },
          "metadata": {},
          "execution_count": 18
        }
      ]
    },
    {
      "cell_type": "code",
      "source": [
        "# Creating 2 Variable Positive & Negative\n",
        "\n",
        "positive = r_data[r_data[\"Liked\"] == 1]\n",
        "negative = r_data[r_data[\"Liked\"] == 0]"
      ],
      "metadata": {
        "id": "riSThu3sAlOg"
      },
      "execution_count": null,
      "outputs": []
    },
    {
      "cell_type": "code",
      "source": [
        "# Prview positive\n",
        "\n",
        "positive.head(-5)"
      ],
      "metadata": {
        "id": "qPPxGmmB4Lej",
        "colab": {
          "base_uri": "https://localhost:8080/",
          "height": 423
        },
        "outputId": "a3e3c2a3-d391-46fc-a6f4-38fbce05cdca"
      },
      "execution_count": null,
      "outputs": [
        {
          "output_type": "execute_result",
          "data": {
            "text/plain": [
              "                                                Review  Liked  LOM\n",
              "0                             Wow... Loved this place.      1   24\n",
              "3    Stopped by during the late May bank holiday of...      1   87\n",
              "4    The selection on the menu was great and so wer...      1   59\n",
              "8                            The fries were great too.      1   25\n",
              "9                                       A great touch.      1   14\n",
              "..                                                 ...    ...  ...\n",
              "891  Their rotating beers on tap is also a highligh...      1   62\n",
              "894  If you stay in Vegas you must get breakfast he...      1   63\n",
              "895  I want to first say our server was great and w...      1   68\n",
              "896                     The pizza selections are good.      1   30\n",
              "897              I had strawberry tea, which was good.      1   37\n",
              "\n",
              "[495 rows x 3 columns]"
            ],
            "text/html": [
              "\n",
              "  <div id=\"df-7005ba27-c157-4808-9765-844a8562348d\">\n",
              "    <div class=\"colab-df-container\">\n",
              "      <div>\n",
              "<style scoped>\n",
              "    .dataframe tbody tr th:only-of-type {\n",
              "        vertical-align: middle;\n",
              "    }\n",
              "\n",
              "    .dataframe tbody tr th {\n",
              "        vertical-align: top;\n",
              "    }\n",
              "\n",
              "    .dataframe thead th {\n",
              "        text-align: right;\n",
              "    }\n",
              "</style>\n",
              "<table border=\"1\" class=\"dataframe\">\n",
              "  <thead>\n",
              "    <tr style=\"text-align: right;\">\n",
              "      <th></th>\n",
              "      <th>Review</th>\n",
              "      <th>Liked</th>\n",
              "      <th>LOM</th>\n",
              "    </tr>\n",
              "  </thead>\n",
              "  <tbody>\n",
              "    <tr>\n",
              "      <th>0</th>\n",
              "      <td>Wow... Loved this place.</td>\n",
              "      <td>1</td>\n",
              "      <td>24</td>\n",
              "    </tr>\n",
              "    <tr>\n",
              "      <th>3</th>\n",
              "      <td>Stopped by during the late May bank holiday of...</td>\n",
              "      <td>1</td>\n",
              "      <td>87</td>\n",
              "    </tr>\n",
              "    <tr>\n",
              "      <th>4</th>\n",
              "      <td>The selection on the menu was great and so wer...</td>\n",
              "      <td>1</td>\n",
              "      <td>59</td>\n",
              "    </tr>\n",
              "    <tr>\n",
              "      <th>8</th>\n",
              "      <td>The fries were great too.</td>\n",
              "      <td>1</td>\n",
              "      <td>25</td>\n",
              "    </tr>\n",
              "    <tr>\n",
              "      <th>9</th>\n",
              "      <td>A great touch.</td>\n",
              "      <td>1</td>\n",
              "      <td>14</td>\n",
              "    </tr>\n",
              "    <tr>\n",
              "      <th>...</th>\n",
              "      <td>...</td>\n",
              "      <td>...</td>\n",
              "      <td>...</td>\n",
              "    </tr>\n",
              "    <tr>\n",
              "      <th>891</th>\n",
              "      <td>Their rotating beers on tap is also a highligh...</td>\n",
              "      <td>1</td>\n",
              "      <td>62</td>\n",
              "    </tr>\n",
              "    <tr>\n",
              "      <th>894</th>\n",
              "      <td>If you stay in Vegas you must get breakfast he...</td>\n",
              "      <td>1</td>\n",
              "      <td>63</td>\n",
              "    </tr>\n",
              "    <tr>\n",
              "      <th>895</th>\n",
              "      <td>I want to first say our server was great and w...</td>\n",
              "      <td>1</td>\n",
              "      <td>68</td>\n",
              "    </tr>\n",
              "    <tr>\n",
              "      <th>896</th>\n",
              "      <td>The pizza selections are good.</td>\n",
              "      <td>1</td>\n",
              "      <td>30</td>\n",
              "    </tr>\n",
              "    <tr>\n",
              "      <th>897</th>\n",
              "      <td>I had strawberry tea, which was good.</td>\n",
              "      <td>1</td>\n",
              "      <td>37</td>\n",
              "    </tr>\n",
              "  </tbody>\n",
              "</table>\n",
              "<p>495 rows × 3 columns</p>\n",
              "</div>\n",
              "      <button class=\"colab-df-convert\" onclick=\"convertToInteractive('df-7005ba27-c157-4808-9765-844a8562348d')\"\n",
              "              title=\"Convert this dataframe to an interactive table.\"\n",
              "              style=\"display:none;\">\n",
              "        \n",
              "  <svg xmlns=\"http://www.w3.org/2000/svg\" height=\"24px\"viewBox=\"0 0 24 24\"\n",
              "       width=\"24px\">\n",
              "    <path d=\"M0 0h24v24H0V0z\" fill=\"none\"/>\n",
              "    <path d=\"M18.56 5.44l.94 2.06.94-2.06 2.06-.94-2.06-.94-.94-2.06-.94 2.06-2.06.94zm-11 1L8.5 8.5l.94-2.06 2.06-.94-2.06-.94L8.5 2.5l-.94 2.06-2.06.94zm10 10l.94 2.06.94-2.06 2.06-.94-2.06-.94-.94-2.06-.94 2.06-2.06.94z\"/><path d=\"M17.41 7.96l-1.37-1.37c-.4-.4-.92-.59-1.43-.59-.52 0-1.04.2-1.43.59L10.3 9.45l-7.72 7.72c-.78.78-.78 2.05 0 2.83L4 21.41c.39.39.9.59 1.41.59.51 0 1.02-.2 1.41-.59l7.78-7.78 2.81-2.81c.8-.78.8-2.07 0-2.86zM5.41 20L4 18.59l7.72-7.72 1.47 1.35L5.41 20z\"/>\n",
              "  </svg>\n",
              "      </button>\n",
              "      \n",
              "  <style>\n",
              "    .colab-df-container {\n",
              "      display:flex;\n",
              "      flex-wrap:wrap;\n",
              "      gap: 12px;\n",
              "    }\n",
              "\n",
              "    .colab-df-convert {\n",
              "      background-color: #E8F0FE;\n",
              "      border: none;\n",
              "      border-radius: 50%;\n",
              "      cursor: pointer;\n",
              "      display: none;\n",
              "      fill: #1967D2;\n",
              "      height: 32px;\n",
              "      padding: 0 0 0 0;\n",
              "      width: 32px;\n",
              "    }\n",
              "\n",
              "    .colab-df-convert:hover {\n",
              "      background-color: #E2EBFA;\n",
              "      box-shadow: 0px 1px 2px rgba(60, 64, 67, 0.3), 0px 1px 3px 1px rgba(60, 64, 67, 0.15);\n",
              "      fill: #174EA6;\n",
              "    }\n",
              "\n",
              "    [theme=dark] .colab-df-convert {\n",
              "      background-color: #3B4455;\n",
              "      fill: #D2E3FC;\n",
              "    }\n",
              "\n",
              "    [theme=dark] .colab-df-convert:hover {\n",
              "      background-color: #434B5C;\n",
              "      box-shadow: 0px 1px 3px 1px rgba(0, 0, 0, 0.15);\n",
              "      filter: drop-shadow(0px 1px 2px rgba(0, 0, 0, 0.3));\n",
              "      fill: #FFFFFF;\n",
              "    }\n",
              "  </style>\n",
              "\n",
              "      <script>\n",
              "        const buttonEl =\n",
              "          document.querySelector('#df-7005ba27-c157-4808-9765-844a8562348d button.colab-df-convert');\n",
              "        buttonEl.style.display =\n",
              "          google.colab.kernel.accessAllowed ? 'block' : 'none';\n",
              "\n",
              "        async function convertToInteractive(key) {\n",
              "          const element = document.querySelector('#df-7005ba27-c157-4808-9765-844a8562348d');\n",
              "          const dataTable =\n",
              "            await google.colab.kernel.invokeFunction('convertToInteractive',\n",
              "                                                     [key], {});\n",
              "          if (!dataTable) return;\n",
              "\n",
              "          const docLinkHtml = 'Like what you see? Visit the ' +\n",
              "            '<a target=\"_blank\" href=https://colab.research.google.com/notebooks/data_table.ipynb>data table notebook</a>'\n",
              "            + ' to learn more about interactive tables.';\n",
              "          element.innerHTML = '';\n",
              "          dataTable['output_type'] = 'display_data';\n",
              "          await google.colab.output.renderOutput(dataTable, element);\n",
              "          const docLink = document.createElement('div');\n",
              "          docLink.innerHTML = docLinkHtml;\n",
              "          element.appendChild(docLink);\n",
              "        }\n",
              "      </script>\n",
              "    </div>\n",
              "  </div>\n",
              "  "
            ]
          },
          "metadata": {},
          "execution_count": 20
        }
      ]
    },
    {
      "cell_type": "code",
      "source": [
        "# Preview Negative\n",
        "\n",
        "negative.head(-5)"
      ],
      "metadata": {
        "colab": {
          "base_uri": "https://localhost:8080/",
          "height": 423
        },
        "id": "cOGJTQo7DPXV",
        "outputId": "c6b8a32d-7f0b-4da1-dbe5-432f8689d909"
      },
      "execution_count": null,
      "outputs": [
        {
          "output_type": "execute_result",
          "data": {
            "text/plain": [
              "                                                Review  Liked  LOM\n",
              "1                                   Crust is not good.      0   18\n",
              "2            Not tasty and the texture was just nasty.      0   41\n",
              "5       Now I am getting angry and I want my damn pho.      0   46\n",
              "6                Honeslty it didn't taste THAT fresh.)      0   37\n",
              "7    The potatoes were like rubber and you could te...      0  111\n",
              "..                                                 ...    ...  ...\n",
              "990  The refried beans that came with my meal were ...      0   90\n",
              "991         Spend your money and time some place else.      0   42\n",
              "992  A lady at the table next to us found a live gr...      0   75\n",
              "993            the presentation of the food was awful.      0   39\n",
              "994           I can't tell you how disappointed I was.      0   40\n",
              "\n",
              "[495 rows x 3 columns]"
            ],
            "text/html": [
              "\n",
              "  <div id=\"df-9ee639a9-640f-41ae-841a-5305a7427684\">\n",
              "    <div class=\"colab-df-container\">\n",
              "      <div>\n",
              "<style scoped>\n",
              "    .dataframe tbody tr th:only-of-type {\n",
              "        vertical-align: middle;\n",
              "    }\n",
              "\n",
              "    .dataframe tbody tr th {\n",
              "        vertical-align: top;\n",
              "    }\n",
              "\n",
              "    .dataframe thead th {\n",
              "        text-align: right;\n",
              "    }\n",
              "</style>\n",
              "<table border=\"1\" class=\"dataframe\">\n",
              "  <thead>\n",
              "    <tr style=\"text-align: right;\">\n",
              "      <th></th>\n",
              "      <th>Review</th>\n",
              "      <th>Liked</th>\n",
              "      <th>LOM</th>\n",
              "    </tr>\n",
              "  </thead>\n",
              "  <tbody>\n",
              "    <tr>\n",
              "      <th>1</th>\n",
              "      <td>Crust is not good.</td>\n",
              "      <td>0</td>\n",
              "      <td>18</td>\n",
              "    </tr>\n",
              "    <tr>\n",
              "      <th>2</th>\n",
              "      <td>Not tasty and the texture was just nasty.</td>\n",
              "      <td>0</td>\n",
              "      <td>41</td>\n",
              "    </tr>\n",
              "    <tr>\n",
              "      <th>5</th>\n",
              "      <td>Now I am getting angry and I want my damn pho.</td>\n",
              "      <td>0</td>\n",
              "      <td>46</td>\n",
              "    </tr>\n",
              "    <tr>\n",
              "      <th>6</th>\n",
              "      <td>Honeslty it didn't taste THAT fresh.)</td>\n",
              "      <td>0</td>\n",
              "      <td>37</td>\n",
              "    </tr>\n",
              "    <tr>\n",
              "      <th>7</th>\n",
              "      <td>The potatoes were like rubber and you could te...</td>\n",
              "      <td>0</td>\n",
              "      <td>111</td>\n",
              "    </tr>\n",
              "    <tr>\n",
              "      <th>...</th>\n",
              "      <td>...</td>\n",
              "      <td>...</td>\n",
              "      <td>...</td>\n",
              "    </tr>\n",
              "    <tr>\n",
              "      <th>990</th>\n",
              "      <td>The refried beans that came with my meal were ...</td>\n",
              "      <td>0</td>\n",
              "      <td>90</td>\n",
              "    </tr>\n",
              "    <tr>\n",
              "      <th>991</th>\n",
              "      <td>Spend your money and time some place else.</td>\n",
              "      <td>0</td>\n",
              "      <td>42</td>\n",
              "    </tr>\n",
              "    <tr>\n",
              "      <th>992</th>\n",
              "      <td>A lady at the table next to us found a live gr...</td>\n",
              "      <td>0</td>\n",
              "      <td>75</td>\n",
              "    </tr>\n",
              "    <tr>\n",
              "      <th>993</th>\n",
              "      <td>the presentation of the food was awful.</td>\n",
              "      <td>0</td>\n",
              "      <td>39</td>\n",
              "    </tr>\n",
              "    <tr>\n",
              "      <th>994</th>\n",
              "      <td>I can't tell you how disappointed I was.</td>\n",
              "      <td>0</td>\n",
              "      <td>40</td>\n",
              "    </tr>\n",
              "  </tbody>\n",
              "</table>\n",
              "<p>495 rows × 3 columns</p>\n",
              "</div>\n",
              "      <button class=\"colab-df-convert\" onclick=\"convertToInteractive('df-9ee639a9-640f-41ae-841a-5305a7427684')\"\n",
              "              title=\"Convert this dataframe to an interactive table.\"\n",
              "              style=\"display:none;\">\n",
              "        \n",
              "  <svg xmlns=\"http://www.w3.org/2000/svg\" height=\"24px\"viewBox=\"0 0 24 24\"\n",
              "       width=\"24px\">\n",
              "    <path d=\"M0 0h24v24H0V0z\" fill=\"none\"/>\n",
              "    <path d=\"M18.56 5.44l.94 2.06.94-2.06 2.06-.94-2.06-.94-.94-2.06-.94 2.06-2.06.94zm-11 1L8.5 8.5l.94-2.06 2.06-.94-2.06-.94L8.5 2.5l-.94 2.06-2.06.94zm10 10l.94 2.06.94-2.06 2.06-.94-2.06-.94-.94-2.06-.94 2.06-2.06.94z\"/><path d=\"M17.41 7.96l-1.37-1.37c-.4-.4-.92-.59-1.43-.59-.52 0-1.04.2-1.43.59L10.3 9.45l-7.72 7.72c-.78.78-.78 2.05 0 2.83L4 21.41c.39.39.9.59 1.41.59.51 0 1.02-.2 1.41-.59l7.78-7.78 2.81-2.81c.8-.78.8-2.07 0-2.86zM5.41 20L4 18.59l7.72-7.72 1.47 1.35L5.41 20z\"/>\n",
              "  </svg>\n",
              "      </button>\n",
              "      \n",
              "  <style>\n",
              "    .colab-df-container {\n",
              "      display:flex;\n",
              "      flex-wrap:wrap;\n",
              "      gap: 12px;\n",
              "    }\n",
              "\n",
              "    .colab-df-convert {\n",
              "      background-color: #E8F0FE;\n",
              "      border: none;\n",
              "      border-radius: 50%;\n",
              "      cursor: pointer;\n",
              "      display: none;\n",
              "      fill: #1967D2;\n",
              "      height: 32px;\n",
              "      padding: 0 0 0 0;\n",
              "      width: 32px;\n",
              "    }\n",
              "\n",
              "    .colab-df-convert:hover {\n",
              "      background-color: #E2EBFA;\n",
              "      box-shadow: 0px 1px 2px rgba(60, 64, 67, 0.3), 0px 1px 3px 1px rgba(60, 64, 67, 0.15);\n",
              "      fill: #174EA6;\n",
              "    }\n",
              "\n",
              "    [theme=dark] .colab-df-convert {\n",
              "      background-color: #3B4455;\n",
              "      fill: #D2E3FC;\n",
              "    }\n",
              "\n",
              "    [theme=dark] .colab-df-convert:hover {\n",
              "      background-color: #434B5C;\n",
              "      box-shadow: 0px 1px 3px 1px rgba(0, 0, 0, 0.15);\n",
              "      filter: drop-shadow(0px 1px 2px rgba(0, 0, 0, 0.3));\n",
              "      fill: #FFFFFF;\n",
              "    }\n",
              "  </style>\n",
              "\n",
              "      <script>\n",
              "        const buttonEl =\n",
              "          document.querySelector('#df-9ee639a9-640f-41ae-841a-5305a7427684 button.colab-df-convert');\n",
              "        buttonEl.style.display =\n",
              "          google.colab.kernel.accessAllowed ? 'block' : 'none';\n",
              "\n",
              "        async function convertToInteractive(key) {\n",
              "          const element = document.querySelector('#df-9ee639a9-640f-41ae-841a-5305a7427684');\n",
              "          const dataTable =\n",
              "            await google.colab.kernel.invokeFunction('convertToInteractive',\n",
              "                                                     [key], {});\n",
              "          if (!dataTable) return;\n",
              "\n",
              "          const docLinkHtml = 'Like what you see? Visit the ' +\n",
              "            '<a target=\"_blank\" href=https://colab.research.google.com/notebooks/data_table.ipynb>data table notebook</a>'\n",
              "            + ' to learn more about interactive tables.';\n",
              "          element.innerHTML = '';\n",
              "          dataTable['output_type'] = 'display_data';\n",
              "          await google.colab.output.renderOutput(dataTable, element);\n",
              "          const docLink = document.createElement('div');\n",
              "          docLink.innerHTML = docLinkHtml;\n",
              "          element.appendChild(docLink);\n",
              "        }\n",
              "      </script>\n",
              "    </div>\n",
              "  </div>\n",
              "  "
            ]
          },
          "metadata": {},
          "execution_count": 21
        }
      ]
    },
    {
      "cell_type": "code",
      "source": [
        "# Check the Statistical Summary for Positive Reviews\n",
        "\n",
        "positive.describe()"
      ],
      "metadata": {
        "colab": {
          "base_uri": "https://localhost:8080/",
          "height": 300
        },
        "id": "LuJKAMtPDozN",
        "outputId": "9ec21d4d-e5a1-45bd-e1b5-e6012d4cf43d"
      },
      "execution_count": null,
      "outputs": [
        {
          "output_type": "execute_result",
          "data": {
            "text/plain": [
              "       Liked         LOM\n",
              "count  500.0  500.000000\n",
              "mean     1.0   55.880000\n",
              "std      0.0   30.219464\n",
              "min      1.0   11.000000\n",
              "25%      1.0   32.750000\n",
              "50%      1.0   49.500000\n",
              "75%      1.0   73.250000\n",
              "max      1.0  148.000000"
            ],
            "text/html": [
              "\n",
              "  <div id=\"df-cf2f31b8-be0f-4c3e-b021-23a27bc6dad2\">\n",
              "    <div class=\"colab-df-container\">\n",
              "      <div>\n",
              "<style scoped>\n",
              "    .dataframe tbody tr th:only-of-type {\n",
              "        vertical-align: middle;\n",
              "    }\n",
              "\n",
              "    .dataframe tbody tr th {\n",
              "        vertical-align: top;\n",
              "    }\n",
              "\n",
              "    .dataframe thead th {\n",
              "        text-align: right;\n",
              "    }\n",
              "</style>\n",
              "<table border=\"1\" class=\"dataframe\">\n",
              "  <thead>\n",
              "    <tr style=\"text-align: right;\">\n",
              "      <th></th>\n",
              "      <th>Liked</th>\n",
              "      <th>LOM</th>\n",
              "    </tr>\n",
              "  </thead>\n",
              "  <tbody>\n",
              "    <tr>\n",
              "      <th>count</th>\n",
              "      <td>500.0</td>\n",
              "      <td>500.000000</td>\n",
              "    </tr>\n",
              "    <tr>\n",
              "      <th>mean</th>\n",
              "      <td>1.0</td>\n",
              "      <td>55.880000</td>\n",
              "    </tr>\n",
              "    <tr>\n",
              "      <th>std</th>\n",
              "      <td>0.0</td>\n",
              "      <td>30.219464</td>\n",
              "    </tr>\n",
              "    <tr>\n",
              "      <th>min</th>\n",
              "      <td>1.0</td>\n",
              "      <td>11.000000</td>\n",
              "    </tr>\n",
              "    <tr>\n",
              "      <th>25%</th>\n",
              "      <td>1.0</td>\n",
              "      <td>32.750000</td>\n",
              "    </tr>\n",
              "    <tr>\n",
              "      <th>50%</th>\n",
              "      <td>1.0</td>\n",
              "      <td>49.500000</td>\n",
              "    </tr>\n",
              "    <tr>\n",
              "      <th>75%</th>\n",
              "      <td>1.0</td>\n",
              "      <td>73.250000</td>\n",
              "    </tr>\n",
              "    <tr>\n",
              "      <th>max</th>\n",
              "      <td>1.0</td>\n",
              "      <td>148.000000</td>\n",
              "    </tr>\n",
              "  </tbody>\n",
              "</table>\n",
              "</div>\n",
              "      <button class=\"colab-df-convert\" onclick=\"convertToInteractive('df-cf2f31b8-be0f-4c3e-b021-23a27bc6dad2')\"\n",
              "              title=\"Convert this dataframe to an interactive table.\"\n",
              "              style=\"display:none;\">\n",
              "        \n",
              "  <svg xmlns=\"http://www.w3.org/2000/svg\" height=\"24px\"viewBox=\"0 0 24 24\"\n",
              "       width=\"24px\">\n",
              "    <path d=\"M0 0h24v24H0V0z\" fill=\"none\"/>\n",
              "    <path d=\"M18.56 5.44l.94 2.06.94-2.06 2.06-.94-2.06-.94-.94-2.06-.94 2.06-2.06.94zm-11 1L8.5 8.5l.94-2.06 2.06-.94-2.06-.94L8.5 2.5l-.94 2.06-2.06.94zm10 10l.94 2.06.94-2.06 2.06-.94-2.06-.94-.94-2.06-.94 2.06-2.06.94z\"/><path d=\"M17.41 7.96l-1.37-1.37c-.4-.4-.92-.59-1.43-.59-.52 0-1.04.2-1.43.59L10.3 9.45l-7.72 7.72c-.78.78-.78 2.05 0 2.83L4 21.41c.39.39.9.59 1.41.59.51 0 1.02-.2 1.41-.59l7.78-7.78 2.81-2.81c.8-.78.8-2.07 0-2.86zM5.41 20L4 18.59l7.72-7.72 1.47 1.35L5.41 20z\"/>\n",
              "  </svg>\n",
              "      </button>\n",
              "      \n",
              "  <style>\n",
              "    .colab-df-container {\n",
              "      display:flex;\n",
              "      flex-wrap:wrap;\n",
              "      gap: 12px;\n",
              "    }\n",
              "\n",
              "    .colab-df-convert {\n",
              "      background-color: #E8F0FE;\n",
              "      border: none;\n",
              "      border-radius: 50%;\n",
              "      cursor: pointer;\n",
              "      display: none;\n",
              "      fill: #1967D2;\n",
              "      height: 32px;\n",
              "      padding: 0 0 0 0;\n",
              "      width: 32px;\n",
              "    }\n",
              "\n",
              "    .colab-df-convert:hover {\n",
              "      background-color: #E2EBFA;\n",
              "      box-shadow: 0px 1px 2px rgba(60, 64, 67, 0.3), 0px 1px 3px 1px rgba(60, 64, 67, 0.15);\n",
              "      fill: #174EA6;\n",
              "    }\n",
              "\n",
              "    [theme=dark] .colab-df-convert {\n",
              "      background-color: #3B4455;\n",
              "      fill: #D2E3FC;\n",
              "    }\n",
              "\n",
              "    [theme=dark] .colab-df-convert:hover {\n",
              "      background-color: #434B5C;\n",
              "      box-shadow: 0px 1px 3px 1px rgba(0, 0, 0, 0.15);\n",
              "      filter: drop-shadow(0px 1px 2px rgba(0, 0, 0, 0.3));\n",
              "      fill: #FFFFFF;\n",
              "    }\n",
              "  </style>\n",
              "\n",
              "      <script>\n",
              "        const buttonEl =\n",
              "          document.querySelector('#df-cf2f31b8-be0f-4c3e-b021-23a27bc6dad2 button.colab-df-convert');\n",
              "        buttonEl.style.display =\n",
              "          google.colab.kernel.accessAllowed ? 'block' : 'none';\n",
              "\n",
              "        async function convertToInteractive(key) {\n",
              "          const element = document.querySelector('#df-cf2f31b8-be0f-4c3e-b021-23a27bc6dad2');\n",
              "          const dataTable =\n",
              "            await google.colab.kernel.invokeFunction('convertToInteractive',\n",
              "                                                     [key], {});\n",
              "          if (!dataTable) return;\n",
              "\n",
              "          const docLinkHtml = 'Like what you see? Visit the ' +\n",
              "            '<a target=\"_blank\" href=https://colab.research.google.com/notebooks/data_table.ipynb>data table notebook</a>'\n",
              "            + ' to learn more about interactive tables.';\n",
              "          element.innerHTML = '';\n",
              "          dataTable['output_type'] = 'display_data';\n",
              "          await google.colab.output.renderOutput(dataTable, element);\n",
              "          const docLink = document.createElement('div');\n",
              "          docLink.innerHTML = docLinkHtml;\n",
              "          element.appendChild(docLink);\n",
              "        }\n",
              "      </script>\n",
              "    </div>\n",
              "  </div>\n",
              "  "
            ]
          },
          "metadata": {},
          "execution_count": 22
        }
      ]
    },
    {
      "cell_type": "code",
      "source": [
        "# Check the Statistical Summary for negative Reviews\n",
        "\n",
        "negative.describe()"
      ],
      "metadata": {
        "colab": {
          "base_uri": "https://localhost:8080/",
          "height": 300
        },
        "id": "q-Kfs5qDDo4z",
        "outputId": "a111e193-f3de-4217-e37e-a62e6d14e2a0"
      },
      "execution_count": null,
      "outputs": [
        {
          "output_type": "execute_result",
          "data": {
            "text/plain": [
              "       Liked         LOM\n",
              "count  500.0  500.000000\n",
              "mean     0.0   60.750000\n",
              "std      0.0   34.224935\n",
              "min      0.0   11.000000\n",
              "25%      0.0   33.000000\n",
              "50%      0.0   52.500000\n",
              "75%      0.0   84.000000\n",
              "max      0.0  149.000000"
            ],
            "text/html": [
              "\n",
              "  <div id=\"df-2e29e310-9bf6-40d3-bccd-bda1f96f015c\">\n",
              "    <div class=\"colab-df-container\">\n",
              "      <div>\n",
              "<style scoped>\n",
              "    .dataframe tbody tr th:only-of-type {\n",
              "        vertical-align: middle;\n",
              "    }\n",
              "\n",
              "    .dataframe tbody tr th {\n",
              "        vertical-align: top;\n",
              "    }\n",
              "\n",
              "    .dataframe thead th {\n",
              "        text-align: right;\n",
              "    }\n",
              "</style>\n",
              "<table border=\"1\" class=\"dataframe\">\n",
              "  <thead>\n",
              "    <tr style=\"text-align: right;\">\n",
              "      <th></th>\n",
              "      <th>Liked</th>\n",
              "      <th>LOM</th>\n",
              "    </tr>\n",
              "  </thead>\n",
              "  <tbody>\n",
              "    <tr>\n",
              "      <th>count</th>\n",
              "      <td>500.0</td>\n",
              "      <td>500.000000</td>\n",
              "    </tr>\n",
              "    <tr>\n",
              "      <th>mean</th>\n",
              "      <td>0.0</td>\n",
              "      <td>60.750000</td>\n",
              "    </tr>\n",
              "    <tr>\n",
              "      <th>std</th>\n",
              "      <td>0.0</td>\n",
              "      <td>34.224935</td>\n",
              "    </tr>\n",
              "    <tr>\n",
              "      <th>min</th>\n",
              "      <td>0.0</td>\n",
              "      <td>11.000000</td>\n",
              "    </tr>\n",
              "    <tr>\n",
              "      <th>25%</th>\n",
              "      <td>0.0</td>\n",
              "      <td>33.000000</td>\n",
              "    </tr>\n",
              "    <tr>\n",
              "      <th>50%</th>\n",
              "      <td>0.0</td>\n",
              "      <td>52.500000</td>\n",
              "    </tr>\n",
              "    <tr>\n",
              "      <th>75%</th>\n",
              "      <td>0.0</td>\n",
              "      <td>84.000000</td>\n",
              "    </tr>\n",
              "    <tr>\n",
              "      <th>max</th>\n",
              "      <td>0.0</td>\n",
              "      <td>149.000000</td>\n",
              "    </tr>\n",
              "  </tbody>\n",
              "</table>\n",
              "</div>\n",
              "      <button class=\"colab-df-convert\" onclick=\"convertToInteractive('df-2e29e310-9bf6-40d3-bccd-bda1f96f015c')\"\n",
              "              title=\"Convert this dataframe to an interactive table.\"\n",
              "              style=\"display:none;\">\n",
              "        \n",
              "  <svg xmlns=\"http://www.w3.org/2000/svg\" height=\"24px\"viewBox=\"0 0 24 24\"\n",
              "       width=\"24px\">\n",
              "    <path d=\"M0 0h24v24H0V0z\" fill=\"none\"/>\n",
              "    <path d=\"M18.56 5.44l.94 2.06.94-2.06 2.06-.94-2.06-.94-.94-2.06-.94 2.06-2.06.94zm-11 1L8.5 8.5l.94-2.06 2.06-.94-2.06-.94L8.5 2.5l-.94 2.06-2.06.94zm10 10l.94 2.06.94-2.06 2.06-.94-2.06-.94-.94-2.06-.94 2.06-2.06.94z\"/><path d=\"M17.41 7.96l-1.37-1.37c-.4-.4-.92-.59-1.43-.59-.52 0-1.04.2-1.43.59L10.3 9.45l-7.72 7.72c-.78.78-.78 2.05 0 2.83L4 21.41c.39.39.9.59 1.41.59.51 0 1.02-.2 1.41-.59l7.78-7.78 2.81-2.81c.8-.78.8-2.07 0-2.86zM5.41 20L4 18.59l7.72-7.72 1.47 1.35L5.41 20z\"/>\n",
              "  </svg>\n",
              "      </button>\n",
              "      \n",
              "  <style>\n",
              "    .colab-df-container {\n",
              "      display:flex;\n",
              "      flex-wrap:wrap;\n",
              "      gap: 12px;\n",
              "    }\n",
              "\n",
              "    .colab-df-convert {\n",
              "      background-color: #E8F0FE;\n",
              "      border: none;\n",
              "      border-radius: 50%;\n",
              "      cursor: pointer;\n",
              "      display: none;\n",
              "      fill: #1967D2;\n",
              "      height: 32px;\n",
              "      padding: 0 0 0 0;\n",
              "      width: 32px;\n",
              "    }\n",
              "\n",
              "    .colab-df-convert:hover {\n",
              "      background-color: #E2EBFA;\n",
              "      box-shadow: 0px 1px 2px rgba(60, 64, 67, 0.3), 0px 1px 3px 1px rgba(60, 64, 67, 0.15);\n",
              "      fill: #174EA6;\n",
              "    }\n",
              "\n",
              "    [theme=dark] .colab-df-convert {\n",
              "      background-color: #3B4455;\n",
              "      fill: #D2E3FC;\n",
              "    }\n",
              "\n",
              "    [theme=dark] .colab-df-convert:hover {\n",
              "      background-color: #434B5C;\n",
              "      box-shadow: 0px 1px 3px 1px rgba(0, 0, 0, 0.15);\n",
              "      filter: drop-shadow(0px 1px 2px rgba(0, 0, 0, 0.3));\n",
              "      fill: #FFFFFF;\n",
              "    }\n",
              "  </style>\n",
              "\n",
              "      <script>\n",
              "        const buttonEl =\n",
              "          document.querySelector('#df-2e29e310-9bf6-40d3-bccd-bda1f96f015c button.colab-df-convert');\n",
              "        buttonEl.style.display =\n",
              "          google.colab.kernel.accessAllowed ? 'block' : 'none';\n",
              "\n",
              "        async function convertToInteractive(key) {\n",
              "          const element = document.querySelector('#df-2e29e310-9bf6-40d3-bccd-bda1f96f015c');\n",
              "          const dataTable =\n",
              "            await google.colab.kernel.invokeFunction('convertToInteractive',\n",
              "                                                     [key], {});\n",
              "          if (!dataTable) return;\n",
              "\n",
              "          const docLinkHtml = 'Like what you see? Visit the ' +\n",
              "            '<a target=\"_blank\" href=https://colab.research.google.com/notebooks/data_table.ipynb>data table notebook</a>'\n",
              "            + ' to learn more about interactive tables.';\n",
              "          element.innerHTML = '';\n",
              "          dataTable['output_type'] = 'display_data';\n",
              "          await google.colab.output.renderOutput(dataTable, element);\n",
              "          const docLink = document.createElement('div');\n",
              "          docLink.innerHTML = docLinkHtml;\n",
              "          element.appendChild(docLink);\n",
              "        }\n",
              "      </script>\n",
              "    </div>\n",
              "  </div>\n",
              "  "
            ]
          },
          "metadata": {},
          "execution_count": 23
        }
      ]
    },
    {
      "cell_type": "markdown",
      "source": [
        "## Cleaning The Text"
      ],
      "metadata": {
        "id": "z4GiaPMJFqSl"
      }
    },
    {
      "cell_type": "code",
      "source": [
        "import re\n",
        "import nltk\n",
        "nltk.download(\"stopwords\")\n",
        "from nltk.corpus import stopwords\n",
        "from nltk.stem.porter import PorterStemmer"
      ],
      "metadata": {
        "colab": {
          "base_uri": "https://localhost:8080/"
        },
        "id": "TsESUh8lDo_u",
        "outputId": "bcd1c730-ff57-4430-ab22-2927ea0b04b5"
      },
      "execution_count": null,
      "outputs": [
        {
          "output_type": "stream",
          "name": "stderr",
          "text": [
            "[nltk_data] Downloading package stopwords to /root/nltk_data...\n",
            "[nltk_data]   Package stopwords is already up-to-date!\n"
          ]
        }
      ]
    },
    {
      "cell_type": "code",
      "source": [
        "# Create an empty list\n",
        "\n",
        "corpus = []\n",
        "\n",
        "for i in range (0, 1000):\n",
        "\n",
        "  # Define another variable\n",
        "  review = re.sub(\"^a-zA-Z\",\" \", r_data[\"Review\"][i])\n",
        "\n",
        "  # Redefine\n",
        "  review = review.lower()\n",
        "  review = review.split()\n",
        "\n",
        "  # Create an instance of the class - porterStemmer\n",
        "  ps = PorterStemmer()\n",
        "  all_stopwords = stopwords.words(\"english\")\n",
        "  all_stopwords.remove(\"not\")\n",
        "\n",
        "  # Applying the Stemmer\n",
        "  review = [ps.stem(word) for word in review if not word in set(all_stopwords)]\n",
        "  review = \" \".join(review)\n",
        "  corpus.append(review)"
      ],
      "metadata": {
        "id": "8-nF6FDUDpB9"
      },
      "execution_count": null,
      "outputs": []
    },
    {
      "cell_type": "code",
      "source": [
        "corpus"
      ],
      "metadata": {
        "id": "LobR9bWQGigV",
        "colab": {
          "base_uri": "https://localhost:8080/"
        },
        "outputId": "bd5bd48d-cff2-41b2-c84d-4b1b02ccf545"
      },
      "execution_count": null,
      "outputs": [
        {
          "output_type": "execute_result",
          "data": {
            "text/plain": [
              "['wow... love place.',\n",
              " 'crust not good.',\n",
              " 'not tasti textur nasty.',\n",
              " 'stop late may bank holiday rick steve recommend love it.',\n",
              " 'select menu great prices.',\n",
              " 'get angri want damn pho.',\n",
              " 'honeslti tast fresh.)',\n",
              " 'potato like rubber could tell made ahead time kept warmer.',\n",
              " 'fri great too.',\n",
              " 'great touch.',\n",
              " 'servic prompt.',\n",
              " 'would not go back.',\n",
              " 'cashier care ever say still end wayyy overpriced.',\n",
              " 'tri cape cod ravoli, chicken, cranberry...mmmm!',\n",
              " 'disgust pretti sure human hair.',\n",
              " 'shock sign indic cash only.',\n",
              " 'highli recommended.',\n",
              " 'waitress littl slow service.',\n",
              " 'place not worth time, let alon vegas.',\n",
              " 'not like all.',\n",
              " 'burritto blah!',\n",
              " 'food, amazing.',\n",
              " 'servic also cute.',\n",
              " 'could care less... interior beautiful.',\n",
              " 'performed.',\n",
              " \"that' right....th red velvet cake.....ohhh stuff good.\",\n",
              " '- never brought salad ask for.',\n",
              " 'hole wall great mexican street tacos, friendli staff.',\n",
              " 'took hour get food 4 tabl restaur food luke warm, sever run around like total overwhelmed.',\n",
              " 'worst salmon sashimi.',\n",
              " 'also combo like burger, fries, beer 23 decent deal.',\n",
              " 'like final blow!',\n",
              " 'found place accid could not happier.',\n",
              " 'seem like good quick place grab bite familiar pub food, favor look elsewhere.',\n",
              " 'overall, like place lot.',\n",
              " 'redeem qualiti restaur inexpensive.',\n",
              " 'ampl portion good prices.',\n",
              " 'poor service, waiter made feel like stupid everi time came table.',\n",
              " 'first visit hiro delight!',\n",
              " 'servic sucks.',\n",
              " 'shrimp tender moist.',\n",
              " 'not deal good enough would drag establish again.',\n",
              " 'hard judg whether side good gross melt styrofoam want eat fear get sick.',\n",
              " 'posit note, server attent provid great service.',\n",
              " 'frozen puck disgust, worst peopl behind register.',\n",
              " 'thing like prime rib dessert section.',\n",
              " 'bad food damn generic.',\n",
              " 'burger good beef, cook right.',\n",
              " 'want sandwich go firehouse!!!!!',\n",
              " 'side greek salad greek dress tasty, pita hummu refreshing.',\n",
              " 'order duck rare pink tender insid nice char outside.',\n",
              " 'came run us realiz husband left sunglass table.',\n",
              " 'chow mein good!',\n",
              " 'horribl attitud toward customers, talk one custom enjoy food.',\n",
              " 'portion huge!',\n",
              " 'love it...friendli servers, great food, wonder imagin menu.',\n",
              " 'heart attack grill downtown vega absolut flat-lin excus restaurant.',\n",
              " 'not much seafood like 5 string pasta bottom.',\n",
              " 'salad right amount sauc not power scallop, perfectli cooked.',\n",
              " 'rip banana not ripped, petrifi tasteless.',\n",
              " 'least think refil water struggl wave 10 minutes.',\n",
              " 'place receiv star appetizers!!!',\n",
              " 'cocktail handmad delicious.',\n",
              " \"we'd definit go back again.\",\n",
              " 'glad found place.',\n",
              " 'great food service, huge portion give militari discount.',\n",
              " 'alway great time do gringos!',\n",
              " 'update.....w back second time still amaz',\n",
              " 'got food appar never heard salt batter fish chewy.',\n",
              " 'great way finish great.',\n",
              " 'deal includ 5 tast 2 drinks, jeff went beyond expected.',\n",
              " '- really, realli good rice, time.',\n",
              " 'servic meh.',\n",
              " 'took 30 min get milkshake, noth chocol milk.',\n",
              " 'guess known place would suck, insid excalibur, use common sense.',\n",
              " 'scallop dish quit appal valu well.',\n",
              " '2 time - bad custom servic !',\n",
              " 'sweet potato fri good season well.',\n",
              " \"today second time i'v lunch buffet pretti good.\",\n",
              " 'much good food vega feel cheat wast eat opportun go rice company.',\n",
              " \"come like experienc underwhelm relationship parti can't wait person ask break up.\",\n",
              " 'walk place smell like old greas trap 2 other eating.',\n",
              " 'turkey roast beef bland.',\n",
              " 'place it!',\n",
              " 'pan cake everyon rave tast like sugari disast tailor palat six year old.',\n",
              " 'love pho spring roll oh yummi try.',\n",
              " 'poor batter meat ratio made chicken tender unsatisfying.',\n",
              " 'say food amazing!!!',\n",
              " 'omelet die for!',\n",
              " 'everyth fresh delicious!',\n",
              " 'summary, larg disappoint dine experience.',\n",
              " 'like realli sexi parti mouth, outrag flirt hottest person party.',\n",
              " 'never hard rock casino before, never ever step forward again!',\n",
              " 'best breakfast buffet!!!',\n",
              " 'say bye bye tip lady!',\n",
              " \"we'll never go again.\",\n",
              " 'back again!',\n",
              " 'food arriv quickly!',\n",
              " 'not good.',\n",
              " 'side, cafe serv realli good food.',\n",
              " 'server fantast found wife love roast garlic bone marrow, ad extra meal anoth marrow go!',\n",
              " \"good thing waiter, help kept bloddi mary' coming.\",\n",
              " 'best buffet town, price cannot beat it.',\n",
              " 'love mussel cook wine reduction, duck tender, potato dish delicious.',\n",
              " 'one better buffet to.',\n",
              " 'went tigerlilli fantast afternoon!',\n",
              " 'food delicious, bartend attent person got great deal!',\n",
              " 'ambienc wonder music playing.',\n",
              " 'go back next trip out.',\n",
              " 'sooooo good!!',\n",
              " \"real sushi lovers, let' honest - yama not good.\",\n",
              " 'least 40min pass us order food arriving, busy.',\n",
              " 'realli fantast thai restaur definit worth visit.',\n",
              " 'nice, spici tender.',\n",
              " 'good prices.',\n",
              " 'check out.',\n",
              " 'pretti gross!',\n",
              " \"i'v better atmosphere.\",\n",
              " 'kind hard mess steak did.',\n",
              " 'although much like look sound place, actual experi bit disappointing.',\n",
              " 'know place manag serv blandest food ever eaten prepar indian cuisine.',\n",
              " 'worst servic boot, least worries.',\n",
              " 'servic fine waitress friendly.',\n",
              " \"guy steaks, steak love son steak best worst place said best steak he' ever eaten.\",\n",
              " 'thought ventur away get good sushi, place realli hit spot night.',\n",
              " 'host staff were, lack better word, bitches!',\n",
              " \"bland... not like place number reason want wast time bad reviewing.. i'll leav that...\",\n",
              " 'phenomen food, servic ambiance.',\n",
              " 'return.',\n",
              " \"definit worth ventur strip pork belly, return next time i'm vegas.\",\n",
              " 'place way overpr mediocr food.',\n",
              " 'penn vodka excellent!',\n",
              " 'good select food includ massiv meatloaf sandwich, crispi chicken wrap, delish tuna melt tasti burgers.',\n",
              " 'manag rude.',\n",
              " 'delici nyc bagels, good select cream cheese, real lox caper even.',\n",
              " 'great subway, fact good come everi subway not meet expectations.',\n",
              " 'serious solid breakfast here.',\n",
              " 'one best bar food vegas.',\n",
              " 'extrem rude really, mani restaur would love dine weekend vegas.',\n",
              " 'drink never empti made realli great menu suggestions.',\n",
              " 'it!!!!',\n",
              " 'waiter help friendli rare check us.',\n",
              " 'husband ate lunch disappoint food service.',\n",
              " 'red curri much bamboo shoot tasti me.',\n",
              " 'nice blanket moz top feel like done cover subpar food.',\n",
              " 'bathroom clean place well decorated.',\n",
              " 'menu alway changing, food qualiti go & servic extrem slow.',\n",
              " 'servic littl slow , consid serv 3 peopl server food come slow pace.',\n",
              " 'give 2 thumb',\n",
              " 'watch waiter pay lot attent tabl ignor us.',\n",
              " 'fiancé came middl day greet seat right away.',\n",
              " 'great restaur mandalay bay.',\n",
              " 'wait forti five minut vain.',\n",
              " 'crostini came salad stale.',\n",
              " 'highlight : great qualiti nigiri here!',\n",
              " 'staff friendli joint alway clean.',\n",
              " 'differ cut piec day still wonder tender well well flavored.',\n",
              " \"order voodoo pasta first time i'd realli excel pasta sinc go gluten free sever year ago.\",\n",
              " 'place good.',\n",
              " 'unfortunately, must hit bakeri leftov day everyth order stale.',\n",
              " 'came back today sinc reloc still not impressed.',\n",
              " 'seat immediately.',\n",
              " 'menu diverse, reason priced.',\n",
              " 'avoid cost!',\n",
              " 'restaur alway full never wait.',\n",
              " 'delicious!!',\n",
              " 'place hands-down one best place eat phoenix metro area.',\n",
              " 'go look good food...',\n",
              " \"i'v never treat bad.\",\n",
              " 'bacon hella salty.',\n",
              " 'also order spinach avocado salad, ingredi sad dress liter zero taste.',\n",
              " 'realli vega fine dine use be, right menu hand ladi price listed.',\n",
              " 'waitress friendly.',\n",
              " 'lordy, khao soi dish not miss curri lovers!',\n",
              " 'everyth menu terrif also thrill made amaz accommod vegetarian daughter.',\n",
              " \"perhap caught night judg reviews, i'm not inspir go back.\",\n",
              " 'servic leav lot desired.',\n",
              " 'atmospher modern hip, maintain touch coziness.',\n",
              " 'not weekli haunt, definit place come back everi while.',\n",
              " 'liter sat 20 minut one ask take order.',\n",
              " 'burger absolut flavor - meat total bland, burger overcook charcoal flavor.',\n",
              " 'also decid not send back waitress look like verg heart attack.',\n",
              " 'dress treat rudely!',\n",
              " 'probabl dirt.',\n",
              " 'love place, hit spot want someth healthi not lack quantiti flavor.',\n",
              " 'order lemon raspberri ice cocktail also incredible.',\n",
              " 'food sucked, expect suck could imagined.',\n",
              " 'interest decor.',\n",
              " 'realli like crepe station.',\n",
              " 'also serv hot bread butter, home made potato chip bacon bit top....veri origin good.',\n",
              " 'watch prepar delici food!)',\n",
              " 'egg roll fantastic.',\n",
              " 'order arrived, one gyro missing.',\n",
              " 'salad wings, ice cream dessert left feel quit satisfied.',\n",
              " \"i'm not realli sure joey' vote best hot dog valley reader phoenix magazine.\",\n",
              " 'best place go tasti bowl pho!',\n",
              " 'live music friday total blows.',\n",
              " \"i'v never insult felt disrespected.\",\n",
              " 'friendli staff.',\n",
              " 'worth drive.',\n",
              " 'heard good thing place, exceed everi hope could dream of.',\n",
              " 'food great serivce!',\n",
              " 'warm beer help.',\n",
              " 'great brunch spot.',\n",
              " 'servic friendli inviting.',\n",
              " 'good lunch spot.',\n",
              " \"i'v live sinc 1979 first (and last) time i'v step foot place.\",\n",
              " 'worst experi ever.',\n",
              " 'must night place.',\n",
              " 'side delish - mix mushrooms, yukon gold puree, white corn - beateous.',\n",
              " 'bug never show would given 4 sure, side wall bug climb kitchen.',\n",
              " \"10 minutes, we'r wait salad realiz come time soon.\",\n",
              " 'friend love salmon tartar.',\n",
              " 'go back.',\n",
              " 'extrem tasty!',\n",
              " 'waitress good though!',\n",
              " 'soggi not good.',\n",
              " 'jamaican mojito delicious.',\n",
              " 'small not worth price.',\n",
              " '- food rich order accordingly.',\n",
              " 'shower area outsid rinse, not take full shower, unless mind nude everyon see!',\n",
              " 'servic bit lacking.',\n",
              " 'lobster bisque, bussel sprouts, risotto, filet need salt pepper..and cours none tables.',\n",
              " 'hope bode go busi someon cook come in.',\n",
              " 'either cold, not enough flavor bad.',\n",
              " 'love bacon wrap dates.',\n",
              " 'unbeliev bargain!',\n",
              " 'folk otto alway make us feel welcom special.',\n",
              " '\"mains,\" also uninspired.',\n",
              " 'place first pho amazing!!',\n",
              " 'wonder experi made place must-stop whenev town again.',\n",
              " \"food bad enough you, enjoy deal world' worst/annoy drunk people.\",\n",
              " 'fun chef.',\n",
              " 'order doubl cheeseburg & got singl patti fall apart (pictur uploaded) yeah, still sucks.',\n",
              " \"great place coupl drink watch sport event wall cover tv's.\",\n",
              " \"possibl give zero stars, they'd it.\",\n",
              " 'descript said \"yum yum sauce\" anoth said \"eel sauce\", yet anoth said \"spici mayo\"...wel none roll sauc them.',\n",
              " \"i'd say would hardest decision... honestly, m' dish tast suppos tast (amazing).\",\n",
              " 'not roll eye may stayed... not sure go back tri again.',\n",
              " 'everyon attentive, provid excel custom service.',\n",
              " 'horribl - wast time money.',\n",
              " 'dish quit flavourful.',\n",
              " 'time side restaur almost empti excuse.',\n",
              " '(it busi either) also, build freez cold.',\n",
              " 'like review said \"you pay eat place again.\"',\n",
              " '-drink took close 30 minut come one point.',\n",
              " 'serious flavor delights, folks.',\n",
              " 'much better ayc sushi place went vegas.',\n",
              " 'light dark enough set mood.',\n",
              " 'base sub-par servic receiv effort show gratitud busi go back.',\n",
              " \"owner' realli great people.!\",\n",
              " 'noth privileg working/ there.',\n",
              " 'greek dress creami flavorful.',\n",
              " 'overall, think would take parent place made similar complaint silent felt too.',\n",
              " 'pizza good peanut sauc tasty.',\n",
              " '7 tabl servic pretti fast.',\n",
              " 'fantast servic here.',\n",
              " \"well would'v given godfath zero star possible.\",\n",
              " 'know make here.',\n",
              " 'tough short flavor!',\n",
              " 'hope place stick around.',\n",
              " 'bar vegas, not ever recal charg tap water.',\n",
              " 'restaur atmospher exquisite.',\n",
              " 'good service, clean, inexpensive, boot!',\n",
              " 'seafood fresh gener portion.',\n",
              " 'plus, 8 bucks.',\n",
              " 'servic not par, either.',\n",
              " 'thu far, visit twice food absolut delici time.',\n",
              " 'good year ago!',\n",
              " 'self proclaim coffe cafe, wildli disappointed.',\n",
              " 'veggitarian platter world!',\n",
              " 'cant go wrong food here.',\n",
              " \"can't beat that.\",\n",
              " 'stop place madison ironman, friendly, kind staff.',\n",
              " 'chef friendli good job.',\n",
              " \"i'v better, not dedic boba tea spots, even jenni pho.\",\n",
              " 'like patio servic outstanding.',\n",
              " 'goat taco skimp meat wow flavor!',\n",
              " 'think not',\n",
              " 'mac salad pretti bland not get again.',\n",
              " \"went bachi burger friend' recommend not disappointed.\",\n",
              " 'servic stink here!',\n",
              " 'wait waited.',\n",
              " 'place not qualiti sushi, not qualiti restaurant.',\n",
              " 'would definit recommend wing well pizza.',\n",
              " 'great pizza salads!',\n",
              " 'thing went wrong: - burn saganaki.',\n",
              " 'wait hour breakfast could done 100 time better home.',\n",
              " 'place amazing!',\n",
              " 'hate disagre fellow yelpers, husband disappoint place.',\n",
              " 'wait 2 hour & never got either pizza mani around us came later did!',\n",
              " 'know slow.',\n",
              " 'staff great, food delish, incred beer selection.',\n",
              " 'live neighborhood disappoint back here, conveni location.',\n",
              " 'know pull pork could soooo delicious.',\n",
              " 'get incred fresh fish, prepar care.',\n",
              " 'go gave 1 star rate pleas know third time eat bachi burger write review.',\n",
              " 'love fact everyth menu worth it.',\n",
              " 'never dine place!',\n",
              " 'food excel servic good.',\n",
              " 'good beer & drink select good food selection.',\n",
              " 'pleas stay away shrimp stir fri noodles.',\n",
              " 'potato chip order sad... could probabl count mani chip box probabl around 12.',\n",
              " 'food realli boring.',\n",
              " 'good service-check!',\n",
              " 'greedi corpor never see anoth dime me!',\n",
              " 'never, ever go back.',\n",
              " \"much i'd like go back, can't get pass atroci servic never return.\",\n",
              " 'summer, dine charm outdoor patio - delightful.',\n",
              " 'not expect good!',\n",
              " 'fantast food!',\n",
              " 'order toast english muffin came untoasted.',\n",
              " 'food good.',\n",
              " 'never go back.',\n",
              " 'great food price, high qualiti hous made.',\n",
              " 'bu boy hand rude.',\n",
              " 'point, friend basic figur place joke mind make publicli loudli known.',\n",
              " 'back good bbq, lighter fare, reason price tell public back old ways.',\n",
              " \"consid two us left full happi $20, can't go wrong.\",\n",
              " 'bread made in-house!',\n",
              " 'downsid service.',\n",
              " \"also, fri without doubt worst fri i'v ever had.\",\n",
              " 'servic except food good reviews.',\n",
              " 'coupl month later, return amaz meal.',\n",
              " 'favorit place town shawarrrrrrma!!!!!!',\n",
              " 'black eye pea sweet potatoes... unreal!',\n",
              " 'disappointed.',\n",
              " 'could serv vinaigrett may make better overal dish, still good.',\n",
              " \"go far mani place i'v never seen restaur serv 1 egg breakfast, especi $4.00.\",\n",
              " 'mom got home immedi got sick bite salad.',\n",
              " 'server not pleasant deal alway honor pizza hut coupons.',\n",
              " 'truli unbeliev good, glad went back.',\n",
              " 'fantast service, pleas atmosphere.',\n",
              " 'everyth gross.',\n",
              " 'love place.',\n",
              " 'great servic food.',\n",
              " 'first - bathroom locat dirty- seat cover not replenish & plain yucky!!!',\n",
              " 'burger... got \"gold standard\" $17 burger kind disappointed.',\n",
              " 'omg, food delicioso!',\n",
              " 'noth authent place.',\n",
              " 'spaghetti noth special whatsoever.',\n",
              " 'dishes, salmon best, great.',\n",
              " 'veget fresh sauc feel like authent thai.',\n",
              " 'worth drive tucson!',\n",
              " \"select probabl worst i'v seen vegas.....ther none.\",\n",
              " 'pretti good beer select too.',\n",
              " 'place like chipotle, better.',\n",
              " 'classy/warm atmosphere, fun fresh appetizers, succul steak (basebal steak!!!!!',\n",
              " '5 star brick oven bread app!',\n",
              " 'eaten multipl times, time food delicious.',\n",
              " 'sat anoth ten minut final gave left.',\n",
              " 'terrible!',\n",
              " 'everyon treat equal special.',\n",
              " 'take 30 min pancak eggs.',\n",
              " 'delicious!!!',\n",
              " 'good side, staff genuin pleasant enthusiast - real treat.',\n",
              " \"sadly, gordon ramsey' steak place shall sharpli avoid next trip vegas.\",\n",
              " 'alway even wonder food delicious!',\n",
              " \"best fish i'v ever life!\",\n",
              " '(the bathroom next door nice.)',\n",
              " 'buffet small food offer bland.',\n",
              " 'outstand littl restaur best food ever tasted.',\n",
              " 'pretti cool would say.',\n",
              " \"definit turn & doubt i'll back unless someon els buying.\",\n",
              " 'server great job handl larg rowdi table.',\n",
              " 'find wast food despicable, food.',\n",
              " 'wife lobster bisqu soup lukewarm.',\n",
              " 'would come back sushi crave vegas.',\n",
              " 'staff great, ambianc great.',\n",
              " 'deserv 5 stars.',\n",
              " 'left stomach ach felt sick rest day.',\n",
              " 'drop ball.',\n",
              " 'dine space tiny, elegantli decor comfortable.',\n",
              " 'custom order way like, usual eggplant green bean stir fry, love it!',\n",
              " 'bean rice mediocr best.',\n",
              " 'best taco town far!!',\n",
              " 'took back money got outta there.',\n",
              " 'interest part town, place amazing.',\n",
              " 'rude & inconsider management.',\n",
              " 'staff not friendly, wait time serv horrible, one even say hi first 10 minutes.',\n",
              " 'back.',\n",
              " 'great dinners.',\n",
              " 'servic outshin & definit recommend halibut.',\n",
              " 'food terrible.',\n",
              " 'never ever go back told mani peopl happened.',\n",
              " 'recommend unless car break front starving.',\n",
              " \"come back everi time i'm vegas.\",\n",
              " 'place deserv one star 90% food.',\n",
              " 'disgrace.',\n",
              " 'def come back bowl next time',\n",
              " 'want healthi authent ethic food, tri place.',\n",
              " 'continu come ladi night andddd date night ... highli recommend place anyon area.',\n",
              " 'sever time past, experi alway great.',\n",
              " 'walk away stuf happi first vega buffet experience.',\n",
              " 'servic excel price pretti reason consid vega locat insid crystal shop mall aria.',\n",
              " 'summarize... food incredible, nay, transcendant... noth bring joy quit like memori pneumat condiment dispenser.',\n",
              " \"i'm probabl one peopl ever go ian not like it.\",\n",
              " 'kid pizza alway hit lot great side dish option kiddos!',\n",
              " 'servic perfect famili atmospher nice see.',\n",
              " 'cook perfect servic impeccable.',\n",
              " 'one simpli disappointment.',\n",
              " 'overall, disappoint qualiti food bouchon.',\n",
              " \"account know i'm get screwed!\",\n",
              " 'great place eat, remind littl mom pop shop san francisco bay area.',\n",
              " 'today first tast buldogi gourmet hot dog tell ever thought possible.',\n",
              " 'left frustrated.',\n",
              " \"i'll definit soon again.\",\n",
              " 'food realli good got full petti fast.',\n",
              " 'servic fantastic.',\n",
              " 'total wast time.',\n",
              " 'know kind best ice tea.',\n",
              " 'come hungry, leav happi stuffed!',\n",
              " 'service, give stars.',\n",
              " 'assur disappointed.',\n",
              " 'take littl bad servic food sucks.',\n",
              " 'gave tri eat crust (teeth still sore).',\n",
              " 'complet gross out.',\n",
              " 'realli enjoy eat here.',\n",
              " 'first time go think quickli becom regular.',\n",
              " 'server nice, even though look littl overwhelm needs, stay profession friendli end.',\n",
              " 'dinner companion told me...everyth fresh nice textur taste.',\n",
              " 'ground, right next tabl large, smeared, been-stepped-in-and-tracked-everywher pile green bird poop.',\n",
              " \"furthermore, can't even find hour oper website!\",\n",
              " \"we'v tri like place 10+ time think we'r done them.\",\n",
              " 'mistak was!',\n",
              " 'complaints!',\n",
              " \"serious good pizza i'm expert/connisseur topic.\",\n",
              " 'waiter jerk.',\n",
              " 'strike 2, want rushed.',\n",
              " \"nicest restaur owner i'v ever come across.\",\n",
              " 'never come again.',\n",
              " 'love biscuits!!!',\n",
              " 'servic quick friendly.',\n",
              " 'order appet took 40 minut pizza anoth 10 minutes.',\n",
              " 'absolutley fantastic.',\n",
              " 'huge awkward 1.5lb piec cow 3/4th gristl fat.',\n",
              " 'definit come back again.',\n",
              " 'like steiner dark feel like bar.',\n",
              " 'wow spici delicious.',\n",
              " 'not familiar, check out.',\n",
              " \"i'll take busi dinner dollar elsewhere.\",\n",
              " \"i'd love go back.\",\n",
              " 'anyway, fs restaur wonder breakfast/lunch.',\n",
              " 'noth special.',\n",
              " 'day week differ deal delicious!',\n",
              " 'not mention combin pears, almond bacon big winner!',\n",
              " 'not back.',\n",
              " 'sauc tasteless.',\n",
              " 'food delici spici enough, sure ask spicier prefer way.',\n",
              " 'ribey steak cook perfectli great mesquit flavor.',\n",
              " \"think we'll go back anytim soon.\",\n",
              " 'food gooodd.',\n",
              " 'far sushi connoisseur definit tell differ good food bad food certainli bad food.',\n",
              " 'insulted.',\n",
              " 'last 3 time lunch bad.',\n",
              " 'chicken wing contain driest chicken meat ever eaten.',\n",
              " 'food good enjoy everi mouthful, enjoy relax venu coupl small famili group etc.',\n",
              " 'nargil - think great.',\n",
              " 'best tater tot southwest.',\n",
              " 'love place.',\n",
              " 'definit not worth $3 paid.',\n",
              " 'vanilla ice cream creami smooth profiterol (choux) pastri fresh enough.',\n",
              " 'im az time new spot.',\n",
              " 'manag worst.',\n",
              " 'insid realli quit nice clean.',\n",
              " 'food outstand price reasonable.',\n",
              " \"think i'll run back carly' anytim soon food.\",\n",
              " 'due fact took 20 minut acknowledged, anoth 35 minut get food...and kept forget things.',\n",
              " 'love margaritas, too!',\n",
              " 'first vega buffet not disappoint.',\n",
              " 'good, though!',\n",
              " 'one note ventil could use upgrading.',\n",
              " 'great pork sandwich.',\n",
              " 'wast time here.',\n",
              " 'total letdown, would much rather go camelback flower shop cartel coffee.',\n",
              " \"third, chees friend' burger cold.\",\n",
              " 'enjoy pizza brunch.',\n",
              " 'steak well trim also perfectli cooked.',\n",
              " 'group 70+ claim would 40 handl us beautifully.',\n",
              " 'love it!',\n",
              " 'ask bill leav without eat bring either.',\n",
              " \"place jewel la vegas, exactli i'v hope find nearli ten year live here.\",\n",
              " 'seafood limit boil shrimp crab leg crab leg definit not tast fresh.',\n",
              " 'select food not best.',\n",
              " 'delici absolut back!',\n",
              " 'small famili restaurant, fine dine establishment.',\n",
              " 'toro tartar cavier extraordinari like thinli slice wagyu white truffle.',\n",
              " 'dont think back long time.',\n",
              " 'attach ga station, rare good sign.',\n",
              " 'awesom that.',\n",
              " 'back mani time soon.',\n",
              " 'menu much good stuff could not decide!',\n",
              " 'wors all, humili worker right front me..bunch horribl name callings.',\n",
              " 'conclusion: fill meals.',\n",
              " 'daili special alway hit group.',\n",
              " 'tragedi struck.',\n",
              " 'pancak also realli good pretti larg that.',\n",
              " 'first crawfish experience, delicious!',\n",
              " 'monster chicken fri steak egg time favorite.',\n",
              " 'waitress sweet funny.',\n",
              " \"also tast mom' multi-grain pumpkin pancak pecan butter amazing, fluffy, delicious!\",\n",
              " \"i'd rather eat airlin food, seriously.\",\n",
              " 'cant say enough good thing place.',\n",
              " 'ambianc incredible.',\n",
              " 'waitress manag friendly.',\n",
              " 'would not recommend place.',\n",
              " 'overal impress noca.',\n",
              " 'gyro basic lettuc only.',\n",
              " 'terribl service!',\n",
              " 'thoroughli disappointed!',\n",
              " 'much pasta, love homemad /hand made pasta thin pizza here.',\n",
              " 'give try, happi did.',\n",
              " 'far best cheesecurd ever had!',\n",
              " 'reason price also!',\n",
              " 'everyth perfect night in.',\n",
              " 'food good typic bar food.',\n",
              " 'drive get there.',\n",
              " 'first glanc love bakeri cafe - nice ambiance, clean, friendli staff.',\n",
              " 'anyway, not think go back there.',\n",
              " 'point finger item menu, order disappointed.',\n",
              " 'oh thing beauty, restaurant.',\n",
              " 'gone go now!',\n",
              " 'greasy, unhealthi meal.',\n",
              " 'first time might last.',\n",
              " 'burger amazing.',\n",
              " 'similarly, deliveri man not say word apolog food 45 minut late.',\n",
              " 'way expensive.',\n",
              " 'sure order dessert, even need pack to-go - tiramisu cannoli die for.',\n",
              " \"first time can't wait next.\",\n",
              " 'bartend also nice.',\n",
              " 'everyth good tasty!',\n",
              " 'place two thumb up....way up.',\n",
              " 'best place vega breakfast (just check sat, sun.',\n",
              " 'love authent mexican food want whole bunch interesting, yet delici meat choos from, need tri place.',\n",
              " 'terribl management.',\n",
              " 'excel new restaur experienc frenchman.',\n",
              " 'zero star would give zero stars.',\n",
              " 'great steak, great sides, great wine, amaz desserts.',\n",
              " 'worst martini ever!',\n",
              " 'steak shrimp opinion best entre gc.',\n",
              " 'opportun today sampl amaz pizzas!',\n",
              " 'wait thirti minut seat (although 8 vacant tabl folk waiting).',\n",
              " 'yellowtail carpaccio melt mouth fresh.',\n",
              " 'tri go back even empty.',\n",
              " \"no, i'm go eat potato found stranger hair it.\",\n",
              " 'spici enough.. perfect actually.',\n",
              " 'last night second time dine happi decid go back!',\n",
              " 'not even \"hello, right you.\"',\n",
              " 'dessert bit strange.',\n",
              " 'boyfriend came first time recent trip vega could not pleas qualiti food service.',\n",
              " 'realli recommend place, go wrong donut place!',\n",
              " 'nice ambiance.',\n",
              " 'would recommend save room this!',\n",
              " 'guess mayb went night disgraceful.',\n",
              " 'however, recent experi particular locat not good.',\n",
              " 'know not like restaur all, someth here!',\n",
              " 'avoid establishment!',\n",
              " 'think restaur suffer not tri hard enough.',\n",
              " 'tapa dish delicious!',\n",
              " '*heart* place.',\n",
              " 'salad bland vinegrett babi green heart palm.',\n",
              " 'two felt disgusting.',\n",
              " 'good time!',\n",
              " 'believ place great stop huge belli hanker sushi.',\n",
              " 'gener portion great taste.',\n",
              " 'never go back place never ever recommend place anyone!',\n",
              " 'server went back forth sever times, not even much \"are helped?\"',\n",
              " 'food delicious!',\n",
              " 'hour... seriously?',\n",
              " 'consid theft.',\n",
              " 'eew... locat need complet overhaul.',\n",
              " 'recent wit poor qualiti manag toward guest well.',\n",
              " 'wait wait waited.',\n",
              " 'also came back check us regularly, excel service.',\n",
              " 'server super nice check us mani times.',\n",
              " 'pizza tast old, super chewi not good way.',\n",
              " 'swung give tri deepli disappointed.',\n",
              " 'servic good compani better!',\n",
              " 'staff also friendli efficient.',\n",
              " \"service: i'm fan, quick serv nice folks.\",\n",
              " 'boy sucker dry!!.',\n",
              " 'rated.',\n",
              " 'look authent thai food, go els where.',\n",
              " 'steak 100% recommended!',\n",
              " 'pull car wait anoth 15 minut acknowledged.',\n",
              " 'great food great servic clean friendli setting.',\n",
              " \"all, assur i'll back.\",\n",
              " 'hate thing much cheap qualiti black olives.',\n",
              " 'breakfast perpar great, beauti present 3 giant slice toast, lightli dust powder sugar.',\n",
              " 'kid play area nasty!',\n",
              " 'great place fo take eat in.',\n",
              " 'waitress friendli happi accomod vegan/veggi options.',\n",
              " 'omg felt like never eaten thai food dish.',\n",
              " 'extrem \"crumby\" pretti tasteless.',\n",
              " 'pale color instead nice char flavor.',\n",
              " 'crouton also tast homemad extra plus.',\n",
              " 'got home see driest damn wing ever!',\n",
              " \"it'll regular stop trip phoenix!\",\n",
              " 'realli enjoy crema café expanded. even told friend best breakfast.',\n",
              " 'not good money.',\n",
              " 'miss wish one philadelphia!',\n",
              " 'got sit fairli fast, but, end wait 40 minut place order, anoth 30 minut food arrived.',\n",
              " 'also best chees crisp town.',\n",
              " 'good value, great food, great service.',\n",
              " 'ask satisfi meal.',\n",
              " 'food good.',\n",
              " 'awesome.',\n",
              " 'want leave.',\n",
              " 'made drive way north scottsdale... not one bit disappointed!',\n",
              " 'not eat again.',\n",
              " '!....the owner realli realli need quit soooooo cheap let wrap freak sandwich two paper not one!',\n",
              " 'check place coupl year ago not impressed.',\n",
              " 'chicken got definit reheat ok, wedg cold soggy.',\n",
              " 'sorry, not get food anytim soon :(',\n",
              " 'absolut must visit!',\n",
              " 'cow tongu cheek taco amazing.',\n",
              " 'friend not like bloodi mary.',\n",
              " 'despit hard rate businesses, actual rare give 1 star.',\n",
              " 'realli want make experi good one.',\n",
              " 'not return.',\n",
              " 'chicken pho tast bland.',\n",
              " 'disappointing!!!',\n",
              " 'grill chicken tender yellow saffron seasoning.',\n",
              " 'drive thru mean not want wait around half hour food, somehow end go make us wait wait.',\n",
              " 'pretti awesom place.',\n",
              " 'ambienc perfect.',\n",
              " 'best luck rude non-custom servic focus new management.',\n",
              " 'grandmoth make roast chicken better one.',\n",
              " 'ask multipl time wine list time ignor went hostess got one myself.',\n",
              " 'staff alway super friendli helpful, especi cool bring two small boy baby!',\n",
              " 'four star food & guy blue shirt great vibe & still let us eat !',\n",
              " 'roast beef sandwich tast realli good!',\n",
              " 'evening, drastic sick.',\n",
              " 'high-qual chicken chicken caesar salad.',\n",
              " \"order burger rare came we'll done.\",\n",
              " 'promptli greet seated.',\n",
              " 'tri go lunch madhouse.',\n",
              " 'proven dead wrong sushi bar, not qualiti great, servic fast food, impeccable.',\n",
              " 'wait hour seated, not greatest moods.',\n",
              " 'good joint.',\n",
              " 'macaron insan good.',\n",
              " \"i'm not eat here!\",\n",
              " 'waiter attentive, friendly, informative.',\n",
              " 'mayb cold would somewhat edible.',\n",
              " 'place lot promis fail deliver.',\n",
              " 'bad experience!',\n",
              " 'mistake.',\n",
              " 'food averag best.',\n",
              " 'great food.',\n",
              " 'go back anytim soon!',\n",
              " 'disappoint order $35 big bay plater.',\n",
              " 'great place relax awesom burger beer.',\n",
              " 'perfect sit-down famili meal get togeth friends.',\n",
              " 'not much flavor them, poorli constructed.',\n",
              " 'patio seat comfortable.',\n",
              " 'fri rice dri well.',\n",
              " 'hand favorit italian restaurant!',\n",
              " 'scream \"legit\" book...somethat\\' also pretti rare vegas.',\n",
              " 'not fun experience.',\n",
              " 'atmospher great love duo violinist play song requested.',\n",
              " \"person love hummus, pita, baklava, falafel baba ganoush (it' amaz eggplant!).\",\n",
              " 'convenient, sinc stay mgm!',\n",
              " 'owner super friendli staff courteous.',\n",
              " 'great!',\n",
              " 'eclect selection.',\n",
              " 'sweet potato tot good onion ring perfect close had.',\n",
              " 'staff attentive.',\n",
              " 'chef gener time (even came around twice take pictur him).',\n",
              " 'owner use work nobu, place realli similar half price.',\n",
              " 'googl mediocr imagin smashburg pop up.',\n",
              " 'dont go here.',\n",
              " 'promis disappoint.',\n",
              " 'sushi lover avoid place means.',\n",
              " 'great doubl cheeseburger!',\n",
              " 'awesom servic food.',\n",
              " 'fantast neighborhood gem !!!',\n",
              " \"can't wait go back.\",\n",
              " \"plantain worst i'v ever tasted.\",\n",
              " 'great place highli recommend it.',\n",
              " 'servic slow not attentive.',\n",
              " \"gave 5 star then, i'm give 5 star now.\",\n",
              " 'staff spend time talk me.',\n",
              " 'dessert: panna cotta amazing.',\n",
              " 'good food, great atmosphere.1',\n",
              " 'damn good steak.',\n",
              " 'total brunch fail.',\n",
              " 'price reasonable, flavor spot on, sauc home made, slaw not drench mayo.',\n",
              " 'decor nice, piano music soundtrack pleasant.',\n",
              " 'steak amazing...rg fillet relleno best seafood plate ever had!',\n",
              " 'good food , good servic .',\n",
              " 'absolut amazing.',\n",
              " 'probabl back, honest.',\n",
              " 'definit back!',\n",
              " 'sergeant pepper beef sandwich auju sauc excel sandwich well.',\n",
              " \"hawaiian breeze, mango magic, pineappl delight smoothi i'v tri far they'r good.\",\n",
              " 'went lunch - servic slow.',\n",
              " 'much say place walk expect amazing, quickli disappointed.',\n",
              " 'mortified.',\n",
              " 'needless say, never back again.',\n",
              " 'anyways, food definit not fill all, price pay expect more.',\n",
              " 'chip came drip grease, mostli not edible.',\n",
              " 'realli impress strip steak.',\n",
              " 'go sinc 2007 everi meal awesome!!',\n",
              " 'server nice attent serv staff.',\n",
              " 'cashier friendli even brought food me.',\n",
              " 'work hospit industri paradis valley refrain recommend cibo longer.',\n",
              " 'atmospher fun.',\n",
              " 'would not recommend others.',\n",
              " 'servic quick even \"to go\" order like like it!',\n",
              " 'mean really, get famou fish chip terrible!?!',\n",
              " 'said, mouth belli still quit pleased.',\n",
              " 'not thing.',\n",
              " '2 thumb up!!',\n",
              " 'read pleas go there.',\n",
              " 'love grill pizza, remind legit italian pizza.',\n",
              " 'pro : larg seat area/ nice bar area/ great simpl drink menu/ best brick oven pizza homemad dough!',\n",
              " 'realli nice atmosphere.',\n",
              " 'tonight elk filet special...and sucked.',\n",
              " 'one bite, hooked.',\n",
              " 'order old classic new dish go time sore disappoint everything.',\n",
              " 'cute, quaint, simple, honest.',\n",
              " 'chicken delici season perfect fri outsid moist chicken inside.',\n",
              " 'food great always, compliment chef.',\n",
              " 'special thank dylan t. recommend order :) yummi tummy.',\n",
              " 'awesom select beer.',\n",
              " 'great food awesom service!',\n",
              " 'one nice thing ad gratuiti bill sinc parti larger 6 8, expect tip that.',\n",
              " 'fli appl juice.. fly!!!!!!!!',\n",
              " 'han nan chicken also tasty.',\n",
              " 'service, thought good.',\n",
              " 'food bare lukewarm, must sit wait server bring us.',\n",
              " \"ryan' bar definit one edinburgh establish revisiting.\",\n",
              " \"nicest chines restaur i'v while.\",\n",
              " 'overall, like food service.',\n",
              " 'also serv indian naan bread hummu spici pine nut sauc world.',\n",
              " 'probabl never come back, recommend it.',\n",
              " \"friend' pasta -- also bad, bare touch it.\",\n",
              " 'tri airport experi tasti food speedy, friendli service.',\n",
              " 'love decor chines calligraphi wall paper.',\n",
              " 'never anyth complain here.',\n",
              " 'restaur clean famili restaur feel it.',\n",
              " 'way fried.',\n",
              " \"i'm not sure long stood long enough begin feel awkwardli place.\",\n",
              " 'open sandwich, impressed, not good way.',\n",
              " 'not back!',\n",
              " 'warm feel servic felt like guest special treat.',\n",
              " 'extens menu provid lot option breakfast.',\n",
              " 'alway order vegetarian menu dinner, wide array option choos from.',\n",
              " 'watch price inflate, portion get smaller manag attitud grow rapidly!',\n",
              " 'wonder lil tapa ambienc made feel warm fuzzi inside.',\n",
              " 'got enjoy seafood salad, fabul vinegrette.',\n",
              " 'wonton thin, not thick chewy, almost melt mouth.',\n",
              " 'level 5 spici perfect, spice over-whelm soup.',\n",
              " 'sat right time server get go fantastic!',\n",
              " 'main thing enjoy crowd older crowd, around mid 30 up.',\n",
              " \"i'm side town, definit spot i'll hit again!\",\n",
              " 'wait 30 minut get drink longer get 2 arepas.',\n",
              " 'great place eat!',\n",
              " 'jalapeno bacon soooo good.',\n",
              " 'servic poor that nice.',\n",
              " 'food good, servic good, price good.',\n",
              " 'place not clean food oh stale!',\n",
              " 'chicken dish ok, beef like shoe leather.',\n",
              " 'servic beyond bad.',\n",
              " 'i\\'m happi here!!!\"',\n",
              " 'tast like dirt.',\n",
              " 'one place phoenix would defin go back .',\n",
              " 'block amazing.',\n",
              " 'close house, low-key, non-fancy, afford prices, good food.',\n",
              " '* hot & sour & egg flower soup absolut 5 stars!',\n",
              " 'sashimi poor qualiti soggi tasteless.',\n",
              " 'great time - famili dinner sunday night.',\n",
              " 'food not tasti all, not say \"real tradit hunan style\".',\n",
              " 'bother me, slow service.',\n",
              " 'flair bartend absolut amazing!',\n",
              " 'frozen margarita way sugari taste.',\n",
              " 'good order twice.',\n",
              " 'nutshell: 1) restaraunt smell like combin dirti fish market sewer.',\n",
              " \"girlfriend' veal bad.\",\n",
              " 'unfortunately, not good.',\n",
              " 'pretti satifi experience.',\n",
              " 'join club get awesom offer via email.',\n",
              " 'perfect someon (me) like beer ice cold, case, even colder.',\n",
              " 'bland flavorless good way describ bare tepid meat.',\n",
              " \"chains, i'm fan of, beat place easily.\",\n",
              " 'nacho must have!',\n",
              " 'not come back.',\n",
              " 'mani word say place, everyth pretti well.',\n",
              " 'staff super nice quick even crazi crowd downtown juries, lawyers, court staff.',\n",
              " 'great atmosphere, friendli fast service.',\n",
              " 'receiv pita huge lot meat thumb there.',\n",
              " 'food arriv meh.',\n",
              " \"pay $7.85 hot dog fri look like came kid' meal wienerschnitzel not idea good meal.\",\n",
              " 'classic main lobster roll fantastic.',\n",
              " 'brother law work mall ate day, guess sick night too.',\n",
              " 'good go review place twice - herea tribut place tribut event held last night.',\n",
              " 'chip salsa realli good, salsa fresh.',\n",
              " 'place great!!!!!!!!!!!!!!',\n",
              " 'mediocr food.',\n",
              " 'get insid impress place.',\n",
              " \"i'm super pissd.\",\n",
              " 'servic super friendly.',\n",
              " 'sad littl veget overcooked?',\n",
              " 'place nice surprise!',\n",
              " 'golden-crispi delicious.',\n",
              " 'high hope place sinc burger cook charcoal grill, unfortun tast fell flat, way flat.',\n",
              " 'could eat bruschetta day devine.',\n",
              " 'not singl employe came see ok even need water refil final serv us food.',\n",
              " 'lastly, mozzarella sticks, best thing ordered.',\n",
              " 'first time ever came amaz experience, still tell peopl awesom duck was.',\n",
              " 'server neglig need made us feel unwelcome... would not suggest place!',\n",
              " 'servic terribl though.',\n",
              " 'place overpriced, not consist boba, realli overpriced!',\n",
              " 'packed!!',\n",
              " 'love place.',\n",
              " 'say dessert yummy.',\n",
              " 'food terrible.',\n",
              " 'season fruit fresh white peach puree.',\n",
              " \"kept get wors wors i'm offici done.\",\n",
              " 'place honestli blown up.',\n",
              " 'definit would not eat again.',\n",
              " 'not wast money here!',\n",
              " 'love put food nice plastic contain oppos cram littl paper takeout boxes.',\n",
              " 'crêpe delic thin moist.',\n",
              " 'aw service.',\n",
              " 'ever go again.',\n",
              " 'food qualiti horrible.',\n",
              " 'price think place would much rather gone.',\n",
              " 'servic fair best.',\n",
              " 'love sushi, found kabuki over-priced, over-hip under-services.',\n",
              " 'favor stay away dish.',\n",
              " 'poor service.',\n",
              " 'one tabl thought food averag worth wait it.',\n",
              " 'best servic food ever, maria server good friendli made day.',\n",
              " 'excellent.',\n",
              " 'paid bill not tip felt server terribl job.',\n",
              " 'lunch great experience.',\n",
              " 'never bland food surpris consid articl read focus much spice flavor.',\n",
              " 'food way overpr portion fuck small.',\n",
              " \"recent tri caballero' back everi week since!\",\n",
              " '40 buck head, realli expect better food.',\n",
              " 'food came good pace.',\n",
              " 'ate twice last visit, especi enjoy salmon salad.',\n",
              " 'back.',\n",
              " 'could not believ dirti oyster were!',\n",
              " 'place deserv stars.',\n",
              " 'would not recommend place.',\n",
              " \"fact i'm go round 4 stars, awesome.\",\n",
              " 'disbelief, dish qualifi worst version food ever tasted.',\n",
              " 'bad day not, low toler rude custom servic people, job nice polite, wash dish otherwise!!',\n",
              " 'potato great biscuit.',\n",
              " 'probabl would not go again.',\n",
              " 'flavor perfect amount heat.',\n",
              " 'price reason servic great.',\n",
              " 'wife hate meal (coconut shrimp), friend realli not enjoy meals, either.',\n",
              " 'fella got huevo ranchero look appealing.',\n",
              " 'went happi hour, great list wines.',\n",
              " 'may say buffet pricey think get pay place get quit lot!',\n",
              " 'probabl come back here.',\n",
              " \"worst food/servic i'v while.\",\n",
              " 'place pretti good, nice littl vibe restaurant.',\n",
              " 'talk great custom servic cours back.',\n",
              " 'hot dish not hot, cold dish close room temp.i watch staff prepar food bare hands, gloves.everyth deep fri oil.',\n",
              " 'love fri beans.',\n",
              " 'alway pleasur deal him.',\n",
              " \"plethora salad sandwiches, everyth i'v tri get seal approval.\",\n",
              " 'place awesom want someth light healthi summer.',\n",
              " 'sushi strip, place go.',\n",
              " 'servic great, even manag came help table.',\n",
              " 'feel dine room colleg cook cours high class dine servic slow best.',\n",
              " \"start review two stars, i'm edit give one.\",\n",
              " \"worst sushi ever eat besid costco's.\",\n",
              " 'excel restaur highlight great service, uniqu menu, beauti setting.',\n",
              " 'boyfriend sat bar complet delight experience.',\n",
              " 'weird vibe owners.',\n",
              " 'hardli meat.',\n",
              " \"i'v better bagel groceri store.\",\n",
              " 'go place gyros.',\n",
              " 'love owner/chef, one authent japanes cool dude!',\n",
              " 'burger good, pizza use amaz doughi flavorless.',\n",
              " 'found six inch long piec wire salsa.',\n",
              " 'servic terrible, food mediocre.',\n",
              " 'defin enjoy ourselves.',\n",
              " 'order albondiga soup - warm - tast like tomato soup frozen meatballs.',\n",
              " 'three differ occas ask well done medium well, three time got bloodiest piec meat plate.',\n",
              " 'two bite refus eat anymore.',\n",
              " 'servic extrem slow.',\n",
              " '20 minut wait, got table.',\n",
              " 'serious killer hot chai latte.',\n",
              " 'allergi warn menu, waitress absolut clue meal not contain peanuts.',\n",
              " 'boyfriend tri mediterranean chicken salad fell love.',\n",
              " 'rotat beer tap also highlight place.',\n",
              " 'price bit concern mellow mushroom.',\n",
              " 'worst thai ever.',\n",
              " 'stay vega must get breakfast least once.',\n",
              " 'want first say server great perfect service.',\n",
              " 'pizza select good.',\n",
              " 'strawberri tea, good.',\n",
              " 'highli unprofession rude loyal patron!',\n",
              " 'overall, great experience.',\n",
              " 'spend money elsewhere.',\n",
              " 'regular toast bread equal satisfi occasion pat butter... mmmm...!',\n",
              " 'buffet bellagio far anticipated.',\n",
              " 'drink weak, people!',\n",
              " '-mi order not correct.',\n",
              " 'also, feel like chip bought, not made house.',\n",
              " 'disappoint dinner went elsewher dessert.',\n",
              " 'chip sal amazing!!!!!!!!!!!!!!!!!!!',\n",
              " 'returning.',\n",
              " 'new fav vega buffet spot.',\n",
              " 'serious cannot believ owner mani unexperienc employe run around like chicken head cut off.',\n",
              " 'very, sad.',\n",
              " 'felt insult disrespected, could talk judg anoth human like that?',\n",
              " \"call steakhous can't properli cook steak, understand!\",\n",
              " \"i'm not impress concept food.\",\n",
              " 'thing crazi guacamol like puréed.',\n",
              " 'realli noth postinos, hope experi better',\n",
              " 'got food poison buffet.',\n",
              " 'brought fresh batch fri think yay someth warm no!',\n",
              " 'hilarious, yummi christma eve dinner rememb biggest fail entir trip us.',\n",
              " 'needless say, go back anytim soon.',\n",
              " 'place disgusting!',\n",
              " 'everi time eat here, see care teamwork profession degree.',\n",
              " 'ri style calamari joke.',\n",
              " 'however, much garlic fondue, bare edible.',\n",
              " 'could bare stomach meal, complain busi lunch.',\n",
              " 'bad, lost heart finish it.',\n",
              " 'also took forev bring us check ask it.',\n",
              " 'one make scene restaur get it...definit lost love one!',\n",
              " 'disappoint experience.',\n",
              " \"food par denny's, say, not good all.\",\n",
              " 'want wait mediocr food downright terribl service, place you.',\n",
              " 'waaaaaayyyyyyyyyi rate saying.',\n",
              " 'go back.',\n",
              " 'place fairli clean food simpli worth it.',\n",
              " 'place lack style!!',\n",
              " 'sangria half glass wine full $12, ridiculous.',\n",
              " 'bother come here.',\n",
              " 'meat pretti dry, slice brisket pull pork.',\n",
              " 'build seem pretti neat, bathroom pretti trippy, eat again.',\n",
              " 'equal awful.',\n",
              " 'probabl not hurri go back.',\n",
              " 'slow seat even reservation.',\n",
              " 'not good stretch imagination.',\n",
              " 'cashew cream sauc bland veget undercooked.',\n",
              " 'chipolt ranch dip saus tasteless, seem thin water heat.',\n",
              " 'bit sweet, not realli spici enough, lack flavor.',\n",
              " 'disappointed!!',\n",
              " 'place horribl way overpriced.',\n",
              " \"mayb vegetarian fare, i'v twice thought averag best.\",\n",
              " 'busi know why.',\n",
              " 'tabl outsid also dirti lot time worker not alway friendli help menu.',\n",
              " 'ambianc not feel like buffet setting, douchey indoor garden tea biscuits.',\n",
              " 'con: spotti service.',\n",
              " 'fri not hot, neither burger.',\n",
              " 'came back cold.',\n",
              " 'food came out, disappoint ensued.',\n",
              " 'real disappoint waiter.',\n",
              " 'husband said rude... not even apolog bad food anything.',\n",
              " 'reason eat would fill night bing drink get carb stomach.',\n",
              " 'insults, profound deuchebaggery, go outsid smoke break serv solidifi it.',\n",
              " \"someon order two taco don't' think may part custom servic ask combo ala cart?\",\n",
              " 'quit disappoint although blame need place door.',\n",
              " 'rave review wait eat here......what disappointment!',\n",
              " 'del taco pretti nasti avoid possible.',\n",
              " 'not hard make decent hamburger.',\n",
              " 'like it.',\n",
              " 'hell go back',\n",
              " \"we'v gotten much better servic pizza place next door servic receiv restaurant.\",\n",
              " 'know big deal place, back \"ya\\'all\".',\n",
              " 'immedi said want talk manag not want talk guy shot firebal behind bar.',\n",
              " 'ambianc much better.',\n",
              " 'unfortunately, set us disapppoint entrees.',\n",
              " 'food good.',\n",
              " 'server suck, wait, correction, server heimer sucked.',\n",
              " 'happen next pretty....off putting.',\n",
              " 'bad caus know famili owned, realli want like place.',\n",
              " 'overpr getting.',\n",
              " 'vomit bathroom mid lunch.',\n",
              " 'kept look time soon becom 35 minutes, yet still food.',\n",
              " 'place eat circumst would ever return to, top list.',\n",
              " 'start tuna sashimi brownish color obvious fresh.',\n",
              " 'food average.',\n",
              " 'sure beat nacho movi would expect littl bit come restaurant.',\n",
              " 'all, ha long bay bit flop.',\n",
              " 'problem charg $11.99 sandwich bigger subway sub (which offer better amount vegetables).',\n",
              " 'shrimp- unwrap (i live 1/2 mile brushfire) liter ice cold.',\n",
              " 'lack flavor, seem undercooked, dry.',\n",
              " 'realli impress place close down.',\n",
              " 'would avoid place stay mirage.',\n",
              " 'refri bean came meal dri crusti food bland.',\n",
              " 'spend money time place else.',\n",
              " 'ladi tabl next us found live green caterpillar salad.',\n",
              " 'present food awful.',\n",
              " \"can't tell disappoint was.\",\n",
              " 'think food flavor textur lacking.',\n",
              " 'appetit instantli gone.',\n",
              " 'overal not impress would not go back.',\n",
              " \"whole experi underwhelming, think we'll go ninja sushi next time.\",\n",
              " 'then, wast enough life there, pour salt wound draw time took bring check.']"
            ]
          },
          "metadata": {},
          "execution_count": 26
        }
      ]
    },
    {
      "cell_type": "markdown",
      "source": [],
      "metadata": {
        "id": "xVJCY-ZfDxxG"
      }
    },
    {
      "cell_type": "code",
      "source": [
        "len(corpus)"
      ],
      "metadata": {
        "id": "NgXk-biCGijL",
        "colab": {
          "base_uri": "https://localhost:8080/"
        },
        "outputId": "4ccdb8a4-e6b9-4163-a6ee-c8f8a2496c9c"
      },
      "execution_count": null,
      "outputs": [
        {
          "output_type": "execute_result",
          "data": {
            "text/plain": [
              "1000"
            ]
          },
          "metadata": {},
          "execution_count": 27
        }
      ]
    },
    {
      "cell_type": "markdown",
      "source": [
        "## Creating the Bag of Words Model"
      ],
      "metadata": {
        "id": "KASN1IPkNTot"
      }
    },
    {
      "cell_type": "code",
      "source": [
        "# Import Class\n",
        "\n",
        "from sklearn.feature_extraction.text import CountVectorizer"
      ],
      "metadata": {
        "id": "gNDvwSyfGimT"
      },
      "execution_count": null,
      "outputs": []
    },
    {
      "cell_type": "code",
      "source": [
        "# Create an instance of class\n",
        "\n",
        "cv = CountVectorizer(max_features= 1500)"
      ],
      "metadata": {
        "id": "Wz1O62OcNi1N"
      },
      "execution_count": null,
      "outputs": []
    },
    {
      "cell_type": "code",
      "source": [
        "# Define x & y\n",
        "\n",
        "x = cv.fit_transform(corpus).toarray()\n",
        "y = r_data.iloc[:, 1]"
      ],
      "metadata": {
        "id": "2nGLHtFuNi4m"
      },
      "execution_count": null,
      "outputs": []
    },
    {
      "cell_type": "code",
      "source": [
        "# View values\n",
        "x"
      ],
      "metadata": {
        "colab": {
          "base_uri": "https://localhost:8080/"
        },
        "id": "Nxf2ThcnNi7u",
        "outputId": "3425084c-e526-4575-df38-e856571f705a"
      },
      "execution_count": null,
      "outputs": [
        {
          "output_type": "execute_result",
          "data": {
            "text/plain": [
              "array([[0, 0, 0, ..., 0, 0, 0],\n",
              "       [0, 0, 0, ..., 0, 0, 0],\n",
              "       [0, 0, 0, ..., 0, 0, 0],\n",
              "       ...,\n",
              "       [0, 0, 0, ..., 0, 0, 0],\n",
              "       [0, 0, 0, ..., 0, 0, 0],\n",
              "       [0, 0, 0, ..., 0, 0, 0]])"
            ]
          },
          "metadata": {},
          "execution_count": 31
        }
      ]
    },
    {
      "cell_type": "code",
      "source": [
        "y"
      ],
      "metadata": {
        "colab": {
          "base_uri": "https://localhost:8080/"
        },
        "id": "1bdwuWAjNi_M",
        "outputId": "918db03a-5ee5-4b34-9fad-8b49c508809c"
      },
      "execution_count": null,
      "outputs": [
        {
          "output_type": "execute_result",
          "data": {
            "text/plain": [
              "0      1\n",
              "1      0\n",
              "2      0\n",
              "3      1\n",
              "4      1\n",
              "      ..\n",
              "995    0\n",
              "996    0\n",
              "997    0\n",
              "998    0\n",
              "999    0\n",
              "Name: Liked, Length: 1000, dtype: int64"
            ]
          },
          "metadata": {},
          "execution_count": 32
        }
      ]
    },
    {
      "cell_type": "code",
      "source": [
        "# View shape\n",
        "\n",
        "x.shape, y.shape"
      ],
      "metadata": {
        "id": "FAW2W0oWGipm",
        "colab": {
          "base_uri": "https://localhost:8080/"
        },
        "outputId": "a4267a23-746c-4b8a-e017-f305ddf852eb"
      },
      "execution_count": null,
      "outputs": [
        {
          "output_type": "execute_result",
          "data": {
            "text/plain": [
              "((1000, 1500), (1000,))"
            ]
          },
          "metadata": {},
          "execution_count": 33
        }
      ]
    },
    {
      "cell_type": "markdown",
      "source": [
        "## Dataset Splitting"
      ],
      "metadata": {
        "id": "ASCHFj4zPeUj"
      }
    },
    {
      "cell_type": "code",
      "source": [
        "from sklearn.model_selection import train_test_split\n",
        "\n",
        "x_train, x_test, y_train, y_test = train_test_split(x, y, test_size= 0.2)"
      ],
      "metadata": {
        "id": "gDOHf10kPbzp"
      },
      "execution_count": null,
      "outputs": []
    },
    {
      "cell_type": "code",
      "source": [
        "x_train"
      ],
      "metadata": {
        "colab": {
          "base_uri": "https://localhost:8080/"
        },
        "id": "0tF_gR6lPb2n",
        "outputId": "4e67d5ed-3e88-4260-dcbd-ce76a37738c2"
      },
      "execution_count": null,
      "outputs": [
        {
          "output_type": "execute_result",
          "data": {
            "text/plain": [
              "array([[0, 0, 0, ..., 0, 0, 0],\n",
              "       [0, 0, 0, ..., 0, 0, 0],\n",
              "       [0, 0, 0, ..., 0, 0, 0],\n",
              "       ...,\n",
              "       [0, 0, 0, ..., 0, 0, 0],\n",
              "       [0, 0, 0, ..., 0, 0, 0],\n",
              "       [0, 0, 0, ..., 0, 0, 0]])"
            ]
          },
          "metadata": {},
          "execution_count": 35
        }
      ]
    },
    {
      "cell_type": "code",
      "source": [
        "x_test"
      ],
      "metadata": {
        "colab": {
          "base_uri": "https://localhost:8080/"
        },
        "id": "qxLAaCd_Pb5j",
        "outputId": "febd33e0-34e6-4089-8778-c8e21309eae3"
      },
      "execution_count": null,
      "outputs": [
        {
          "output_type": "execute_result",
          "data": {
            "text/plain": [
              "array([[0, 0, 0, ..., 0, 0, 0],\n",
              "       [0, 0, 0, ..., 0, 0, 0],\n",
              "       [0, 0, 0, ..., 0, 0, 0],\n",
              "       ...,\n",
              "       [0, 0, 0, ..., 0, 0, 0],\n",
              "       [0, 0, 0, ..., 0, 0, 0],\n",
              "       [0, 0, 0, ..., 0, 0, 0]])"
            ]
          },
          "metadata": {},
          "execution_count": 36
        }
      ]
    },
    {
      "cell_type": "code",
      "source": [
        "x_train.shape, x_test.shape"
      ],
      "metadata": {
        "colab": {
          "base_uri": "https://localhost:8080/"
        },
        "id": "EOpjXKGOOxJT",
        "outputId": "7854b3f3-7742-4876-863a-82e57c75a9ff"
      },
      "execution_count": null,
      "outputs": [
        {
          "output_type": "execute_result",
          "data": {
            "text/plain": [
              "((800, 1500), (200, 1500))"
            ]
          },
          "metadata": {},
          "execution_count": 37
        }
      ]
    },
    {
      "cell_type": "code",
      "source": [
        "y_train"
      ],
      "metadata": {
        "colab": {
          "base_uri": "https://localhost:8080/"
        },
        "id": "F8UONY66QSjB",
        "outputId": "46e13464-5124-4f57-e72a-096949754a3d"
      },
      "execution_count": null,
      "outputs": [
        {
          "output_type": "execute_result",
          "data": {
            "text/plain": [
              "968    0\n",
              "452    0\n",
              "145    1\n",
              "589    0\n",
              "602    1\n",
              "      ..\n",
              "764    1\n",
              "441    1\n",
              "737    1\n",
              "240    0\n",
              "660    1\n",
              "Name: Liked, Length: 800, dtype: int64"
            ]
          },
          "metadata": {},
          "execution_count": 38
        }
      ]
    },
    {
      "cell_type": "code",
      "source": [
        "y_test"
      ],
      "metadata": {
        "colab": {
          "base_uri": "https://localhost:8080/"
        },
        "id": "du7fxp3NQSl6",
        "outputId": "5456d4c5-44a5-468e-c953-c7fba38d7d02"
      },
      "execution_count": null,
      "outputs": [
        {
          "output_type": "execute_result",
          "data": {
            "text/plain": [
              "891    1\n",
              "121    0\n",
              "290    0\n",
              "763    0\n",
              "370    0\n",
              "      ..\n",
              "202    0\n",
              "260    1\n",
              "809    1\n",
              "982    0\n",
              "818    0\n",
              "Name: Liked, Length: 200, dtype: int64"
            ]
          },
          "metadata": {},
          "execution_count": 39
        }
      ]
    },
    {
      "cell_type": "code",
      "source": [
        "y_train.shape, y_test.shape"
      ],
      "metadata": {
        "colab": {
          "base_uri": "https://localhost:8080/"
        },
        "id": "nLlKAPHgQSo5",
        "outputId": "e6e7f2d1-8321-4a3e-efad-27f691b675f8"
      },
      "execution_count": null,
      "outputs": [
        {
          "output_type": "execute_result",
          "data": {
            "text/plain": [
              "((800,), (200,))"
            ]
          },
          "metadata": {},
          "execution_count": 40
        }
      ]
    },
    {
      "cell_type": "markdown",
      "source": [
        "# Part-2: Model Building"
      ],
      "metadata": {
        "id": "oOpAV3_wQ-jM"
      }
    },
    {
      "cell_type": "markdown",
      "source": [
        "## Model-1: Naive Bayes"
      ],
      "metadata": {
        "id": "Nu-FD6eMRkzk"
      }
    },
    {
      "cell_type": "code",
      "source": [
        "# Import Class\n",
        "\n",
        "from sklearn.naive_bayes import GaussianNB\n",
        "\n",
        "# Create an instance of class\n",
        "\n",
        "classifier_nb = GaussianNB()\n",
        "\n",
        "# Train the Model\n",
        "\n",
        "classifier_nb.fit(x_train,y_train)"
      ],
      "metadata": {
        "colab": {
          "base_uri": "https://localhost:8080/",
          "height": 74
        },
        "id": "v4xsbfQOQSsE",
        "outputId": "905d4a5d-b458-4790-c90d-0d3b7672fb70"
      },
      "execution_count": null,
      "outputs": [
        {
          "output_type": "execute_result",
          "data": {
            "text/plain": [
              "GaussianNB()"
            ],
            "text/html": [
              "<style>#sk-container-id-1 {color: black;background-color: white;}#sk-container-id-1 pre{padding: 0;}#sk-container-id-1 div.sk-toggleable {background-color: white;}#sk-container-id-1 label.sk-toggleable__label {cursor: pointer;display: block;width: 100%;margin-bottom: 0;padding: 0.3em;box-sizing: border-box;text-align: center;}#sk-container-id-1 label.sk-toggleable__label-arrow:before {content: \"▸\";float: left;margin-right: 0.25em;color: #696969;}#sk-container-id-1 label.sk-toggleable__label-arrow:hover:before {color: black;}#sk-container-id-1 div.sk-estimator:hover label.sk-toggleable__label-arrow:before {color: black;}#sk-container-id-1 div.sk-toggleable__content {max-height: 0;max-width: 0;overflow: hidden;text-align: left;background-color: #f0f8ff;}#sk-container-id-1 div.sk-toggleable__content pre {margin: 0.2em;color: black;border-radius: 0.25em;background-color: #f0f8ff;}#sk-container-id-1 input.sk-toggleable__control:checked~div.sk-toggleable__content {max-height: 200px;max-width: 100%;overflow: auto;}#sk-container-id-1 input.sk-toggleable__control:checked~label.sk-toggleable__label-arrow:before {content: \"▾\";}#sk-container-id-1 div.sk-estimator input.sk-toggleable__control:checked~label.sk-toggleable__label {background-color: #d4ebff;}#sk-container-id-1 div.sk-label input.sk-toggleable__control:checked~label.sk-toggleable__label {background-color: #d4ebff;}#sk-container-id-1 input.sk-hidden--visually {border: 0;clip: rect(1px 1px 1px 1px);clip: rect(1px, 1px, 1px, 1px);height: 1px;margin: -1px;overflow: hidden;padding: 0;position: absolute;width: 1px;}#sk-container-id-1 div.sk-estimator {font-family: monospace;background-color: #f0f8ff;border: 1px dotted black;border-radius: 0.25em;box-sizing: border-box;margin-bottom: 0.5em;}#sk-container-id-1 div.sk-estimator:hover {background-color: #d4ebff;}#sk-container-id-1 div.sk-parallel-item::after {content: \"\";width: 100%;border-bottom: 1px solid gray;flex-grow: 1;}#sk-container-id-1 div.sk-label:hover label.sk-toggleable__label {background-color: #d4ebff;}#sk-container-id-1 div.sk-serial::before {content: \"\";position: absolute;border-left: 1px solid gray;box-sizing: border-box;top: 0;bottom: 0;left: 50%;z-index: 0;}#sk-container-id-1 div.sk-serial {display: flex;flex-direction: column;align-items: center;background-color: white;padding-right: 0.2em;padding-left: 0.2em;position: relative;}#sk-container-id-1 div.sk-item {position: relative;z-index: 1;}#sk-container-id-1 div.sk-parallel {display: flex;align-items: stretch;justify-content: center;background-color: white;position: relative;}#sk-container-id-1 div.sk-item::before, #sk-container-id-1 div.sk-parallel-item::before {content: \"\";position: absolute;border-left: 1px solid gray;box-sizing: border-box;top: 0;bottom: 0;left: 50%;z-index: -1;}#sk-container-id-1 div.sk-parallel-item {display: flex;flex-direction: column;z-index: 1;position: relative;background-color: white;}#sk-container-id-1 div.sk-parallel-item:first-child::after {align-self: flex-end;width: 50%;}#sk-container-id-1 div.sk-parallel-item:last-child::after {align-self: flex-start;width: 50%;}#sk-container-id-1 div.sk-parallel-item:only-child::after {width: 0;}#sk-container-id-1 div.sk-dashed-wrapped {border: 1px dashed gray;margin: 0 0.4em 0.5em 0.4em;box-sizing: border-box;padding-bottom: 0.4em;background-color: white;}#sk-container-id-1 div.sk-label label {font-family: monospace;font-weight: bold;display: inline-block;line-height: 1.2em;}#sk-container-id-1 div.sk-label-container {text-align: center;}#sk-container-id-1 div.sk-container {/* jupyter's `normalize.less` sets `[hidden] { display: none; }` but bootstrap.min.css set `[hidden] { display: none !important; }` so we also need the `!important` here to be able to override the default hidden behavior on the sphinx rendered scikit-learn.org. See: https://github.com/scikit-learn/scikit-learn/issues/21755 */display: inline-block !important;position: relative;}#sk-container-id-1 div.sk-text-repr-fallback {display: none;}</style><div id=\"sk-container-id-1\" class=\"sk-top-container\"><div class=\"sk-text-repr-fallback\"><pre>GaussianNB()</pre><b>In a Jupyter environment, please rerun this cell to show the HTML representation or trust the notebook. <br />On GitHub, the HTML representation is unable to render, please try loading this page with nbviewer.org.</b></div><div class=\"sk-container\" hidden><div class=\"sk-item\"><div class=\"sk-estimator sk-toggleable\"><input class=\"sk-toggleable__control sk-hidden--visually\" id=\"sk-estimator-id-1\" type=\"checkbox\" checked><label for=\"sk-estimator-id-1\" class=\"sk-toggleable__label sk-toggleable__label-arrow\">GaussianNB</label><div class=\"sk-toggleable__content\"><pre>GaussianNB()</pre></div></div></div></div></div>"
            ]
          },
          "metadata": {},
          "execution_count": 41
        }
      ]
    },
    {
      "cell_type": "code",
      "source": [
        "# Make a Prediction\n",
        "\n",
        "y_pred = classifier_nb.predict(x_test)"
      ],
      "metadata": {
        "id": "DktszoyjQwQj"
      },
      "execution_count": null,
      "outputs": []
    },
    {
      "cell_type": "markdown",
      "source": [
        "### Performance Evaluation"
      ],
      "metadata": {
        "id": "of5TjaqGj088"
      }
    },
    {
      "cell_type": "code",
      "source": [
        "# Evaluate the performance\n",
        "\n",
        "from sklearn.metrics import confusion_matrix, accuracy_score, f1_score, recall_score, precision_score\n",
        "\n",
        "# Evaluate the performance\n",
        "\n",
        "conf_m = confusion_matrix(y_test, y_pred)\n",
        "acc = accuracy_score(y_test, y_pred)\n",
        "f1 = f1_score(y_test, y_pred)\n",
        "rs = recall_score(y_test, y_pred)\n",
        "ps = precision_score(y_test, y_pred)\n",
        "\n",
        "print(\"conf_m: {}  \\nacc: {} \\nf1: {} \\nrs: {} \\nps: {}\".format(conf_m, acc*100, f1*100, rs*100, ps*100))"
      ],
      "metadata": {
        "colab": {
          "base_uri": "https://localhost:8080/"
        },
        "id": "XYijkGAbQwT5",
        "outputId": "869657d5-1c0e-4f43-929f-2c4f362aace6"
      },
      "execution_count": null,
      "outputs": [
        {
          "output_type": "stream",
          "name": "stdout",
          "text": [
            "conf_m: [[51 55]\n",
            " [18 76]]  \n",
            "acc: 63.5 \n",
            "f1: 67.55555555555556 \n",
            "rs: 80.85106382978722 \n",
            "ps: 58.01526717557252\n"
          ]
        }
      ]
    },
    {
      "cell_type": "markdown",
      "source": [
        "### Confusion Matrix Visual"
      ],
      "metadata": {
        "id": "SQb4Hjfii5f_"
      }
    },
    {
      "cell_type": "code",
      "source": [
        "\n",
        "import seaborn as sns\n",
        "from sklearn.metrics import confusion_matrix\n",
        "\n",
        "# create the confusion matrix\n",
        "conf_m = confusion_matrix(y_test, y_pred)\n",
        "\n",
        "# plot the matrix\n",
        "sns.heatmap(conf_m, annot=True, cmap='Blues')\n",
        "\n",
        "# add title and axis labels\n",
        "plt.title('Confusion Matrix')\n",
        "plt.ylabel('True label')\n",
        "plt.xlabel('Predicted label')\n"
      ],
      "metadata": {
        "colab": {
          "base_uri": "https://localhost:8080/",
          "height": 312
        },
        "id": "JgXN2UpWe9kW",
        "outputId": "853a734e-86da-4ada-a23e-df3cb7ac5ae4"
      },
      "execution_count": null,
      "outputs": [
        {
          "output_type": "execute_result",
          "data": {
            "text/plain": [
              "Text(0.5, 15.0, 'Predicted label')"
            ]
          },
          "metadata": {},
          "execution_count": 50
        },
        {
          "output_type": "display_data",
          "data": {
            "text/plain": [
              "<Figure size 432x288 with 2 Axes>"
            ],
            "image/png": "[encoded data removed]"
          },
          "metadata": {
            "needs_background": "light"
          }
        }
      ]
    },
    {
      "cell_type": "markdown",
      "source": [
        "## Model-2: XGBoost Classifier"
      ],
      "metadata": {
        "id": "uFslg1BKkGD4"
      }
    },
    {
      "cell_type": "code",
      "source": [
        "# Import the Library\n",
        "\n",
        "from xgboost import XGBClassifier\n",
        "\n",
        "# Create an instance of the class\n",
        "\n",
        "classifier_xgb = XGBClassifier(random_state= 0)\n",
        "\n",
        "# Train the model\n",
        "\n",
        "classifier_xgb.fit(x_train, y_train)\n",
        "\n",
        "# Make Predictions\n",
        "\n",
        "y_pred = classifier_xgb.predict(x_test)"
      ],
      "metadata": {
        "id": "M-hZRI2vie4u"
      },
      "execution_count": null,
      "outputs": []
    },
    {
      "cell_type": "markdown",
      "source": [
        "### Preformance Evaluation"
      ],
      "metadata": {
        "id": "BLbF4zNnpXSx"
      }
    },
    {
      "cell_type": "code",
      "source": [
        "# Evaluate the performance\n",
        "\n",
        "from sklearn.metrics import confusion_matrix, accuracy_score, f1_score, r2_score\n",
        "\n",
        "# Evaluate the performance\n",
        "\n",
        "conf_m = confusion_matrix(y_test, y_pred)\n",
        "acc = accuracy_score(y_test, y_pred)\n",
        "f1 = f1_score(y_test, y_pred)\n",
        "r2 = r2_score(y_test, y_pred)\n",
        "rs = recall_score(y_test, y_pred)\n",
        "ps = precision_score(y_test, y_pred)\n",
        "\n",
        "print(\"conf_m: {}  \\nacc: {} \\nf1: {}  \\nr2: {} \\nrs: {} \\nps: {}\".format(conf_m, acc*100, f1*100, r2*100, rs*100, ps*100))"
      ],
      "metadata": {
        "colab": {
          "base_uri": "https://localhost:8080/"
        },
        "id": "lxNpD9qJie-e",
        "outputId": "d6d4699c-2f14-4e67-d591-23d1d1599621"
      },
      "execution_count": null,
      "outputs": [
        {
          "output_type": "stream",
          "name": "stdout",
          "text": [
            "conf_m: [[87 19]\n",
            " [23 71]]  \n",
            "acc: 79.0 \n",
            "f1: 77.17391304347827  \n",
            "r2: 15.69650742673624 \n",
            "rs: 75.53191489361703 \n",
            "ps: 78.88888888888889\n"
          ]
        }
      ]
    },
    {
      "cell_type": "markdown",
      "source": [
        "### Confusion Matrix Visual"
      ],
      "metadata": {
        "id": "MMmuGJsbp2nX"
      }
    },
    {
      "cell_type": "code",
      "source": [
        "import seaborn as sns\n",
        "from sklearn.metrics import confusion_matrix\n",
        "\n",
        "# create the confusion matrix\n",
        "conf_m = confusion_matrix(y_test, y_pred)\n",
        "\n",
        "# plot the matrix\n",
        "sns.heatmap(conf_m, annot=True, cmap='Blues')\n",
        "\n",
        "# add title and axis labels\n",
        "plt.title('Confusion Matrix')\n",
        "plt.ylabel('True label')\n",
        "plt.xlabel('Predicted label')"
      ],
      "metadata": {
        "colab": {
          "base_uri": "https://localhost:8080/",
          "height": 312
        },
        "id": "ye1KDzduifBM",
        "outputId": "20ab4011-22b5-451e-a972-b4ccac9f07f2"
      },
      "execution_count": null,
      "outputs": [
        {
          "output_type": "execute_result",
          "data": {
            "text/plain": [
              "Text(0.5, 15.0, 'Predicted label')"
            ]
          },
          "metadata": {},
          "execution_count": 57
        },
        {
          "output_type": "display_data",
          "data": {
            "text/plain": [
              "<Figure size 432x288 with 2 Axes>"
            ],
            "image/png": "[encoded data removed]"
          },
          "metadata": {
            "needs_background": "light"
          }
        }
      ]
    },
    {
      "cell_type": "markdown",
      "source": [
        "# Part-3: Parameter Optimization"
      ],
      "metadata": {
        "id": "smJ1S1qfrKOQ"
      }
    },
    {
      "cell_type": "code",
      "source": [
        "# ImportClass\n",
        "\n",
        "from sklearn.model_selection import RandomizedSearchCV"
      ],
      "metadata": {
        "id": "XyTuyMt1ifE7"
      },
      "execution_count": null,
      "outputs": []
    },
    {
      "cell_type": "code",
      "source": [
        "param_grid = {\n",
        "    'n_estimators': [100, 500, 1000],\n",
        "    'max_features': ['sqrt', 'log2'],\n",
        "    'max_depth': [10, 20, 30],\n",
        "    'min_samples_split': [2, 5, 10],\n",
        "    'min_samples_leaf': [1, 2, 4],\n",
        "    'bootstrap': [True, False],\n",
        "    'criterion': ['squared_error', 'absolute_error', 'friedman_mse', 'poisson']}"
      ],
      "metadata": {
        "id": "VolHjHRRq0Ds"
      },
      "execution_count": null,
      "outputs": []
    },
    {
      "cell_type": "code",
      "source": [
        "param_grid"
      ],
      "metadata": {
        "colab": {
          "base_uri": "https://localhost:8080/"
        },
        "id": "fYily1IYq0Gp",
        "outputId": "155b52b3-d6a9-49c4-9772-8e99909f0fa8"
      },
      "execution_count": null,
      "outputs": [
        {
          "output_type": "execute_result",
          "data": {
            "text/plain": [
              "{'n_estimators': [100, 500, 1000],\n",
              " 'max_features': ['sqrt', 'log2'],\n",
              " 'max_depth': [10, 20, 30],\n",
              " 'min_samples_split': [2, 5, 10],\n",
              " 'min_samples_leaf': [1, 2, 4],\n",
              " 'bootstrap': [True, False],\n",
              " 'criterion': ['squared_error', 'absolute_error', 'friedman_mse', 'poisson']}"
            ]
          },
          "metadata": {},
          "execution_count": 60
        }
      ]
    },
    {
      "cell_type": "code",
      "source": [
        "# Create an Instance\n",
        "random_cv = RandomizedSearchCV(estimator= classifier_xgb, param_distributions= param_grid, n_iter= 10,\n",
        "                               scoring= \"neg_mean_absolute_error\", cv= 5, verbose= 2, n_jobs= -1)"
      ],
      "metadata": {
        "id": "b4bdnW63q0Jo"
      },
      "execution_count": null,
      "outputs": []
    },
    {
      "cell_type": "code",
      "source": [
        "# Train the model\n",
        "\n",
        "random_cv.fit(x_train, y_train)"
      ],
      "metadata": {
        "colab": {
          "base_uri": "https://localhost:8080/",
          "height": 187
        },
        "id": "fmgLSay9q0L7",
        "outputId": "5813a7bc-ffe6-453b-c888-9d22ba03aabf"
      },
      "execution_count": null,
      "outputs": [
        {
          "output_type": "stream",
          "name": "stdout",
          "text": [
            "Fitting 5 folds for each of 10 candidates, totalling 50 fits\n",
            "[16:42:08] WARNING: ../src/learner.cc:767: \n",
            "Parameters: { \"bootstrap\", \"criterion\", \"max_features\", \"min_samples_leaf\", \"min_samples_split\" } are not used.\n",
            "\n"
          ]
        },
        {
          "output_type": "execute_result",
          "data": {
            "text/plain": [
              "RandomizedSearchCV(cv=5,\n",
              "                   estimator=XGBClassifier(base_score=None, booster=None,\n",
              "                                           callbacks=None,\n",
              "                                           colsample_bylevel=None,\n",
              "                                           colsample_bynode=None,\n",
              "                                           colsample_bytree=None,\n",
              "                                           early_stopping_rounds=None,\n",
              "                                           enable_categorical=False,\n",
              "                                           eval_metric=None, feature_types=None,\n",
              "                                           gamma=None, gpu_id=None,\n",
              "                                           grow_policy=None,\n",
              "                                           importance_type=None,\n",
              "                                           interaction_constraints=None,\n",
              "                                           learning_rate...\n",
              "                                           num_parallel_tree=None,\n",
              "                                           predictor=None, random_state=0, ...),\n",
              "                   n_jobs=-1,\n",
              "                   param_distributions={'bootstrap': [True, False],\n",
              "                                        'criterion': ['squared_error',\n",
              "                                                      'absolute_error',\n",
              "                                                      'friedman_mse',\n",
              "                                                      'poisson'],\n",
              "                                        'max_depth': [10, 20, 30],\n",
              "                                        'max_features': ['sqrt', 'log2'],\n",
              "                                        'min_samples_leaf': [1, 2, 4],\n",
              "                                        'min_samples_split': [2, 5, 10],\n",
              "                                        'n_estimators': [100, 500, 1000]},\n",
              "                   scoring='neg_mean_absolute_error', verbose=2)"
            ],
            "text/html": [
              "<style>#sk-container-id-2 {color: black;background-color: white;}#sk-container-id-2 pre{padding: 0;}#sk-container-id-2 div.sk-toggleable {background-color: white;}#sk-container-id-2 label.sk-toggleable__label {cursor: pointer;display: block;width: 100%;margin-bottom: 0;padding: 0.3em;box-sizing: border-box;text-align: center;}#sk-container-id-2 label.sk-toggleable__label-arrow:before {content: \"▸\";float: left;margin-right: 0.25em;color: #696969;}#sk-container-id-2 label.sk-toggleable__label-arrow:hover:before {color: black;}#sk-container-id-2 div.sk-estimator:hover label.sk-toggleable__label-arrow:before {color: black;}#sk-container-id-2 div.sk-toggleable__content {max-height: 0;max-width: 0;overflow: hidden;text-align: left;background-color: #f0f8ff;}#sk-container-id-2 div.sk-toggleable__content pre {margin: 0.2em;color: black;border-radius: 0.25em;background-color: #f0f8ff;}#sk-container-id-2 input.sk-toggleable__control:checked~div.sk-toggleable__content {max-height: 200px;max-width: 100%;overflow: auto;}#sk-container-id-2 input.sk-toggleable__control:checked~label.sk-toggleable__label-arrow:before {content: \"▾\";}#sk-container-id-2 div.sk-estimator input.sk-toggleable__control:checked~label.sk-toggleable__label {background-color: #d4ebff;}#sk-container-id-2 div.sk-label input.sk-toggleable__control:checked~label.sk-toggleable__label {background-color: #d4ebff;}#sk-container-id-2 input.sk-hidden--visually {border: 0;clip: rect(1px 1px 1px 1px);clip: rect(1px, 1px, 1px, 1px);height: 1px;margin: -1px;overflow: hidden;padding: 0;position: absolute;width: 1px;}#sk-container-id-2 div.sk-estimator {font-family: monospace;background-color: #f0f8ff;border: 1px dotted black;border-radius: 0.25em;box-sizing: border-box;margin-bottom: 0.5em;}#sk-container-id-2 div.sk-estimator:hover {background-color: #d4ebff;}#sk-container-id-2 div.sk-parallel-item::after {content: \"\";width: 100%;border-bottom: 1px solid gray;flex-grow: 1;}#sk-container-id-2 div.sk-label:hover label.sk-toggleable__label {background-color: #d4ebff;}#sk-container-id-2 div.sk-serial::before {content: \"\";position: absolute;border-left: 1px solid gray;box-sizing: border-box;top: 0;bottom: 0;left: 50%;z-index: 0;}#sk-container-id-2 div.sk-serial {display: flex;flex-direction: column;align-items: center;background-color: white;padding-right: 0.2em;padding-left: 0.2em;position: relative;}#sk-container-id-2 div.sk-item {position: relative;z-index: 1;}#sk-container-id-2 div.sk-parallel {display: flex;align-items: stretch;justify-content: center;background-color: white;position: relative;}#sk-container-id-2 div.sk-item::before, #sk-container-id-2 div.sk-parallel-item::before {content: \"\";position: absolute;border-left: 1px solid gray;box-sizing: border-box;top: 0;bottom: 0;left: 50%;z-index: -1;}#sk-container-id-2 div.sk-parallel-item {display: flex;flex-direction: column;z-index: 1;position: relative;background-color: white;}#sk-container-id-2 div.sk-parallel-item:first-child::after {align-self: flex-end;width: 50%;}#sk-container-id-2 div.sk-parallel-item:last-child::after {align-self: flex-start;width: 50%;}#sk-container-id-2 div.sk-parallel-item:only-child::after {width: 0;}#sk-container-id-2 div.sk-dashed-wrapped {border: 1px dashed gray;margin: 0 0.4em 0.5em 0.4em;box-sizing: border-box;padding-bottom: 0.4em;background-color: white;}#sk-container-id-2 div.sk-label label {font-family: monospace;font-weight: bold;display: inline-block;line-height: 1.2em;}#sk-container-id-2 div.sk-label-container {text-align: center;}#sk-container-id-2 div.sk-container {/* jupyter's `normalize.less` sets `[hidden] { display: none; }` but bootstrap.min.css set `[hidden] { display: none !important; }` so we also need the `!important` here to be able to override the default hidden behavior on the sphinx rendered scikit-learn.org. See: https://github.com/scikit-learn/scikit-learn/issues/21755 */display: inline-block !important;position: relative;}#sk-container-id-2 div.sk-text-repr-fallback {display: none;}</style><div id=\"sk-container-id-2\" class=\"sk-top-container\"><div class=\"sk-text-repr-fallback\"><pre>RandomizedSearchCV(cv=5,\n",
              "                   estimator=XGBClassifier(base_score=None, booster=None,\n",
              "                                           callbacks=None,\n",
              "                                           colsample_bylevel=None,\n",
              "                                           colsample_bynode=None,\n",
              "                                           colsample_bytree=None,\n",
              "                                           early_stopping_rounds=None,\n",
              "                                           enable_categorical=False,\n",
              "                                           eval_metric=None, feature_types=None,\n",
              "                                           gamma=None, gpu_id=None,\n",
              "                                           grow_policy=None,\n",
              "                                           importance_type=None,\n",
              "                                           interaction_constraints=None,\n",
              "                                           learning_rate...\n",
              "                                           num_parallel_tree=None,\n",
              "                                           predictor=None, random_state=0, ...),\n",
              "                   n_jobs=-1,\n",
              "                   param_distributions={&#x27;bootstrap&#x27;: [True, False],\n",
              "                                        &#x27;criterion&#x27;: [&#x27;squared_error&#x27;,\n",
              "                                                      &#x27;absolute_error&#x27;,\n",
              "                                                      &#x27;friedman_mse&#x27;,\n",
              "                                                      &#x27;poisson&#x27;],\n",
              "                                        &#x27;max_depth&#x27;: [10, 20, 30],\n",
              "                                        &#x27;max_features&#x27;: [&#x27;sqrt&#x27;, &#x27;log2&#x27;],\n",
              "                                        &#x27;min_samples_leaf&#x27;: [1, 2, 4],\n",
              "                                        &#x27;min_samples_split&#x27;: [2, 5, 10],\n",
              "                                        &#x27;n_estimators&#x27;: [100, 500, 1000]},\n",
              "                   scoring=&#x27;neg_mean_absolute_error&#x27;, verbose=2)</pre><b>In a Jupyter environment, please rerun this cell to show the HTML representation or trust the notebook. <br />On GitHub, the HTML representation is unable to render, please try loading this page with nbviewer.org.</b></div><div class=\"sk-container\" hidden><div class=\"sk-item sk-dashed-wrapped\"><div class=\"sk-label-container\"><div class=\"sk-label sk-toggleable\"><input class=\"sk-toggleable__control sk-hidden--visually\" id=\"sk-estimator-id-2\" type=\"checkbox\" ><label for=\"sk-estimator-id-2\" class=\"sk-toggleable__label sk-toggleable__label-arrow\">RandomizedSearchCV</label><div class=\"sk-toggleable__content\"><pre>RandomizedSearchCV(cv=5,\n",
              "                   estimator=XGBClassifier(base_score=None, booster=None,\n",
              "                                           callbacks=None,\n",
              "                                           colsample_bylevel=None,\n",
              "                                           colsample_bynode=None,\n",
              "                                           colsample_bytree=None,\n",
              "                                           early_stopping_rounds=None,\n",
              "                                           enable_categorical=False,\n",
              "                                           eval_metric=None, feature_types=None,\n",
              "                                           gamma=None, gpu_id=None,\n",
              "                                           grow_policy=None,\n",
              "                                           importance_type=None,\n",
              "                                           interaction_constraints=None,\n",
              "                                           learning_rate...\n",
              "                                           num_parallel_tree=None,\n",
              "                                           predictor=None, random_state=0, ...),\n",
              "                   n_jobs=-1,\n",
              "                   param_distributions={&#x27;bootstrap&#x27;: [True, False],\n",
              "                                        &#x27;criterion&#x27;: [&#x27;squared_error&#x27;,\n",
              "                                                      &#x27;absolute_error&#x27;,\n",
              "                                                      &#x27;friedman_mse&#x27;,\n",
              "                                                      &#x27;poisson&#x27;],\n",
              "                                        &#x27;max_depth&#x27;: [10, 20, 30],\n",
              "                                        &#x27;max_features&#x27;: [&#x27;sqrt&#x27;, &#x27;log2&#x27;],\n",
              "                                        &#x27;min_samples_leaf&#x27;: [1, 2, 4],\n",
              "                                        &#x27;min_samples_split&#x27;: [2, 5, 10],\n",
              "                                        &#x27;n_estimators&#x27;: [100, 500, 1000]},\n",
              "                   scoring=&#x27;neg_mean_absolute_error&#x27;, verbose=2)</pre></div></div></div><div class=\"sk-parallel\"><div class=\"sk-parallel-item\"><div class=\"sk-item\"><div class=\"sk-label-container\"><div class=\"sk-label sk-toggleable\"><input class=\"sk-toggleable__control sk-hidden--visually\" id=\"sk-estimator-id-3\" type=\"checkbox\" ><label for=\"sk-estimator-id-3\" class=\"sk-toggleable__label sk-toggleable__label-arrow\">estimator: XGBClassifier</label><div class=\"sk-toggleable__content\"><pre>XGBClassifier(base_score=None, booster=None, callbacks=None,\n",
              "              colsample_bylevel=None, colsample_bynode=None,\n",
              "              colsample_bytree=None, early_stopping_rounds=None,\n",
              "              enable_categorical=False, eval_metric=None, feature_types=None,\n",
              "              gamma=None, gpu_id=None, grow_policy=None, importance_type=None,\n",
              "              interaction_constraints=None, learning_rate=None, max_bin=None,\n",
              "              max_cat_threshold=None, max_cat_to_onehot=None,\n",
              "              max_delta_step=None, max_depth=None, max_leaves=None,\n",
              "              min_child_weight=None, missing=nan, monotone_constraints=None,\n",
              "              n_estimators=100, n_jobs=None, num_parallel_tree=None,\n",
              "              predictor=None, random_state=0, ...)</pre></div></div></div><div class=\"sk-serial\"><div class=\"sk-item\"><div class=\"sk-estimator sk-toggleable\"><input class=\"sk-toggleable__control sk-hidden--visually\" id=\"sk-estimator-id-4\" type=\"checkbox\" ><label for=\"sk-estimator-id-4\" class=\"sk-toggleable__label sk-toggleable__label-arrow\">XGBClassifier</label><div class=\"sk-toggleable__content\"><pre>XGBClassifier(base_score=None, booster=None, callbacks=None,\n",
              "              colsample_bylevel=None, colsample_bynode=None,\n",
              "              colsample_bytree=None, early_stopping_rounds=None,\n",
              "              enable_categorical=False, eval_metric=None, feature_types=None,\n",
              "              gamma=None, gpu_id=None, grow_policy=None, importance_type=None,\n",
              "              interaction_constraints=None, learning_rate=None, max_bin=None,\n",
              "              max_cat_threshold=None, max_cat_to_onehot=None,\n",
              "              max_delta_step=None, max_depth=None, max_leaves=None,\n",
              "              min_child_weight=None, missing=nan, monotone_constraints=None,\n",
              "              n_estimators=100, n_jobs=None, num_parallel_tree=None,\n",
              "              predictor=None, random_state=0, ...)</pre></div></div></div></div></div></div></div></div></div></div>"
            ]
          },
          "metadata": {},
          "execution_count": 62
        }
      ]
    },
    {
      "cell_type": "code",
      "source": [
        "random_cv.best_estimator_"
      ],
      "metadata": {
        "colab": {
          "base_uri": "https://localhost:8080/",
          "height": 248
        },
        "id": "xUuy1ZlJsGxx",
        "outputId": "a764a2bc-4e95-4b65-ddf9-d8a2c7781563"
      },
      "execution_count": null,
      "outputs": [
        {
          "output_type": "execute_result",
          "data": {
            "text/plain": [
              "XGBClassifier(base_score=None, booster=None, bootstrap=True, callbacks=None,\n",
              "              colsample_bylevel=None, colsample_bynode=None,\n",
              "              colsample_bytree=None, criterion='friedman_mse',\n",
              "              early_stopping_rounds=None, enable_categorical=False,\n",
              "              eval_metric=None, feature_types=None, gamma=None, gpu_id=None,\n",
              "              grow_policy=None, importance_type=None,\n",
              "              interaction_constraints=None, learning_rate=None, max_bin=None,\n",
              "              max_cat_threshold=None, max_cat_to_onehot=None,\n",
              "              max_delta_step=None, max_depth=20, max_features='sqrt',\n",
              "              max_leaves=None, min_child_weight=None, min_samples_leaf=2,\n",
              "              min_samples_split=2, missing=nan, monotone_constraints=None, ...)"
            ],
            "text/html": [
              "<style>#sk-container-id-3 {color: black;background-color: white;}#sk-container-id-3 pre{padding: 0;}#sk-container-id-3 div.sk-toggleable {background-color: white;}#sk-container-id-3 label.sk-toggleable__label {cursor: pointer;display: block;width: 100%;margin-bottom: 0;padding: 0.3em;box-sizing: border-box;text-align: center;}#sk-container-id-3 label.sk-toggleable__label-arrow:before {content: \"▸\";float: left;margin-right: 0.25em;color: #696969;}#sk-container-id-3 label.sk-toggleable__label-arrow:hover:before {color: black;}#sk-container-id-3 div.sk-estimator:hover label.sk-toggleable__label-arrow:before {color: black;}#sk-container-id-3 div.sk-toggleable__content {max-height: 0;max-width: 0;overflow: hidden;text-align: left;background-color: #f0f8ff;}#sk-container-id-3 div.sk-toggleable__content pre {margin: 0.2em;color: black;border-radius: 0.25em;background-color: #f0f8ff;}#sk-container-id-3 input.sk-toggleable__control:checked~div.sk-toggleable__content {max-height: 200px;max-width: 100%;overflow: auto;}#sk-container-id-3 input.sk-toggleable__control:checked~label.sk-toggleable__label-arrow:before {content: \"▾\";}#sk-container-id-3 div.sk-estimator input.sk-toggleable__control:checked~label.sk-toggleable__label {background-color: #d4ebff;}#sk-container-id-3 div.sk-label input.sk-toggleable__control:checked~label.sk-toggleable__label {background-color: #d4ebff;}#sk-container-id-3 input.sk-hidden--visually {border: 0;clip: rect(1px 1px 1px 1px);clip: rect(1px, 1px, 1px, 1px);height: 1px;margin: -1px;overflow: hidden;padding: 0;position: absolute;width: 1px;}#sk-container-id-3 div.sk-estimator {font-family: monospace;background-color: #f0f8ff;border: 1px dotted black;border-radius: 0.25em;box-sizing: border-box;margin-bottom: 0.5em;}#sk-container-id-3 div.sk-estimator:hover {background-color: #d4ebff;}#sk-container-id-3 div.sk-parallel-item::after {content: \"\";width: 100%;border-bottom: 1px solid gray;flex-grow: 1;}#sk-container-id-3 div.sk-label:hover label.sk-toggleable__label {background-color: #d4ebff;}#sk-container-id-3 div.sk-serial::before {content: \"\";position: absolute;border-left: 1px solid gray;box-sizing: border-box;top: 0;bottom: 0;left: 50%;z-index: 0;}#sk-container-id-3 div.sk-serial {display: flex;flex-direction: column;align-items: center;background-color: white;padding-right: 0.2em;padding-left: 0.2em;position: relative;}#sk-container-id-3 div.sk-item {position: relative;z-index: 1;}#sk-container-id-3 div.sk-parallel {display: flex;align-items: stretch;justify-content: center;background-color: white;position: relative;}#sk-container-id-3 div.sk-item::before, #sk-container-id-3 div.sk-parallel-item::before {content: \"\";position: absolute;border-left: 1px solid gray;box-sizing: border-box;top: 0;bottom: 0;left: 50%;z-index: -1;}#sk-container-id-3 div.sk-parallel-item {display: flex;flex-direction: column;z-index: 1;position: relative;background-color: white;}#sk-container-id-3 div.sk-parallel-item:first-child::after {align-self: flex-end;width: 50%;}#sk-container-id-3 div.sk-parallel-item:last-child::after {align-self: flex-start;width: 50%;}#sk-container-id-3 div.sk-parallel-item:only-child::after {width: 0;}#sk-container-id-3 div.sk-dashed-wrapped {border: 1px dashed gray;margin: 0 0.4em 0.5em 0.4em;box-sizing: border-box;padding-bottom: 0.4em;background-color: white;}#sk-container-id-3 div.sk-label label {font-family: monospace;font-weight: bold;display: inline-block;line-height: 1.2em;}#sk-container-id-3 div.sk-label-container {text-align: center;}#sk-container-id-3 div.sk-container {/* jupyter's `normalize.less` sets `[hidden] { display: none; }` but bootstrap.min.css set `[hidden] { display: none !important; }` so we also need the `!important` here to be able to override the default hidden behavior on the sphinx rendered scikit-learn.org. See: https://github.com/scikit-learn/scikit-learn/issues/21755 */display: inline-block !important;position: relative;}#sk-container-id-3 div.sk-text-repr-fallback {display: none;}</style><div id=\"sk-container-id-3\" class=\"sk-top-container\"><div class=\"sk-text-repr-fallback\"><pre>XGBClassifier(base_score=None, booster=None, bootstrap=True, callbacks=None,\n",
              "              colsample_bylevel=None, colsample_bynode=None,\n",
              "              colsample_bytree=None, criterion=&#x27;friedman_mse&#x27;,\n",
              "              early_stopping_rounds=None, enable_categorical=False,\n",
              "              eval_metric=None, feature_types=None, gamma=None, gpu_id=None,\n",
              "              grow_policy=None, importance_type=None,\n",
              "              interaction_constraints=None, learning_rate=None, max_bin=None,\n",
              "              max_cat_threshold=None, max_cat_to_onehot=None,\n",
              "              max_delta_step=None, max_depth=20, max_features=&#x27;sqrt&#x27;,\n",
              "              max_leaves=None, min_child_weight=None, min_samples_leaf=2,\n",
              "              min_samples_split=2, missing=nan, monotone_constraints=None, ...)</pre><b>In a Jupyter environment, please rerun this cell to show the HTML representation or trust the notebook. <br />On GitHub, the HTML representation is unable to render, please try loading this page with nbviewer.org.</b></div><div class=\"sk-container\" hidden><div class=\"sk-item\"><div class=\"sk-estimator sk-toggleable\"><input class=\"sk-toggleable__control sk-hidden--visually\" id=\"sk-estimator-id-5\" type=\"checkbox\" checked><label for=\"sk-estimator-id-5\" class=\"sk-toggleable__label sk-toggleable__label-arrow\">XGBClassifier</label><div class=\"sk-toggleable__content\"><pre>XGBClassifier(base_score=None, booster=None, bootstrap=True, callbacks=None,\n",
              "              colsample_bylevel=None, colsample_bynode=None,\n",
              "              colsample_bytree=None, criterion=&#x27;friedman_mse&#x27;,\n",
              "              early_stopping_rounds=None, enable_categorical=False,\n",
              "              eval_metric=None, feature_types=None, gamma=None, gpu_id=None,\n",
              "              grow_policy=None, importance_type=None,\n",
              "              interaction_constraints=None, learning_rate=None, max_bin=None,\n",
              "              max_cat_threshold=None, max_cat_to_onehot=None,\n",
              "              max_delta_step=None, max_depth=20, max_features=&#x27;sqrt&#x27;,\n",
              "              max_leaves=None, min_child_weight=None, min_samples_leaf=2,\n",
              "              min_samples_split=2, missing=nan, monotone_constraints=None, ...)</pre></div></div></div></div></div>"
            ]
          },
          "metadata": {},
          "execution_count": 63
        }
      ]
    },
    {
      "cell_type": "code",
      "source": [
        "random_cv.best_params_"
      ],
      "metadata": {
        "colab": {
          "base_uri": "https://localhost:8080/"
        },
        "id": "EQrL4O74sG0d",
        "outputId": "598307ee-174f-4e0b-f31e-7a745b81ca0c"
      },
      "execution_count": null,
      "outputs": [
        {
          "output_type": "execute_result",
          "data": {
            "text/plain": [
              "{'n_estimators': 100,\n",
              " 'min_samples_split': 2,\n",
              " 'min_samples_leaf': 2,\n",
              " 'max_features': 'sqrt',\n",
              " 'max_depth': 20,\n",
              " 'criterion': 'friedman_mse',\n",
              " 'bootstrap': True}"
            ]
          },
          "metadata": {},
          "execution_count": 64
        }
      ]
    },
    {
      "cell_type": "code",
      "source": [
        "random_cv.best_score_"
      ],
      "metadata": {
        "colab": {
          "base_uri": "https://localhost:8080/"
        },
        "id": "On7JCgJCsHBQ",
        "outputId": "1a47d281-8ec0-4092-811f-a71d07c744c2"
      },
      "execution_count": null,
      "outputs": [
        {
          "output_type": "execute_result",
          "data": {
            "text/plain": [
              "-0.31500000000000006"
            ]
          },
          "metadata": {},
          "execution_count": 65
        }
      ]
    },
    {
      "cell_type": "markdown",
      "source": [
        "# Part-4: Final Model"
      ],
      "metadata": {
        "id": "2lDwYOL56O2R"
      }
    },
    {
      "cell_type": "markdown",
      "source": [
        "## Model-3: XBG-Applied"
      ],
      "metadata": {
        "id": "UOQ48eSf6x6T"
      }
    },
    {
      "cell_type": "code",
      "source": [
        "# Import the Class\n",
        "\n",
        "from xgboost import XGBClassifier\n",
        "\n",
        "# Create an instance of class and apply best estimator\n",
        "\n",
        "classifier = XGBClassifier(base_score=None, booster=None, bootstrap=True, callbacks=None,\n",
        "              colsample_bylevel=None, colsample_bynode=None,\n",
        "              colsample_bytree=None, criterion='friedman_mse',\n",
        "              early_stopping_rounds=None, enable_categorical=False,\n",
        "              eval_metric=None, feature_types=None, gamma=None, gpu_id=None,\n",
        "              grow_policy=None, importance_type=None,\n",
        "              interaction_constraints=None, learning_rate=None, max_bin=None,\n",
        "              max_cat_threshold=None, max_cat_to_onehot=None,\n",
        "              max_delta_step=None, max_depth=20, max_features='sqrt',\n",
        "              max_leaves=None, min_child_weight=None, min_samples_leaf=2,\n",
        "              min_samples_split=2, missing=0, monotone_constraints=None)\n",
        "\n"
      ],
      "metadata": {
        "id": "2wup-x0CsHHv"
      },
      "execution_count": null,
      "outputs": []
    },
    {
      "cell_type": "code",
      "source": [
        "# Train the model\n",
        "\n",
        "classifier.fit(x_train, y_train)\n"
      ],
      "metadata": {
        "colab": {
          "base_uri": "https://localhost:8080/",
          "height": 300
        },
        "id": "ta60Sfyk6bHm",
        "outputId": "50f442d9-b690-4e60-b11f-88569cb43d1a"
      },
      "execution_count": null,
      "outputs": [
        {
          "output_type": "stream",
          "name": "stdout",
          "text": [
            "[16:56:04] WARNING: ../src/learner.cc:767: \n",
            "Parameters: { \"bootstrap\", \"criterion\", \"max_features\", \"min_samples_leaf\", \"min_samples_split\" } are not used.\n",
            "\n"
          ]
        },
        {
          "output_type": "execute_result",
          "data": {
            "text/plain": [
              "XGBClassifier(base_score=None, booster=None, bootstrap=True, callbacks=None,\n",
              "              colsample_bylevel=None, colsample_bynode=None,\n",
              "              colsample_bytree=None, criterion='friedman_mse',\n",
              "              early_stopping_rounds=None, enable_categorical=False,\n",
              "              eval_metric=None, feature_types=None, gamma=None, gpu_id=None,\n",
              "              grow_policy=None, importance_type=None,\n",
              "              interaction_constraints=None, learning_rate=None, max_bin=None,\n",
              "              max_cat_threshold=None, max_cat_to_onehot=None,\n",
              "              max_delta_step=None, max_depth=20, max_features='sqrt',\n",
              "              max_leaves=None, min_child_weight=None, min_samples_leaf=2,\n",
              "              min_samples_split=2, missing=0, monotone_constraints=None, ...)"
            ],
            "text/html": [
              "<style>#sk-container-id-5 {color: black;background-color: white;}#sk-container-id-5 pre{padding: 0;}#sk-container-id-5 div.sk-toggleable {background-color: white;}#sk-container-id-5 label.sk-toggleable__label {cursor: pointer;display: block;width: 100%;margin-bottom: 0;padding: 0.3em;box-sizing: border-box;text-align: center;}#sk-container-id-5 label.sk-toggleable__label-arrow:before {content: \"▸\";float: left;margin-right: 0.25em;color: #696969;}#sk-container-id-5 label.sk-toggleable__label-arrow:hover:before {color: black;}#sk-container-id-5 div.sk-estimator:hover label.sk-toggleable__label-arrow:before {color: black;}#sk-container-id-5 div.sk-toggleable__content {max-height: 0;max-width: 0;overflow: hidden;text-align: left;background-color: #f0f8ff;}#sk-container-id-5 div.sk-toggleable__content pre {margin: 0.2em;color: black;border-radius: 0.25em;background-color: #f0f8ff;}#sk-container-id-5 input.sk-toggleable__control:checked~div.sk-toggleable__content {max-height: 200px;max-width: 100%;overflow: auto;}#sk-container-id-5 input.sk-toggleable__control:checked~label.sk-toggleable__label-arrow:before {content: \"▾\";}#sk-container-id-5 div.sk-estimator input.sk-toggleable__control:checked~label.sk-toggleable__label {background-color: #d4ebff;}#sk-container-id-5 div.sk-label input.sk-toggleable__control:checked~label.sk-toggleable__label {background-color: #d4ebff;}#sk-container-id-5 input.sk-hidden--visually {border: 0;clip: rect(1px 1px 1px 1px);clip: rect(1px, 1px, 1px, 1px);height: 1px;margin: -1px;overflow: hidden;padding: 0;position: absolute;width: 1px;}#sk-container-id-5 div.sk-estimator {font-family: monospace;background-color: #f0f8ff;border: 1px dotted black;border-radius: 0.25em;box-sizing: border-box;margin-bottom: 0.5em;}#sk-container-id-5 div.sk-estimator:hover {background-color: #d4ebff;}#sk-container-id-5 div.sk-parallel-item::after {content: \"\";width: 100%;border-bottom: 1px solid gray;flex-grow: 1;}#sk-container-id-5 div.sk-label:hover label.sk-toggleable__label {background-color: #d4ebff;}#sk-container-id-5 div.sk-serial::before {content: \"\";position: absolute;border-left: 1px solid gray;box-sizing: border-box;top: 0;bottom: 0;left: 50%;z-index: 0;}#sk-container-id-5 div.sk-serial {display: flex;flex-direction: column;align-items: center;background-color: white;padding-right: 0.2em;padding-left: 0.2em;position: relative;}#sk-container-id-5 div.sk-item {position: relative;z-index: 1;}#sk-container-id-5 div.sk-parallel {display: flex;align-items: stretch;justify-content: center;background-color: white;position: relative;}#sk-container-id-5 div.sk-item::before, #sk-container-id-5 div.sk-parallel-item::before {content: \"\";position: absolute;border-left: 1px solid gray;box-sizing: border-box;top: 0;bottom: 0;left: 50%;z-index: -1;}#sk-container-id-5 div.sk-parallel-item {display: flex;flex-direction: column;z-index: 1;position: relative;background-color: white;}#sk-container-id-5 div.sk-parallel-item:first-child::after {align-self: flex-end;width: 50%;}#sk-container-id-5 div.sk-parallel-item:last-child::after {align-self: flex-start;width: 50%;}#sk-container-id-5 div.sk-parallel-item:only-child::after {width: 0;}#sk-container-id-5 div.sk-dashed-wrapped {border: 1px dashed gray;margin: 0 0.4em 0.5em 0.4em;box-sizing: border-box;padding-bottom: 0.4em;background-color: white;}#sk-container-id-5 div.sk-label label {font-family: monospace;font-weight: bold;display: inline-block;line-height: 1.2em;}#sk-container-id-5 div.sk-label-container {text-align: center;}#sk-container-id-5 div.sk-container {/* jupyter's `normalize.less` sets `[hidden] { display: none; }` but bootstrap.min.css set `[hidden] { display: none !important; }` so we also need the `!important` here to be able to override the default hidden behavior on the sphinx rendered scikit-learn.org. See: https://github.com/scikit-learn/scikit-learn/issues/21755 */display: inline-block !important;position: relative;}#sk-container-id-5 div.sk-text-repr-fallback {display: none;}</style><div id=\"sk-container-id-5\" class=\"sk-top-container\"><div class=\"sk-text-repr-fallback\"><pre>XGBClassifier(base_score=None, booster=None, bootstrap=True, callbacks=None,\n",
              "              colsample_bylevel=None, colsample_bynode=None,\n",
              "              colsample_bytree=None, criterion=&#x27;friedman_mse&#x27;,\n",
              "              early_stopping_rounds=None, enable_categorical=False,\n",
              "              eval_metric=None, feature_types=None, gamma=None, gpu_id=None,\n",
              "              grow_policy=None, importance_type=None,\n",
              "              interaction_constraints=None, learning_rate=None, max_bin=None,\n",
              "              max_cat_threshold=None, max_cat_to_onehot=None,\n",
              "              max_delta_step=None, max_depth=20, max_features=&#x27;sqrt&#x27;,\n",
              "              max_leaves=None, min_child_weight=None, min_samples_leaf=2,\n",
              "              min_samples_split=2, missing=0, monotone_constraints=None, ...)</pre><b>In a Jupyter environment, please rerun this cell to show the HTML representation or trust the notebook. <br />On GitHub, the HTML representation is unable to render, please try loading this page with nbviewer.org.</b></div><div class=\"sk-container\" hidden><div class=\"sk-item\"><div class=\"sk-estimator sk-toggleable\"><input class=\"sk-toggleable__control sk-hidden--visually\" id=\"sk-estimator-id-7\" type=\"checkbox\" checked><label for=\"sk-estimator-id-7\" class=\"sk-toggleable__label sk-toggleable__label-arrow\">XGBClassifier</label><div class=\"sk-toggleable__content\"><pre>XGBClassifier(base_score=None, booster=None, bootstrap=True, callbacks=None,\n",
              "              colsample_bylevel=None, colsample_bynode=None,\n",
              "              colsample_bytree=None, criterion=&#x27;friedman_mse&#x27;,\n",
              "              early_stopping_rounds=None, enable_categorical=False,\n",
              "              eval_metric=None, feature_types=None, gamma=None, gpu_id=None,\n",
              "              grow_policy=None, importance_type=None,\n",
              "              interaction_constraints=None, learning_rate=None, max_bin=None,\n",
              "              max_cat_threshold=None, max_cat_to_onehot=None,\n",
              "              max_delta_step=None, max_depth=20, max_features=&#x27;sqrt&#x27;,\n",
              "              max_leaves=None, min_child_weight=None, min_samples_leaf=2,\n",
              "              min_samples_split=2, missing=0, monotone_constraints=None, ...)</pre></div></div></div></div></div>"
            ]
          },
          "metadata": {},
          "execution_count": 72
        }
      ]
    },
    {
      "cell_type": "code",
      "source": [
        "# Make Predictions\n",
        "\n",
        "y_pred = classifier.predict(x_test)"
      ],
      "metadata": {
        "id": "irk0zgAs6bK3"
      },
      "execution_count": null,
      "outputs": []
    },
    {
      "cell_type": "markdown",
      "source": [
        "### Performance Evaluation"
      ],
      "metadata": {
        "id": "r16n6fF686cx"
      }
    },
    {
      "cell_type": "code",
      "source": [
        "# Evaluate the performance\n",
        "\n",
        "from sklearn.metrics import confusion_matrix, accuracy_score, f1_score, r2_score\n",
        "\n",
        "# Evaluate the performance\n",
        "\n",
        "conf_m = confusion_matrix(y_test, y_pred)\n",
        "acc = accuracy_score(y_test, y_pred)\n",
        "f1 = f1_score(y_test, y_pred)\n",
        "r2 = r2_score(y_test, y_pred)\n",
        "rs = recall_score(y_test, y_pred)\n",
        "ps = precision_score(y_test, y_pred)\n",
        "\n",
        "print(\"conf_m: {}  \\nacc: {} \\nf1: {}  \\nr2: {} \\nrs: {} \\nps: {}\".format(conf_m, acc*100, f1*100, r2*100, rs*100, ps*100))"
      ],
      "metadata": {
        "colab": {
          "base_uri": "https://localhost:8080/"
        },
        "id": "o9qThhQF6bN4",
        "outputId": "0c10ae8e-850a-425c-da84-6c91fed21a1d"
      },
      "execution_count": null,
      "outputs": [
        {
          "output_type": "stream",
          "name": "stdout",
          "text": [
            "conf_m: [[89 17]\n",
            " [22 72]]  \n",
            "acc: 80.5 \n",
            "f1: 78.68852459016394  \n",
            "r2: 21.718185467683647 \n",
            "rs: 76.59574468085107 \n",
            "ps: 80.89887640449437\n"
          ]
        }
      ]
    },
    {
      "cell_type": "markdown",
      "source": [
        "### Confusion Matrix Visual"
      ],
      "metadata": {
        "id": "i0xcaewS9VlL"
      }
    },
    {
      "cell_type": "code",
      "source": [
        "import seaborn as sns\n",
        "from sklearn.metrics import confusion_matrix\n",
        "\n",
        "# create the confusion matrix\n",
        "conf_m = confusion_matrix(y_test, y_pred)\n",
        "\n",
        "# plot the matrix\n",
        "sns.heatmap(conf_m, annot=True, cmap='Blues')\n",
        "\n",
        "# add title and axis labels\n",
        "plt.title('Confusion Matrix')\n",
        "plt.ylabel('True label')\n",
        "plt.xlabel('Predicted label')"
      ],
      "metadata": {
        "colab": {
          "base_uri": "https://localhost:8080/",
          "height": 312
        },
        "id": "TKkOn0A99Kpi",
        "outputId": "18200d14-f1fe-4b0d-dbc8-45f7a2650655"
      },
      "execution_count": null,
      "outputs": [
        {
          "output_type": "execute_result",
          "data": {
            "text/plain": [
              "Text(0.5, 15.0, 'Predicted label')"
            ]
          },
          "metadata": {},
          "execution_count": 75
        },
        {
          "output_type": "display_data",
          "data": {
            "text/plain": [
              "<Figure size 432x288 with 2 Axes>"
            ],
            "image/png": "[encoded data removed]"
          },
          "metadata": {
            "needs_background": "light"
          }
        }
      ]
    },
    {
      "cell_type": "code",
      "source": [],
      "metadata": {
        "id": "1GalBT0M93Y9"
      },
      "execution_count": null,
      "outputs": []
    }
  ]
}