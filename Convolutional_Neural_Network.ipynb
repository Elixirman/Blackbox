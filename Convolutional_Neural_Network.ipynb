{
  "nbformat": 4,
  "nbformat_minor": 0,
  "metadata": {
    "colab": {
      "provenance": [],
      "toc_visible": true,
      "authorship_tag": "ABX9TyP1psZwub/2TOlnCpX4AX9n",
      "include_colab_link": true
    },
    "kernelspec": {
      "name": "python3",
      "display_name": "Python 3"
    },
    "language_info": {
      "name": "python"
    }
  },
  "cells": [
    {
      "cell_type": "markdown",
      "metadata": {
        "id": "view-in-github",
        "colab_type": "text"
      },
      "source": [
        "<a href=\"https://colab.research.google.com/github/Elixirman/Blackbox/blob/main/Convolutional_Neural_Network.ipynb\" target=\"_parent\"><img src=\"https://colab.research.google.com/assets/colab-badge.svg\" alt=\"Open In Colab\"/></a>"
      ]
    },
    {
      "cell_type": "markdown",
      "source": [
        "AIM: CNN applicaton "
      ],
      "metadata": {
        "id": "BUDLJcYoZ9pY"
      }
    },
    {
      "cell_type": "markdown",
      "source": [
        "# Step-1: Installation & Setup"
      ],
      "metadata": {
        "id": "Sc__JY0rutFe"
      }
    },
    {
      "cell_type": "code",
      "execution_count": null,
      "metadata": {
        "id": "MB2PcY51nCso"
      },
      "outputs": [],
      "source": [
        "# Install Tensor-flow "
      ]
    },
    {
      "cell_type": "code",
      "source": [
        "import tensorflow as tf"
      ],
      "metadata": {
        "id": "skYqKFgiurv2"
      },
      "execution_count": 3,
      "outputs": []
    },
    {
      "cell_type": "code",
      "source": [
        "print(tf.__version__)"
      ],
      "metadata": {
        "colab": {
          "base_uri": "https://localhost:8080/"
        },
        "id": "FCqB55w7uydz",
        "outputId": "83243456-7a76-4cf4-dd2b-90514c0df26f"
      },
      "execution_count": 4,
      "outputs": [
        {
          "output_type": "stream",
          "name": "stdout",
          "text": [
            "2.12.0\n"
          ]
        }
      ]
    },
    {
      "cell_type": "markdown",
      "source": [
        "# Step-2: Data Preprocessing"
      ],
      "metadata": {
        "id": "z9UGYDEn5bxh"
      }
    },
    {
      "cell_type": "markdown",
      "source": [
        "## Data and Library Importation"
      ],
      "metadata": {
        "id": "gLh8vqa35w2B"
      }
    },
    {
      "cell_type": "code",
      "source": [
        "import pandas as pd\n",
        "import numpy as np\n",
        "import matplotlib.pyplot as plt\n",
        "import seaborn as sns"
      ],
      "metadata": {
        "id": "dt7peYFv5qjo"
      },
      "execution_count": 5,
      "outputs": []
    },
    {
      "cell_type": "code",
      "source": [
        "# Import dataset\n",
        "\n",
        "from tensorflow.keras.datasets import cifar10"
      ],
      "metadata": {
        "id": "7VTjlyCu5sDc"
      },
      "execution_count": 6,
      "outputs": []
    },
    {
      "cell_type": "code",
      "source": [
        "# Load dataset by creating 2 tuples\n",
        "\n",
        "(x_train, y_train), (x_test, y_test) = cifar10.load_data()"
      ],
      "metadata": {
        "colab": {
          "base_uri": "https://localhost:8080/"
        },
        "id": "JZB1P0xl5sGo",
        "outputId": "47828082-be9a-4f98-ade5-9b8bff4cc0b5"
      },
      "execution_count": null,
      "outputs": [
        {
          "output_type": "stream",
          "name": "stdout",
          "text": [
            "Downloading data from https://www.cs.toronto.edu/~kriz/cifar-10-python.tar.gz\n",
            "170498071/170498071 [==============================] - 11s 0us/step\n"
          ]
        }
      ]
    },
    {
      "cell_type": "code",
      "source": [
        "# Define variable of \"Labels//Classes\"\n",
        "\n",
        "class_names = [\"0:airplane\", \"1: automobile\", \"2: bird\", \"3: cat\", \"4: deer\", \"5: dog\", \"6: frog\", \"7: horse\", \"8: ship\", \"9: truck\"]"
      ],
      "metadata": {
        "id": "SNFqyW4r5sJf"
      },
      "execution_count": null,
      "outputs": []
    },
    {
      "cell_type": "code",
      "source": [
        "# Preview Classes\n",
        "\n",
        "class_names"
      ],
      "metadata": {
        "colab": {
          "base_uri": "https://localhost:8080/"
        },
        "id": "V3NQERJmBi1Z",
        "outputId": "5816059e-a0cf-442d-8cc6-0ef0adceaf55"
      },
      "execution_count": null,
      "outputs": [
        {
          "output_type": "execute_result",
          "data": {
            "text/plain": [
              "['0:airplane',\n",
              " '1: automobile',\n",
              " '2: bird',\n",
              " '3: cat',\n",
              " '4: deer',\n",
              " '5: dog',\n",
              " '6: frog',\n",
              " '7: horse',\n",
              " '8: ship',\n",
              " '9: truck']"
            ]
          },
          "metadata": {},
          "execution_count": 8
        }
      ]
    },
    {
      "cell_type": "code",
      "source": [
        "# Statistical Properties of class\n",
        "\n",
        "x_train.min(), x_train.max(), x_train.mean(), x_train.std() "
      ],
      "metadata": {
        "colab": {
          "base_uri": "https://localhost:8080/"
        },
        "id": "TocG3DrpEbYY",
        "outputId": "7f1d7cd5-6630-4bdd-bd9c-b85a1ba3f5aa"
      },
      "execution_count": null,
      "outputs": [
        {
          "output_type": "execute_result",
          "data": {
            "text/plain": [
              "(0, 255, 120.70756512369792, 64.1500758911213)"
            ]
          },
          "metadata": {},
          "execution_count": 9
        }
      ]
    },
    {
      "cell_type": "code",
      "source": [
        "y_train.min(), y_train.max(), y_train.mean(), y_train.std() "
      ],
      "metadata": {
        "id": "G5WwCu23FJRt",
        "colab": {
          "base_uri": "https://localhost:8080/"
        },
        "outputId": "d8532834-8bd7-42af-da92-b37fb262d6a7"
      },
      "execution_count": null,
      "outputs": [
        {
          "output_type": "execute_result",
          "data": {
            "text/plain": [
              "(0, 9, 4.5, 2.8722813232690143)"
            ]
          },
          "metadata": {},
          "execution_count": 10
        }
      ]
    },
    {
      "cell_type": "markdown",
      "source": [
        "## Dataset Normalization "
      ],
      "metadata": {
        "id": "TiF4GcYtfnQQ"
      }
    },
    {
      "cell_type": "code",
      "source": [
        "x_train = x_train / 255.0\n",
        "x_test = x_test / 255.0"
      ],
      "metadata": {
        "id": "7MyVJCdJe1pj"
      },
      "execution_count": null,
      "outputs": []
    },
    {
      "cell_type": "code",
      "source": [
        "# Preview current dataset properties\n",
        "x_train.min(), x_train.max(), x_train.mean(), x_train.std() "
      ],
      "metadata": {
        "colab": {
          "base_uri": "https://localhost:8080/"
        },
        "id": "OeSOg8PcgiZF",
        "outputId": "ba57893b-32c0-40c7-e45b-06426a65b3f2"
      },
      "execution_count": null,
      "outputs": [
        {
          "output_type": "execute_result",
          "data": {
            "text/plain": [
              "(0.0, 1.0, 0.4733630004850874, 0.25156892506322026)"
            ]
          },
          "metadata": {},
          "execution_count": 12
        }
      ]
    },
    {
      "cell_type": "code",
      "source": [
        "# Check Data shape\n",
        "x_train.shape, x_test.shape"
      ],
      "metadata": {
        "colab": {
          "base_uri": "https://localhost:8080/"
        },
        "id": "wFJ1Nvttgjui",
        "outputId": "823a29e9-4e55-4d14-892f-0d5cc514643a"
      },
      "execution_count": null,
      "outputs": [
        {
          "output_type": "execute_result",
          "data": {
            "text/plain": [
              "((50000, 32, 32, 3), (10000, 32, 32, 3))"
            ]
          },
          "metadata": {},
          "execution_count": 13
        }
      ]
    },
    {
      "cell_type": "code",
      "source": [
        "# Verify normalization //checking the colour bar scale\n",
        "\n",
        "plt.figure()\n",
        "plt.imshow(x_train[1])\n",
        "plt.colorbar()"
      ],
      "metadata": {
        "colab": {
          "base_uri": "https://localhost:8080/",
          "height": 283
        },
        "id": "y6Qx7xvhhv4I",
        "outputId": "06701954-52bd-4534-8968-6fa4bfa66555"
      },
      "execution_count": null,
      "outputs": [
        {
          "output_type": "execute_result",
          "data": {
            "text/plain": [
              "<matplotlib.colorbar.Colorbar at 0x7fb3a59b1820>"
            ]
          },
          "metadata": {},
          "execution_count": 14
        },
        {
          "output_type": "display_data",
          "data": {
            "text/plain": [
              "<Figure size 432x288 with 2 Axes>"
            ],
            "image/png": "[encoded data removed]"
          },
          "metadata": {
            "needs_background": "light"
          }
        }
      ]
    },
    {
      "cell_type": "code",
      "source": [
        "# Preview \n",
        "y_train[1]"
      ],
      "metadata": {
        "colab": {
          "base_uri": "https://localhost:8080/"
        },
        "id": "8MK9NIv7i7BB",
        "outputId": "3031574c-69fa-4465-ee63-ebc3f91212ba"
      },
      "execution_count": null,
      "outputs": [
        {
          "output_type": "execute_result",
          "data": {
            "text/plain": [
              "array([9], dtype=uint8)"
            ]
          },
          "metadata": {},
          "execution_count": 15
        }
      ]
    },
    {
      "cell_type": "markdown",
      "source": [
        "# Step-3: CNN Model Building"
      ],
      "metadata": {
        "id": "wp4ToCcolKbA"
      }
    },
    {
      "cell_type": "code",
      "source": [
        "# Defins an object // Create an instance // Initializing CNN\n",
        "\n",
        "model = tf.keras.models.Sequential()"
      ],
      "metadata": {
        "id": "O8byW9GLknvN"
      },
      "execution_count": null,
      "outputs": []
    },
    {
      "cell_type": "code",
      "source": [
        " # Adding 1st CNN Layer\n",
        "\"\"\"\n",
        "1. Filters (kernel) = 32\n",
        "2. kernel_size = 3\n",
        "3. padding = same\n",
        "4. Activation function = ReLU\n",
        "5. input_shape = (32,32,3) \n",
        "\"\"\"\n",
        "model.add(tf.keras.layers.Conv2D(filters= 32, kernel_size= 3, padding= \"same\", activation= \"relu\",input_shape= [32, 32, 3] ))"
      ],
      "metadata": {
        "id": "BIWl0X-3l8dh"
      },
      "execution_count": null,
      "outputs": []
    },
    {
      "cell_type": "code",
      "source": [
        "# Adding 2nd CNN layer and maxpool layer\n",
        "\"\"\"\n",
        "1. Filters (kernel) = 32\n",
        "2. kernel_size = 3\n",
        "3. padding = same\n",
        "4. Activation function = ReLU\n",
        "\"\"\"\n",
        "model.add(tf.keras.layers.Conv2D(filters= 32, kernel_size= 3, padding= \"same\", activation= \"relu\"))\n",
        "\n",
        "# Specify maxpool layer parameters\n",
        "\"\"\"\n",
        "1. pool_size = 2\n",
        "2. strides = 2\n",
        "3. padding = valid\n",
        "\"\"\"\n",
        "model.add(tf.keras.layers.MaxPool2D(pool_size= 2, strides= 2, padding= \"valid\"))"
      ],
      "metadata": {
        "id": "w3DdbiYkoSWI"
      },
      "execution_count": null,
      "outputs": []
    },
    {
      "cell_type": "code",
      "source": [
        "# Adding 3rd CNN layer\n",
        "\"\"\"\n",
        "1. Filters (kernel) = 64\n",
        "2. kernel_size = 3\n",
        "3. padding = same\n",
        "4. Activation function = ReLU\n",
        "\"\"\"\n",
        "model.add(tf.keras.layers.Conv2D(filters= 64, kernel_size= 3, padding= \"same\", activation= \"relu\"))"
      ],
      "metadata": {
        "id": "rg0tJT5oorS-"
      },
      "execution_count": null,
      "outputs": []
    },
    {
      "cell_type": "code",
      "source": [
        "# Adding 4th CNN layer and maxpool layer\n",
        "\"\"\"\n",
        "1. Filters (kernel) = 64\n",
        "2. kernel_size = 3\n",
        "3. padding = same\n",
        "4. Activation function = ReLU\n",
        "\"\"\"\n",
        "model.add(tf.keras.layers.Conv2D(filters= 64, kernel_size= 3, padding= \"same\", activation= \"relu\"))\n",
        "\n",
        "# Specify maxpool layer parameters\n",
        "\"\"\"\n",
        "1. pool_size = 2\n",
        "2. strides = 2\n",
        "3. padding = valid\n",
        "\"\"\"\n",
        "model.add(tf.keras.layers.MaxPool2D(pool_size= 2, strides= 2, padding= \"valid\"))"
      ],
      "metadata": {
        "id": "VQ76kmXDqa8p"
      },
      "execution_count": null,
      "outputs": []
    },
    {
      "cell_type": "code",
      "source": [
        "# Adding the dropout layer\n",
        "\n",
        "model.add(tf.keras.layers.Dropout(0.4))"
      ],
      "metadata": {
        "id": "tZjnFtm2q2cS"
      },
      "execution_count": null,
      "outputs": []
    },
    {
      "cell_type": "code",
      "source": [
        "# Adding the Flattening layer\n",
        "\n",
        "model.add(tf.keras.layers.Flatten())"
      ],
      "metadata": {
        "id": "T-2C2vbYslJr"
      },
      "execution_count": null,
      "outputs": []
    },
    {
      "cell_type": "code",
      "source": [
        "# Adding 1st Dense Layer\n",
        "\n",
        "model.add(tf.keras.layers.Dense(units= 128, activation= \"relu\"))"
      ],
      "metadata": {
        "id": "BLzPJcn9sySn"
      },
      "execution_count": null,
      "outputs": []
    },
    {
      "cell_type": "code",
      "source": [
        "# Adding 2nd Dense layer = Output Layer\n",
        "\n",
        "model.add(tf.keras.layers.Dense(units= 10, activation= \"softmax\"))"
      ],
      "metadata": {
        "id": "pI2QkneAtgfd"
      },
      "execution_count": null,
      "outputs": []
    },
    {
      "cell_type": "code",
      "source": [
        "# Model Summary\n",
        "\n",
        "model.summary()"
      ],
      "metadata": {
        "colab": {
          "base_uri": "https://localhost:8080/"
        },
        "id": "zwAq7sd_t5n2",
        "outputId": "0a48bf47-4b9b-4d7e-e8f8-bf8e7b9df121"
      },
      "execution_count": null,
      "outputs": [
        {
          "output_type": "stream",
          "name": "stdout",
          "text": [
            "Model: \"sequential\"\n",
            "_________________________________________________________________\n",
            " Layer (type)                Output Shape              Param #   \n",
            "=================================================================\n",
            " conv2d (Conv2D)             (None, 32, 32, 32)        896       \n",
            "                                                                 \n",
            " conv2d_1 (Conv2D)           (None, 32, 32, 32)        9248      \n",
            "                                                                 \n",
            " max_pooling2d (MaxPooling2D  (None, 16, 16, 32)       0         \n",
            " )                                                               \n",
            "                                                                 \n",
            " conv2d_2 (Conv2D)           (None, 16, 16, 64)        18496     \n",
            "                                                                 \n",
            " conv2d_3 (Conv2D)           (None, 16, 16, 64)        36928     \n",
            "                                                                 \n",
            " max_pooling2d_1 (MaxPooling  (None, 8, 8, 64)         0         \n",
            " 2D)                                                             \n",
            "                                                                 \n",
            " dropout (Dropout)           (None, 8, 8, 64)          0         \n",
            "                                                                 \n",
            " flatten (Flatten)           (None, 4096)              0         \n",
            "                                                                 \n",
            " dense (Dense)               (None, 128)               524416    \n",
            "                                                                 \n",
            " dense_1 (Dense)             (None, 10)                1290      \n",
            "                                                                 \n",
            "=================================================================\n",
            "Total params: 591,274\n",
            "Trainable params: 591,274\n",
            "Non-trainable params: 0\n",
            "_________________________________________________________________\n"
          ]
        }
      ]
    },
    {
      "cell_type": "markdown",
      "source": [
        "# Step-4: Model Training"
      ],
      "metadata": {
        "id": "xHIlXuVZ_Ljn"
      }
    },
    {
      "cell_type": "code",
      "source": [
        "# Model Compilation\n",
        "\n",
        "model.compile(loss= \"sparse_categorical_crossentropy\", optimizer= \"adam\", metrics= [\"sparse_categorical_accuracy\"] )"
      ],
      "metadata": {
        "id": "J_GaeiiUuCLp"
      },
      "execution_count": null,
      "outputs": []
    },
    {
      "cell_type": "code",
      "source": [
        "# Model Training\n",
        "\n",
        "model.fit(x_train, y_train, batch_size= 10, epochs= 10)"
      ],
      "metadata": {
        "colab": {
          "base_uri": "https://localhost:8080/"
        },
        "id": "f1rSrbKGASGQ",
        "outputId": "b9d45b4f-7592-48b8-feb6-f6e5c6d48dcf"
      },
      "execution_count": null,
      "outputs": [
        {
          "output_type": "stream",
          "name": "stdout",
          "text": [
            "Epoch 1/10\n",
            "5000/5000 [==============================] - 329s 66ms/step - loss: 1.3625 - sparse_categorical_accuracy: 0.5084\n",
            "Epoch 2/10\n",
            "5000/5000 [==============================] - 331s 66ms/step - loss: 0.9945 - sparse_categorical_accuracy: 0.6473\n",
            "Epoch 3/10\n",
            "5000/5000 [==============================] - 330s 66ms/step - loss: 0.8581 - sparse_categorical_accuracy: 0.6967\n",
            "Epoch 4/10\n",
            "5000/5000 [==============================] - 331s 66ms/step - loss: 0.7723 - sparse_categorical_accuracy: 0.7278\n",
            "Epoch 5/10\n",
            "5000/5000 [==============================] - 329s 66ms/step - loss: 0.7113 - sparse_categorical_accuracy: 0.7481\n",
            "Epoch 6/10\n",
            "5000/5000 [==============================] - 331s 66ms/step - loss: 0.6593 - sparse_categorical_accuracy: 0.7679\n",
            "Epoch 7/10\n",
            "5000/5000 [==============================] - 330s 66ms/step - loss: 0.6215 - sparse_categorical_accuracy: 0.7813\n",
            "Epoch 8/10\n",
            "5000/5000 [==============================] - 331s 66ms/step - loss: 0.5812 - sparse_categorical_accuracy: 0.7945\n",
            "Epoch 9/10\n",
            "5000/5000 [==============================] - 330s 66ms/step - loss: 0.5510 - sparse_categorical_accuracy: 0.8049\n",
            "Epoch 10/10\n",
            "5000/5000 [==============================] - 331s 66ms/step - loss: 0.5272 - sparse_categorical_accuracy: 0.8153\n"
          ]
        },
        {
          "output_type": "execute_result",
          "data": {
            "text/plain": [
              "<keras.callbacks.History at 0x7fb39c9f1b50>"
            ]
          },
          "metadata": {},
          "execution_count": 30
        }
      ]
    },
    {
      "cell_type": "markdown",
      "source": [
        "# Step-5: Model Evaluation"
      ],
      "metadata": {
        "id": "SYXBxuwRlA0W"
      }
    },
    {
      "cell_type": "code",
      "source": [
        "test_loss , test_accuracy = model.evaluate(x_test, y_test)"
      ],
      "metadata": {
        "colab": {
          "base_uri": "https://localhost:8080/"
        },
        "id": "LPKtv5uHkwcY",
        "outputId": "5471d2af-230d-4024-9ee1-5f3f0581dcad"
      },
      "execution_count": null,
      "outputs": [
        {
          "output_type": "stream",
          "name": "stdout",
          "text": [
            "313/313 [==============================] - 15s 47ms/step - loss: 0.7647 - sparse_categorical_accuracy: 0.7465\n"
          ]
        }
      ]
    },
    {
      "cell_type": "code",
      "source": [
        "print(\"Test Accuracy: {}\".format(test_accuracy*100),\"%\")"
      ],
      "metadata": {
        "colab": {
          "base_uri": "https://localhost:8080/"
        },
        "id": "WBeymLTiltaf",
        "outputId": "f6d57c73-1884-46fe-b6de-998a3f2029b0"
      },
      "execution_count": null,
      "outputs": [
        {
          "output_type": "stream",
          "name": "stdout",
          "text": [
            "Test Accuracy: 74.6500015258789 %\n"
          ]
        }
      ]
    },
    {
      "cell_type": "markdown",
      "source": [
        "## Model Prediction"
      ],
      "metadata": {
        "id": "aj2Ha1dtl3uo"
      }
    },
    {
      "cell_type": "code",
      "source": [
        "y_pred = model.predict(x_test)\n",
        "y_pred_classes = np.argmax(y_pred, axis=1)"
      ],
      "metadata": {
        "colab": {
          "base_uri": "https://localhost:8080/"
        },
        "id": "LwExucmbl2K9",
        "outputId": "539e413d-4d04-4c38-ffb4-3c00ee6d064c"
      },
      "execution_count": null,
      "outputs": [
        {
          "output_type": "stream",
          "name": "stdout",
          "text": [
            "313/313 [==============================] - 14s 46ms/step\n"
          ]
        }
      ]
    },
    {
      "cell_type": "code",
      "source": [
        "print(y_pred_classes[101]), print(y_test[101])"
      ],
      "metadata": {
        "colab": {
          "base_uri": "https://localhost:8080/"
        },
        "id": "J3NrpA19my9W",
        "outputId": "9582b00a-bbc8-4c18-c7d9-52b99b853e58"
      },
      "execution_count": null,
      "outputs": [
        {
          "output_type": "stream",
          "name": "stdout",
          "text": [
            "5\n",
            "[5]\n"
          ]
        },
        {
          "output_type": "execute_result",
          "data": {
            "text/plain": [
              "(None, None)"
            ]
          },
          "metadata": {},
          "execution_count": 48
        }
      ]
    },
    {
      "cell_type": "code",
      "source": [
        "# Preview\n",
        "\n",
        "y_test "
      ],
      "metadata": {
        "colab": {
          "base_uri": "https://localhost:8080/"
        },
        "id": "MmC_To14n0Tm",
        "outputId": "f802c4e6-da61-41fb-8665-dbf494a15341"
      },
      "execution_count": null,
      "outputs": [
        {
          "output_type": "execute_result",
          "data": {
            "text/plain": [
              "array([[3],\n",
              "       [8],\n",
              "       [8],\n",
              "       ...,\n",
              "       [5],\n",
              "       [1],\n",
              "       [7]], dtype=uint8)"
            ]
          },
          "metadata": {},
          "execution_count": 40
        }
      ]
    },
    {
      "cell_type": "code",
      "source": [
        "y_pred_classes"
      ],
      "metadata": {
        "colab": {
          "base_uri": "https://localhost:8080/"
        },
        "id": "74geEGpLoCq4",
        "outputId": "4b2f08bf-fd9f-4c46-f345-d6870a1222ed"
      },
      "execution_count": null,
      "outputs": [
        {
          "output_type": "execute_result",
          "data": {
            "text/plain": [
              "array([3, 8, 8, ..., 5, 4, 7])"
            ]
          },
          "metadata": {},
          "execution_count": 47
        }
      ]
    },
    {
      "cell_type": "markdown",
      "source": [
        "# Confusion Matrix"
      ],
      "metadata": {
        "id": "XdvgJuvIqh_Z"
      }
    },
    {
      "cell_type": "code",
      "source": [
        "from sklearn.metrics import confusion_matrix, accuracy_score, f1_score, r2_score, recall_score, precision_score"
      ],
      "metadata": {
        "id": "SPnDyyElobdV"
      },
      "execution_count": null,
      "outputs": []
    },
    {
      "cell_type": "code",
      "source": [
        "# Convert continuous predictions to discrete class labels\n",
        "y_pred_classes = np.argmax(y_pred, axis=1)\n",
        "conf_m = confusion_matrix(y_test, y_pred_classes)\n",
        "acc = accuracy_score(y_test, y_pred_classes)\n",
        "f1 = f1_score(y_test, y_pred_classes, average= \"weighted\")\n",
        "r2 = r2_score(y_test, y_pred_classes)\n",
        "rs = recall_score(y_test, y_pred_classes, average= \"weighted\")\n",
        "ps = precision_score(y_test, y_pred_classes, average= \"weighted\")\n",
        "\n",
        "print(\"acc: {} \\nf1: {}  \\nr2: {} \\nrs: {} \\nps: {}\".format(acc*100, f1*100, r2*100, rs*100, ps*100))"
      ],
      "metadata": {
        "colab": {
          "base_uri": "https://localhost:8080/"
        },
        "id": "jhmaXyo_qoKL",
        "outputId": "d4fb42de-6ebb-469a-f73b-3f4c4475c33d"
      },
      "execution_count": null,
      "outputs": [
        {
          "output_type": "stream",
          "name": "stdout",
          "text": [
            "acc: 74.65 \n",
            "f1: 74.50136291353871  \n",
            "r2: 47.88969696969697 \n",
            "rs: 74.65 \n",
            "ps: 74.95370736463317\n"
          ]
        }
      ]
    },
    {
      "cell_type": "code",
      "source": [
        "conf_m = confusion_matrix(y_test, y_pred_classes)\n",
        "print(conf_m)"
      ],
      "metadata": {
        "colab": {
          "base_uri": "https://localhost:8080/"
        },
        "id": "Fz2mlx0ustvo",
        "outputId": "0f6576b9-1a23-4f4d-ae0a-ae52c1fa1e1b"
      },
      "execution_count": null,
      "outputs": [
        {
          "output_type": "stream",
          "name": "stdout",
          "text": [
            "[[784  10  28  31  20   3   5   5  80  34]\n",
            " [ 19 827   2   6   2   3   6   3  31 101]\n",
            " [ 92   3 537  62 120  73  55  28  21   9]\n",
            " [ 23   3  41 590  77 147  46  45  17  11]\n",
            " [ 19   3  29  63 761  29  22  56  14   4]\n",
            " [ 15   3  29 183  53 618  18  58  13  10]\n",
            " [  7   4  19  63  51  26 799   9  19   3]\n",
            " [ 23   1  15  39  64  36   8 796   5  13]\n",
            " [ 47  15   4  12   5   2   2   6 884  23]\n",
            " [ 29  45   3  11   5   4   2   7  25 869]]\n"
          ]
        }
      ]
    },
    {
      "cell_type": "code",
      "source": [
        "# plot the matrix\n",
        "sns.heatmap(conf_m, annot=True, cmap='Blues')\n",
        "\n",
        "# add title and axis labels\n",
        "plt.title('Confusion Matrix')\n",
        "plt.ylabel('True label')\n",
        "plt.xlabel('Predicted label')"
      ],
      "metadata": {
        "colab": {
          "base_uri": "https://localhost:8080/",
          "height": 312
        },
        "id": "9ti1LhYxriIe",
        "outputId": "1c702100-19c8-4f79-99fe-d758b08bacb5"
      },
      "execution_count": null,
      "outputs": [
        {
          "output_type": "execute_result",
          "data": {
            "text/plain": [
              "Text(0.5, 15.0, 'Predicted label')"
            ]
          },
          "metadata": {},
          "execution_count": 51
        },
        {
          "output_type": "display_data",
          "data": {
            "text/plain": [
              "<Figure size 432x288 with 2 Axes>"
            ],
            "image/png": "[encoded data removed]"
          },
          "metadata": {
            "needs_background": "light"
          }
        }
      ]
    }
  ]
}