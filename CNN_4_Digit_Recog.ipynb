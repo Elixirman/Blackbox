{
  "nbformat": 4,
  "nbformat_minor": 0,
  "metadata": {
    "colab": {
      "provenance": [],
      "toc_visible": true,
      "authorship_tag": "ABX9TyOrVAYfZ9+Yaj2T6lbq8Q8Q",
      "include_colab_link": true
    },
    "kernelspec": {
      "name": "python3",
      "display_name": "Python 3"
    },
    "language_info": {
      "name": "python"
    }
  },
  "cells": [
    {
      "cell_type": "markdown",
      "metadata": {
        "id": "view-in-github",
        "colab_type": "text"
      },
      "source": [
        "<a href=\"https://colab.research.google.com/github/Elixirman/Blackbox/blob/main/CNN_4_Digit_Recog.ipynb\" target=\"_parent\"><img src=\"https://colab.research.google.com/assets/colab-badge.svg\" alt=\"Open In Colab\"/></a>"
      ]
    },
    {
      "cell_type": "markdown",
      "source": [
        "# Step-1: Installation & Setup"
      ],
      "metadata": {
        "id": "hkfavMHf93qS"
      }
    },
    {
      "cell_type": "code",
      "source": [
        "# Install TensorFlow\n",
        "\"\"\"\n",
        "!pip install -q tensorflow-gpu\n",
        "\n",
        "- Command executed on cmd\n",
        "\"\"\""
      ],
      "metadata": {
        "colab": {
          "base_uri": "https://localhost:8080/",
          "height": 35
        },
        "id": "Gea3I03qANTl",
        "outputId": "38d56f38-6dd3-48da-a9a9-6d0b656fc0dc"
      },
      "execution_count": null,
      "outputs": [
        {
          "output_type": "execute_result",
          "data": {
            "text/plain": [
              "'\\n!pip install -q tensorflow-gpu\\n\\n- Command executed on cmd\\n'"
            ],
            "application/vnd.google.colaboratory.intrinsic+json": {
              "type": "string"
            }
          },
          "metadata": {},
          "execution_count": 1
        }
      ]
    },
    {
      "cell_type": "code",
      "source": [
        "import tensorflow as tf\n",
        "\n",
        "print(tf.__version__)"
      ],
      "metadata": {
        "colab": {
          "base_uri": "https://localhost:8080/"
        },
        "id": "UIoru49cAfgp",
        "outputId": "d34943a1-3b7b-40cc-bf1d-fb3be1502c61"
      },
      "execution_count": null,
      "outputs": [
        {
          "output_type": "stream",
          "name": "stdout",
          "text": [
            "2.12.0\n"
          ]
        }
      ]
    },
    {
      "cell_type": "markdown",
      "source": [
        "# Step-2: Data Preprocessing"
      ],
      "metadata": {
        "id": "j3pBf6S3BVS3"
      }
    },
    {
      "cell_type": "markdown",
      "source": [
        "## Data and Library Importation"
      ],
      "metadata": {
        "id": "tK3sbnzkBb87"
      }
    },
    {
      "cell_type": "markdown",
      "source": [
        "Import Libraries"
      ],
      "metadata": {
        "id": "QU2mInX-9b-u"
      }
    },
    {
      "cell_type": "code",
      "source": [
        "import pandas as pd\n",
        "import numpy as np\n",
        "import matplotlib.pyplot as plt\n",
        "import seaborn as sns"
      ],
      "metadata": {
        "id": "ZrlNZ4029acu"
      },
      "execution_count": null,
      "outputs": []
    },
    {
      "cell_type": "markdown",
      "source": [
        "Import Dataset from Tendsorflow"
      ],
      "metadata": {
        "id": "2YYpaFKt9jtO"
      }
    },
    {
      "cell_type": "code",
      "source": [
        "from tensorflow.keras.datasets import mnist"
      ],
      "metadata": {
        "id": "xbxFirNc8MKk"
      },
      "execution_count": null,
      "outputs": []
    },
    {
      "cell_type": "markdown",
      "source": [
        "Dataset Loading"
      ],
      "metadata": {
        "id": "6vj2Ozad9sta"
      }
    },
    {
      "cell_type": "code",
      "source": [
        "# creating 2 Tuples\n",
        "\n",
        "(x_train, y_train), (x_test, y_test) = mnist.load_data()"
      ],
      "metadata": {
        "colab": {
          "base_uri": "https://localhost:8080/"
        },
        "id": "Z6kL1MIV91hc",
        "outputId": "e1ad8870-ce8a-42b2-f129-71e8323818cb"
      },
      "execution_count": null,
      "outputs": [
        {
          "output_type": "stream",
          "name": "stdout",
          "text": [
            "Downloading data from https://storage.googleapis.com/tensorflow/tf-keras-datasets/mnist.npz\n",
            "11490434/11490434 [==============================] - 0s 0us/step\n"
          ]
        }
      ]
    },
    {
      "cell_type": "markdown",
      "source": [
        "## Data Exploration"
      ],
      "metadata": {
        "id": "aZecqADRWC6R"
      }
    },
    {
      "cell_type": "markdown",
      "source": [
        "Index Image Check @ Random"
      ],
      "metadata": {
        "id": "wPnzf-GO-n2o"
      }
    },
    {
      "cell_type": "code",
      "source": [
        "plt.imshow(x_train[0])"
      ],
      "metadata": {
        "colab": {
          "base_uri": "https://localhost:8080/",
          "height": 447
        },
        "id": "KiTDzIAR-d2p",
        "outputId": "7ff39ff7-12e3-4b54-d91e-70eddb5aae7e"
      },
      "execution_count": null,
      "outputs": [
        {
          "output_type": "execute_result",
          "data": {
            "text/plain": [
              "<matplotlib.image.AxesImage at 0x7f6f81d5b220>"
            ]
          },
          "metadata": {},
          "execution_count": 6
        },
        {
          "output_type": "display_data",
          "data": {
            "text/plain": [
              "<Figure size 640x480 with 1 Axes>"
            ],
            "image/png": "[encoded data removed]"
          },
          "metadata": {}
        }
      ]
    },
    {
      "cell_type": "code",
      "source": [
        "y_train[0]"
      ],
      "metadata": {
        "colab": {
          "base_uri": "https://localhost:8080/"
        },
        "id": "J1P5oHOw-2f9",
        "outputId": "d57ab248-e543-420b-808f-ee025ed7f721"
      },
      "execution_count": null,
      "outputs": [
        {
          "output_type": "execute_result",
          "data": {
            "text/plain": [
              "5"
            ]
          },
          "metadata": {},
          "execution_count": 7
        }
      ]
    },
    {
      "cell_type": "code",
      "source": [
        "# View shape\n",
        "\n",
        "x_train.shape, y_train.shape"
      ],
      "metadata": {
        "colab": {
          "base_uri": "https://localhost:8080/"
        },
        "id": "witNU7il_S4S",
        "outputId": "b0ceeecf-4fdf-490d-f62a-c5dc07dd5e06"
      },
      "execution_count": null,
      "outputs": [
        {
          "output_type": "execute_result",
          "data": {
            "text/plain": [
              "((60000, 28, 28), (60000,))"
            ]
          },
          "metadata": {},
          "execution_count": 8
        }
      ]
    },
    {
      "cell_type": "code",
      "source": [
        "x_test.shape, y_test.shape"
      ],
      "metadata": {
        "colab": {
          "base_uri": "https://localhost:8080/"
        },
        "id": "PzkGT-tz_b_3",
        "outputId": "dba40979-47b4-4324-efef-b5f7f5b02573"
      },
      "execution_count": null,
      "outputs": [
        {
          "output_type": "execute_result",
          "data": {
            "text/plain": [
              "((10000, 28, 28), (10000,))"
            ]
          },
          "metadata": {},
          "execution_count": 9
        }
      ]
    },
    {
      "cell_type": "markdown",
      "source": [
        "Statistical Properties"
      ],
      "metadata": {
        "id": "l1jO-9W3_1L-"
      }
    },
    {
      "cell_type": "code",
      "source": [
        "x_train.std(), x_train.mean(), x_train.min(), x_train.max()"
      ],
      "metadata": {
        "colab": {
          "base_uri": "https://localhost:8080/"
        },
        "id": "GWky2M7B_5wl",
        "outputId": "ee53d0f2-1cae-49e7-ed6e-7c744ff6b937"
      },
      "execution_count": null,
      "outputs": [
        {
          "output_type": "execute_result",
          "data": {
            "text/plain": [
              "(78.56748998339798, 33.318421449829934, 0, 255)"
            ]
          },
          "metadata": {},
          "execution_count": 10
        }
      ]
    },
    {
      "cell_type": "code",
      "source": [
        "y_train.std(), y_train.mean(), y_train.min(), y_train.max()"
      ],
      "metadata": {
        "colab": {
          "base_uri": "https://localhost:8080/"
        },
        "id": "KTiKIMFZAIt3",
        "outputId": "2e69d5d4-4a5c-49c7-b1a3-85a0b2bc9b9d"
      },
      "execution_count": null,
      "outputs": [
        {
          "output_type": "execute_result",
          "data": {
            "text/plain": [
              "(2.889246360020012, 4.4539333333333335, 0, 9)"
            ]
          },
          "metadata": {},
          "execution_count": 11
        }
      ]
    },
    {
      "cell_type": "markdown",
      "source": [
        "## Dataset Normalization"
      ],
      "metadata": {
        "id": "6xGhOe-nAz1v"
      }
    },
    {
      "cell_type": "code",
      "source": [
        "\"\"\"\n",
        "Normalizato\\ion is required to process data faster\n",
        "\"\"\"\n",
        "x_train = x_train / 255.0\n",
        "x_test = x_test / 255.0"
      ],
      "metadata": {
        "id": "FA68fVW9A13L"
      },
      "execution_count": null,
      "outputs": []
    },
    {
      "cell_type": "code",
      "source": [
        "# View Min & Max Values\n",
        "\n",
        "x_train.min(), x_train.max()"
      ],
      "metadata": {
        "colab": {
          "base_uri": "https://localhost:8080/"
        },
        "id": "Bzbhh4ugCNrq",
        "outputId": "1c3cc25c-16af-47ee-8e0b-7876045349ed"
      },
      "execution_count": null,
      "outputs": [
        {
          "output_type": "execute_result",
          "data": {
            "text/plain": [
              "(0.0, 1.0)"
            ]
          },
          "metadata": {},
          "execution_count": 13
        }
      ]
    },
    {
      "cell_type": "markdown",
      "source": [
        "## Image Reshaping"
      ],
      "metadata": {
        "id": "ojmOUnQjDgh9"
      }
    },
    {
      "cell_type": "code",
      "source": [
        "# Preview Shape\n",
        "\n",
        "x_train.shape, x_test.shape, y_train.shape, y_test.shape"
      ],
      "metadata": {
        "colab": {
          "base_uri": "https://localhost:8080/"
        },
        "id": "2BHuAMrSDlVZ",
        "outputId": "37bf7879-3380-49d9-9c4b-48144c21b70e"
      },
      "execution_count": null,
      "outputs": [
        {
          "output_type": "execute_result",
          "data": {
            "text/plain": [
              "((60000, 28, 28), (10000, 28, 28), (60000,), (10000,))"
            ]
          },
          "metadata": {},
          "execution_count": 14
        }
      ]
    },
    {
      "cell_type": "code",
      "source": [
        "\"\"\"\n",
        "Images are in 2-D but the CNN requires 3-D\n",
        "\n",
        "\"\"\""
      ],
      "metadata": {
        "colab": {
          "base_uri": "https://localhost:8080/",
          "height": 35
        },
        "id": "-XH1pzr1Dv53",
        "outputId": "eefab5d4-80fe-45b6-e875-a67ad7d97a6e"
      },
      "execution_count": null,
      "outputs": [
        {
          "output_type": "execute_result",
          "data": {
            "text/plain": [
              "'\\nImages are in 2-D but the CNN requires 3-D\\n\\n'"
            ],
            "application/vnd.google.colaboratory.intrinsic+json": {
              "type": "string"
            }
          },
          "metadata": {},
          "execution_count": 15
        }
      ]
    },
    {
      "cell_type": "code",
      "source": [
        "# Re-shaping\n",
        "\n",
        "x_train = x_train.reshape(60000, 28, 28, 1)\n",
        "x_test = x_test.reshape(10000, 28, 28, 1)"
      ],
      "metadata": {
        "id": "0O4IwoTgEsx9"
      },
      "execution_count": null,
      "outputs": []
    },
    {
      "cell_type": "code",
      "source": [
        "# Check new shape\n",
        "\n",
        "x_train.shape, x_test.shape"
      ],
      "metadata": {
        "colab": {
          "base_uri": "https://localhost:8080/"
        },
        "id": "7cRpnlqFFbCW",
        "outputId": "71394ac2-08df-4222-d2da-cad0fc83029f"
      },
      "execution_count": null,
      "outputs": [
        {
          "output_type": "execute_result",
          "data": {
            "text/plain": [
              "((60000, 28, 28, 1), (10000, 28, 28, 1))"
            ]
          },
          "metadata": {},
          "execution_count": 17
        }
      ]
    },
    {
      "cell_type": "markdown",
      "source": [
        "Define a Variable, \"input_shape\""
      ],
      "metadata": {
        "id": "KandKqLvbU4Y"
      }
    },
    {
      "cell_type": "code",
      "source": [
        "input_shape = x_train[0].shape"
      ],
      "metadata": {
        "id": "rWlXMTzMbBhF"
      },
      "execution_count": null,
      "outputs": []
    },
    {
      "cell_type": "code",
      "source": [
        "print(input_shape)"
      ],
      "metadata": {
        "colab": {
          "base_uri": "https://localhost:8080/"
        },
        "id": "X7wKb_JnbdxI",
        "outputId": "c3fd303f-69ab-45c8-d6f5-4d95a2925878"
      },
      "execution_count": null,
      "outputs": [
        {
          "output_type": "stream",
          "name": "stdout",
          "text": [
            "(28, 28, 1)\n"
          ]
        }
      ]
    },
    {
      "cell_type": "markdown",
      "source": [
        "# Step-3: Model Building"
      ],
      "metadata": {
        "id": "skufUrj4cdgk"
      }
    },
    {
      "cell_type": "markdown",
      "source": [
        "Define an Object"
      ],
      "metadata": {
        "id": "dvOdgHflc4uE"
      }
    },
    {
      "cell_type": "code",
      "source": [
        "# CNN initialazation\n",
        "\n",
        "model = tf.keras.Sequential()"
      ],
      "metadata": {
        "id": "-uQkCUkxbByG"
      },
      "execution_count": null,
      "outputs": []
    },
    {
      "cell_type": "markdown",
      "source": [
        "## CNN Layers Creation"
      ],
      "metadata": {
        "id": "5KFgf8SLfBCN"
      }
    },
    {
      "cell_type": "code",
      "source": [
        "# Adding 1st CNN Layer\n",
        "\"\"\"\n",
        "1. Filters (kernel) = 32\n",
        "2. kernel_size = (3,3)\n",
        "3. Activation function = relu\n",
        "4. input_shape = (28,28,1)\n",
        "\"\"\"\n",
        "\n",
        "model.add(tf.keras.layers.Conv2D(filters= 32, kernel_size= (3,3), activation= \"relu\", input_shape= (28,28,1)))"
      ],
      "metadata": {
        "id": "_IHSo_cAbCbg"
      },
      "execution_count": null,
      "outputs": []
    },
    {
      "cell_type": "code",
      "source": [
        "# Adding 2nd CNN Layer\n",
        "\"\"\"\n",
        "1. Filters (kernel) = 64\n",
        "2. kernel_size = (3,3)\n",
        "3. Activation function = relu\n",
        "\"\"\"\n",
        "\n",
        "model.add(tf.keras.layers.Conv2D(filters= 64, kernel_size= (3,3), activation= \"relu\"))"
      ],
      "metadata": {
        "id": "TITinpbpbCf1"
      },
      "execution_count": null,
      "outputs": []
    },
    {
      "cell_type": "code",
      "source": [
        "# Adding the maxpool Layer // Extract the dominant features and reduces the size of CNN features.\n",
        "\n",
        "model.add(tf.keras.layers.MaxPool2D(pool_size= (2,2)))"
      ],
      "metadata": {
        "id": "lDCznvbnfWcg"
      },
      "execution_count": null,
      "outputs": []
    },
    {
      "cell_type": "code",
      "source": [
        "# Adding Dropout Layer // Regularization Technique preventing overfitting\n",
        "\n",
        "model.add(tf.keras.layers.Dropout(0.4))"
      ],
      "metadata": {
        "id": "1CHcIDOYgXzW"
      },
      "execution_count": null,
      "outputs": []
    },
    {
      "cell_type": "code",
      "source": [
        "# Adding the flatten Layer\n",
        "\n",
        "model.add(tf.keras.layers.Flatten())"
      ],
      "metadata": {
        "id": "HJ6G-KhjgX2p"
      },
      "execution_count": null,
      "outputs": []
    },
    {
      "cell_type": "code",
      "source": [
        "# Add the fully Connected Layer (Dense Layer)\n",
        "\n",
        "model.add(tf.keras.layers.Dense(units= 128, activation= \"relu\"))"
      ],
      "metadata": {
        "id": "kFREGeyIhAFb"
      },
      "execution_count": null,
      "outputs": []
    },
    {
      "cell_type": "code",
      "source": [
        "# Add the output layer\n",
        "\n",
        "model.add(tf.keras.layers.Dense(units= 10, activation= \"softmax\"))"
      ],
      "metadata": {
        "id": "UFh-qcyzhAI0"
      },
      "execution_count": null,
      "outputs": []
    },
    {
      "cell_type": "markdown",
      "source": [
        "Model Summary"
      ],
      "metadata": {
        "id": "hznPECyLiIpf"
      }
    },
    {
      "cell_type": "code",
      "source": [
        "model.summary()"
      ],
      "metadata": {
        "colab": {
          "base_uri": "https://localhost:8080/"
        },
        "id": "5_B00Vb1hALO",
        "outputId": "3c578ad0-11e6-4338-b74c-d565eaf612c3"
      },
      "execution_count": null,
      "outputs": [
        {
          "output_type": "stream",
          "name": "stdout",
          "text": [
            "Model: \"sequential\"\n",
            "_________________________________________________________________\n",
            " Layer (type)                Output Shape              Param #   \n",
            "=================================================================\n",
            " conv2d (Conv2D)             (None, 26, 26, 32)        320       \n",
            "                                                                 \n",
            " conv2d_1 (Conv2D)           (None, 24, 24, 64)        18496     \n",
            "                                                                 \n",
            " max_pooling2d (MaxPooling2D  (None, 12, 12, 64)       0         \n",
            " )                                                               \n",
            "                                                                 \n",
            " dropout (Dropout)           (None, 12, 12, 64)        0         \n",
            "                                                                 \n",
            " flatten (Flatten)           (None, 9216)              0         \n",
            "                                                                 \n",
            " dense (Dense)               (None, 128)               1179776   \n",
            "                                                                 \n",
            " dense_1 (Dense)             (None, 10)                1290      \n",
            "                                                                 \n",
            "=================================================================\n",
            "Total params: 1,199,882\n",
            "Trainable params: 1,199,882\n",
            "Non-trainable params: 0\n",
            "_________________________________________________________________\n"
          ]
        }
      ]
    },
    {
      "cell_type": "markdown",
      "source": [
        "## Model Compliation"
      ],
      "metadata": {
        "id": "4smlzeM8iqLI"
      }
    },
    {
      "cell_type": "code",
      "source": [
        "model.compile(optimizer= \"adam\", loss= \"sparse_categorical_crossentropy\", metrics= [\"sparse_categorical_accuracy\"])"
      ],
      "metadata": {
        "id": "OUwPvqx-iG70"
      },
      "execution_count": null,
      "outputs": []
    },
    {
      "cell_type": "markdown",
      "source": [
        "# Step-4: Model Training"
      ],
      "metadata": {
        "id": "OSgYh4yS48ZF"
      }
    },
    {
      "cell_type": "code",
      "source": [
        "history = model.fit(x_train, y_train, batch_size= 128, epochs= 10, validation_data= (x_test, y_test))"
      ],
      "metadata": {
        "colab": {
          "base_uri": "https://localhost:8080/"
        },
        "id": "gWknW9x-iG_B",
        "outputId": "d8cb21f9-0c38-405e-e122-fa6db48611a8"
      },
      "execution_count": null,
      "outputs": [
        {
          "output_type": "stream",
          "name": "stdout",
          "text": [
            "Epoch 1/10\n",
            "469/469 [==============================] - 196s 411ms/step - loss: 0.1678 - sparse_categorical_accuracy: 0.9505 - val_loss: 0.0473 - val_sparse_categorical_accuracy: 0.9836\n",
            "Epoch 2/10\n",
            "469/469 [==============================] - 180s 383ms/step - loss: 0.0544 - sparse_categorical_accuracy: 0.9832 - val_loss: 0.0377 - val_sparse_categorical_accuracy: 0.9869\n",
            "Epoch 3/10\n",
            "469/469 [==============================] - 184s 392ms/step - loss: 0.0364 - sparse_categorical_accuracy: 0.9885 - val_loss: 0.0349 - val_sparse_categorical_accuracy: 0.9868\n",
            "Epoch 4/10\n",
            "469/469 [==============================] - 183s 390ms/step - loss: 0.0267 - sparse_categorical_accuracy: 0.9912 - val_loss: 0.0285 - val_sparse_categorical_accuracy: 0.9910\n",
            "Epoch 5/10\n",
            "469/469 [==============================] - 178s 379ms/step - loss: 0.0219 - sparse_categorical_accuracy: 0.9923 - val_loss: 0.0287 - val_sparse_categorical_accuracy: 0.9905\n",
            "Epoch 6/10\n",
            "469/469 [==============================] - 179s 382ms/step - loss: 0.0179 - sparse_categorical_accuracy: 0.9940 - val_loss: 0.0335 - val_sparse_categorical_accuracy: 0.9906\n",
            "Epoch 7/10\n",
            "469/469 [==============================] - 178s 380ms/step - loss: 0.0125 - sparse_categorical_accuracy: 0.9960 - val_loss: 0.0300 - val_sparse_categorical_accuracy: 0.9907\n",
            "Epoch 8/10\n",
            "469/469 [==============================] - 186s 396ms/step - loss: 0.0134 - sparse_categorical_accuracy: 0.9954 - val_loss: 0.0297 - val_sparse_categorical_accuracy: 0.9908\n",
            "Epoch 9/10\n",
            "469/469 [==============================] - 181s 385ms/step - loss: 0.0105 - sparse_categorical_accuracy: 0.9965 - val_loss: 0.0351 - val_sparse_categorical_accuracy: 0.9891\n",
            "Epoch 10/10\n",
            "469/469 [==============================] - 183s 390ms/step - loss: 0.0102 - sparse_categorical_accuracy: 0.9966 - val_loss: 0.0287 - val_sparse_categorical_accuracy: 0.9918\n"
          ]
        }
      ]
    },
    {
      "cell_type": "markdown",
      "source": [
        "## Model Prediction\n"
      ],
      "metadata": {
        "id": "Gidx8qWu1-CG"
      }
    },
    {
      "cell_type": "code",
      "source": [
        "y_pred_prob = model.predict(x_test)\n",
        "y_pred = y_pred_prob.argmax(axis=-1)\n"
      ],
      "metadata": {
        "id": "UjKQwNEr5E_I",
        "colab": {
          "base_uri": "https://localhost:8080/"
        },
        "outputId": "c4d8073d-8d6b-44d0-e59f-b571ac91ef5a"
      },
      "execution_count": null,
      "outputs": [
        {
          "output_type": "stream",
          "name": "stdout",
          "text": [
            "313/313 [==============================] - 9s 28ms/step\n"
          ]
        }
      ]
    },
    {
      "cell_type": "markdown",
      "source": [
        "Single Object Prediction"
      ],
      "metadata": {
        "id": "7_G6_9Ou3gyQ"
      }
    },
    {
      "cell_type": "code",
      "source": [
        "y_pred[3], y_test[3]"
      ],
      "metadata": {
        "id": "6jkt8LGg5FCW",
        "colab": {
          "base_uri": "https://localhost:8080/"
        },
        "outputId": "6bdfcd81-9853-4d52-8c3a-b6551f1bbee5"
      },
      "execution_count": null,
      "outputs": [
        {
          "output_type": "execute_result",
          "data": {
            "text/plain": [
              "(0, 0)"
            ]
          },
          "metadata": {},
          "execution_count": 33
        }
      ]
    },
    {
      "cell_type": "code",
      "source": [
        "y_pred[15], y_test[15]"
      ],
      "metadata": {
        "id": "8m_BK0z45FF0",
        "colab": {
          "base_uri": "https://localhost:8080/"
        },
        "outputId": "3d41e903-36be-4273-a61b-75a4d558489e"
      },
      "execution_count": null,
      "outputs": [
        {
          "output_type": "execute_result",
          "data": {
            "text/plain": [
              "(5, 5)"
            ]
          },
          "metadata": {},
          "execution_count": 34
        }
      ]
    },
    {
      "cell_type": "markdown",
      "source": [
        "## Confusion Matrix\n"
      ],
      "metadata": {
        "id": "3PtdqXEo5HYk"
      }
    },
    {
      "cell_type": "code",
      "source": [
        "\"\"\"\n",
        "# Confusion Matrix\n",
        "\n",
        "conf_m = confusion_matrix(y_test, y_pred_classes)\n",
        "print(conf_m)\n",
        "\n",
        "# Confusion Matrix Visual\n",
        "\n",
        "import seaborn as sns\n",
        "from sklearn.metrics import confusion_matrix\n",
        "\n",
        "# create the confusion matrix\n",
        "conf_m = confusion_matrix(y_test, y_pred)\n",
        "\n",
        "# plot the matrix\n",
        "sns.heatmap(conf_m, annot=True, cmap='Blues')\n",
        "\n",
        "# add title and axis labels\n",
        "plt.title('Confusion Matrix')\n",
        "plt.ylabel('True label')\n",
        "plt.xlabel('Predicted label') \"\"\""
      ],
      "metadata": {
        "id": "TObJlRBeiHBj"
      },
      "execution_count": null,
      "outputs": []
    },
    {
      "cell_type": "code",
      "source": [
        "from sklearn.metrics import confusion_matrix, accuracy_score\n",
        "\n",
        "# create the confusion matrix\n",
        "conf_m = confusion_matrix(y_test, y_pred)"
      ],
      "metadata": {
        "id": "7kPNEG6u5C0O"
      },
      "execution_count": null,
      "outputs": []
    },
    {
      "cell_type": "code",
      "source": [
        "conf_m"
      ],
      "metadata": {
        "colab": {
          "base_uri": "https://localhost:8080/"
        },
        "id": "eO-edMuG5C3A",
        "outputId": "ce957d51-58b5-4a08-ef0a-a93de77b4e8b"
      },
      "execution_count": null,
      "outputs": [
        {
          "output_type": "execute_result",
          "data": {
            "text/plain": [
              "array([[ 976,    0,    1,    0,    0,    0,    2,    1,    0,    0],\n",
              "       [   0, 1133,    0,    0,    0,    1,    1,    0,    0,    0],\n",
              "       [   1,    2, 1025,    1,    0,    0,    0,    3,    0,    0],\n",
              "       [   0,    1,    1, 1002,    0,    5,    0,    0,    1,    0],\n",
              "       [   0,    0,    0,    0,  974,    0,    2,    0,    0,    6],\n",
              "       [   0,    0,    1,    5,    0,  885,    1,    0,    0,    0],\n",
              "       [   4,    5,    0,    0,    2,    1,  944,    0,    2,    0],\n",
              "       [   0,    4,    4,    0,    0,    0,    0, 1019,    1,    0],\n",
              "       [   3,    0,    4,    1,    0,    0,    1,    0,  963,    2],\n",
              "       [   0,    1,    0,    0,    4,    1,    0,    5,    1,  997]])"
            ]
          },
          "metadata": {},
          "execution_count": 37
        }
      ]
    },
    {
      "cell_type": "code",
      "source": [
        "# Evaluate the performance\n",
        "\n",
        "acc = accuracy_score(y_test, y_pred)\n",
        "print(acc*100,\"%\")"
      ],
      "metadata": {
        "colab": {
          "base_uri": "https://localhost:8080/"
        },
        "id": "WFiR9QDX5C6P",
        "outputId": "bf318669-2cca-4b07-fa1a-4e00711f4277"
      },
      "execution_count": null,
      "outputs": [
        {
          "output_type": "stream",
          "name": "stdout",
          "text": [
            "99.18 %\n"
          ]
        }
      ]
    },
    {
      "cell_type": "markdown",
      "source": [
        "# Step-5: Learning Curve"
      ],
      "metadata": {
        "id": "9Bqt4yFI8eBN"
      }
    },
    {
      "cell_type": "markdown",
      "source": [
        "## Training VS Validation Accuracy & Loss Values"
      ],
      "metadata": {
        "id": "S08ybQSE9D0R"
      }
    },
    {
      "cell_type": "code",
      "source": [
        "def learning_curve(history, epoch):\n",
        "\n",
        "\n",
        "    # Plot training & validation accuracy values\n",
        "    epoch_range = range(1, epoch+1)\n",
        "    plt.plot(epoch_range, history.history['sparse_categorical_accuracy'])\n",
        "    plt.plot(epoch_range, history.history['val_sparse_categorical_accuracy'])\n",
        "    plt.title('Model Accuracy')\n",
        "    plt.ylabel('Accuracy')\n",
        "    plt.xlabel('Epoch')\n",
        "    plt.legend(['Train', 'Validation'], loc='upper left')\n",
        "    plt.show()\n",
        "\n",
        "    # Plot training & validation loss values\n",
        "    plt.plot(epoch_range, history.history['loss'])\n",
        "    plt.plot(epoch_range, history.history['val_loss'])\n",
        "    plt.title('Model loss')\n",
        "    plt.ylabel('Loss')\n",
        "    plt.xlabel('Epoch')\n",
        "    plt.legend(['Train', 'Validation'], loc='upper left')\n",
        "    plt.show()\n"
      ],
      "metadata": {
        "id": "lOPwuc9f5C9X"
      },
      "execution_count": null,
      "outputs": []
    },
    {
      "cell_type": "code",
      "source": [
        "learning_curve(history, 10)"
      ],
      "metadata": {
        "id": "K4Q0lhmm8Ymp",
        "colab": {
          "base_uri": "https://localhost:8080/",
          "height": 927
        },
        "outputId": "931cca43-b0a2-41e9-b49a-72e9d2e06c87"
      },
      "execution_count": null,
      "outputs": [
        {
          "output_type": "display_data",
          "data": {
            "text/plain": [
              "<Figure size 640x480 with 1 Axes>"
            ],
            "image/png": "[encoded data removed]"
          },
          "metadata": {}
        },
        {
          "output_type": "display_data",
          "data": {
            "text/plain": [
              "<Figure size 640x480 with 1 Axes>"
            ],
            "image/png": "[encoded data removed]"
          },
          "metadata": {}
        }
      ]
    },
    {
      "cell_type": "code",
      "source": [],
      "metadata": {
        "id": "UjDtbC9z8Yp9"
      },
      "execution_count": null,
      "outputs": []
    },
    {
      "cell_type": "code",
      "source": [],
      "metadata": {
        "id": "ldzNRHKZ8Ys6"
      },
      "execution_count": null,
      "outputs": []
    },
    {
      "cell_type": "code",
      "source": [],
      "metadata": {
        "id": "p8ltTl3u5C_3"
      },
      "execution_count": null,
      "outputs": []
    }
  ]
}