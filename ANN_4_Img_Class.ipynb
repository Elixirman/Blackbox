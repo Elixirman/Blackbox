{
  "nbformat": 4,
  "nbformat_minor": 0,
  "metadata": {
    "colab": {
      "provenance": [],
      "toc_visible": true,
      "authorship_tag": "ABX9TyMVHbCVaQNrk3qjgncL04pa",
      "include_colab_link": true
    },
    "kernelspec": {
      "name": "python3",
      "display_name": "Python 3"
    },
    "language_info": {
      "name": "python"
    }
  },
  "cells": [
    {
      "cell_type": "markdown",
      "metadata": {
        "id": "view-in-github",
        "colab_type": "text"
      },
      "source": [
        "<a href=\"https://colab.research.google.com/github/Elixirman/Blackbox/blob/main/ANN_4_Img_Class.ipynb\" target=\"_parent\"><img src=\"https://colab.research.google.com/assets/colab-badge.svg\" alt=\"Open In Colab\"/></a>"
      ]
    },
    {
      "cell_type": "markdown",
      "source": [
        "# Step-1: Installation & Setup"
      ],
      "metadata": {
        "id": "Gf8end04Mrw9"
      }
    },
    {
      "cell_type": "code",
      "source": [
        "# Install TensorFlow\n",
        "\n",
        "# pip install tensorflow // done on \"cmd\""
      ],
      "metadata": {
        "id": "QouyNoe-MyIA"
      },
      "execution_count": null,
      "outputs": []
    },
    {
      "cell_type": "code",
      "source": [
        "import tensorflow as tf\n"
      ],
      "metadata": {
        "id": "2IlPvr5UM26B"
      },
      "execution_count": null,
      "outputs": []
    },
    {
      "cell_type": "code",
      "source": [
        "# Check Version\n",
        "\n",
        "print(tf.__version__)"
      ],
      "metadata": {
        "colab": {
          "base_uri": "https://localhost:8080/"
        },
        "id": "ZmMMOSriM3WJ",
        "outputId": "1725a8e4-a6f7-4879-ab83-d3de6e7cbdbb"
      },
      "execution_count": null,
      "outputs": [
        {
          "output_type": "stream",
          "name": "stdout",
          "text": [
            "2.11.0\n"
          ]
        }
      ]
    },
    {
      "cell_type": "code",
      "source": [
        "import pandas as pd\n",
        "import numpy as np\n",
        "import matplotlib.pyplot as plt\n",
        "import seaborn as sns\n"
      ],
      "metadata": {
        "id": "HCAlrOlFM3Zb"
      },
      "execution_count": null,
      "outputs": []
    },
    {
      "cell_type": "markdown",
      "source": [
        "# Step-2: Data Preprocessing"
      ],
      "metadata": {
        "id": "4Fw8qvg9gFSo"
      }
    },
    {
      "cell_type": "code",
      "source": [
        "# Import dataset\n",
        "\n",
        "from tensorflow.keras.datasets import fashion_mnist"
      ],
      "metadata": {
        "id": "dSA2hru4M3cB"
      },
      "execution_count": null,
      "outputs": []
    },
    {
      "cell_type": "code",
      "source": [
        "# Load dataset\n",
        "\n",
        "(x_train, y_train), (x_test, y_test) = fashion_mnist.load_data()"
      ],
      "metadata": {
        "colab": {
          "base_uri": "https://localhost:8080/"
        },
        "id": "ooDIMn99gD9w",
        "outputId": "8306e615-59fa-4f86-c5a6-feb4ed4bdbd0"
      },
      "execution_count": null,
      "outputs": [
        {
          "output_type": "stream",
          "name": "stdout",
          "text": [
            "Downloading data from https://storage.googleapis.com/tensorflow/tf-keras-datasets/train-labels-idx1-ubyte.gz\n",
            "29515/29515 [==============================] - 0s 0us/step\n",
            "Downloading data from https://storage.googleapis.com/tensorflow/tf-keras-datasets/train-images-idx3-ubyte.gz\n",
            "26421880/26421880 [==============================] - 2s 0us/step\n",
            "Downloading data from https://storage.googleapis.com/tensorflow/tf-keras-datasets/t10k-labels-idx1-ubyte.gz\n",
            "5148/5148 [==============================] - 0s 0us/step\n",
            "Downloading data from https://storage.googleapis.com/tensorflow/tf-keras-datasets/t10k-images-idx3-ubyte.gz\n",
            "4422102/4422102 [==============================] - 0s 0us/step\n"
          ]
        }
      ]
    },
    {
      "cell_type": "code",
      "source": [
        "# Preview Data shape\n",
        "\n",
        "x_train.shape, x_test.shape"
      ],
      "metadata": {
        "colab": {
          "base_uri": "https://localhost:8080/"
        },
        "id": "eLYapfqWfys9",
        "outputId": "2eed2663-9273-4d01-b36e-fd93470e4af6"
      },
      "execution_count": null,
      "outputs": [
        {
          "output_type": "execute_result",
          "data": {
            "text/plain": [
              "((60000, 28, 28), (10000, 28, 28))"
            ]
          },
          "metadata": {},
          "execution_count": 8
        }
      ]
    },
    {
      "cell_type": "code",
      "source": [
        "y_train.shape, y_test.shape"
      ],
      "metadata": {
        "colab": {
          "base_uri": "https://localhost:8080/"
        },
        "id": "8V2I0dpwfyv8",
        "outputId": "866534f6-e4b5-4404-aebf-186109c76fe1"
      },
      "execution_count": null,
      "outputs": [
        {
          "output_type": "execute_result",
          "data": {
            "text/plain": [
              "((60000,), (10000,))"
            ]
          },
          "metadata": {},
          "execution_count": 9
        }
      ]
    },
    {
      "cell_type": "code",
      "source": [
        "# Preview Data Segments\n",
        "\n",
        "x_train, np.max(x_train) , np.min(x_train), np.mean(x_train)"
      ],
      "metadata": {
        "colab": {
          "base_uri": "https://localhost:8080/"
        },
        "id": "m_MJnTVliyMH",
        "outputId": "71064143-8ec4-4961-b004-9a7a218a9766"
      },
      "execution_count": null,
      "outputs": [
        {
          "output_type": "execute_result",
          "data": {
            "text/plain": [
              "(array([[[0, 0, 0, ..., 0, 0, 0],\n",
              "         [0, 0, 0, ..., 0, 0, 0],\n",
              "         [0, 0, 0, ..., 0, 0, 0],\n",
              "         ...,\n",
              "         [0, 0, 0, ..., 0, 0, 0],\n",
              "         [0, 0, 0, ..., 0, 0, 0],\n",
              "         [0, 0, 0, ..., 0, 0, 0]],\n",
              " \n",
              "        [[0, 0, 0, ..., 0, 0, 0],\n",
              "         [0, 0, 0, ..., 0, 0, 0],\n",
              "         [0, 0, 0, ..., 0, 0, 0],\n",
              "         ...,\n",
              "         [0, 0, 0, ..., 0, 0, 0],\n",
              "         [0, 0, 0, ..., 0, 0, 0],\n",
              "         [0, 0, 0, ..., 0, 0, 0]],\n",
              " \n",
              "        [[0, 0, 0, ..., 0, 0, 0],\n",
              "         [0, 0, 0, ..., 0, 0, 0],\n",
              "         [0, 0, 0, ..., 0, 0, 0],\n",
              "         ...,\n",
              "         [0, 0, 0, ..., 0, 0, 0],\n",
              "         [0, 0, 0, ..., 0, 0, 0],\n",
              "         [0, 0, 0, ..., 0, 0, 0]],\n",
              " \n",
              "        ...,\n",
              " \n",
              "        [[0, 0, 0, ..., 0, 0, 0],\n",
              "         [0, 0, 0, ..., 0, 0, 0],\n",
              "         [0, 0, 0, ..., 0, 0, 0],\n",
              "         ...,\n",
              "         [0, 0, 0, ..., 0, 0, 0],\n",
              "         [0, 0, 0, ..., 0, 0, 0],\n",
              "         [0, 0, 0, ..., 0, 0, 0]],\n",
              " \n",
              "        [[0, 0, 0, ..., 0, 0, 0],\n",
              "         [0, 0, 0, ..., 0, 0, 0],\n",
              "         [0, 0, 0, ..., 0, 0, 0],\n",
              "         ...,\n",
              "         [0, 0, 0, ..., 0, 0, 0],\n",
              "         [0, 0, 0, ..., 0, 0, 0],\n",
              "         [0, 0, 0, ..., 0, 0, 0]],\n",
              " \n",
              "        [[0, 0, 0, ..., 0, 0, 0],\n",
              "         [0, 0, 0, ..., 0, 0, 0],\n",
              "         [0, 0, 0, ..., 0, 0, 0],\n",
              "         ...,\n",
              "         [0, 0, 0, ..., 0, 0, 0],\n",
              "         [0, 0, 0, ..., 0, 0, 0],\n",
              "         [0, 0, 0, ..., 0, 0, 0]]], dtype=uint8), 255, 0, 72.94035223214286)"
            ]
          },
          "metadata": {},
          "execution_count": 10
        }
      ]
    },
    {
      "cell_type": "code",
      "source": [
        "x_test, np.max(x_test), np.min(x_test), np.mean(x_test)"
      ],
      "metadata": {
        "colab": {
          "base_uri": "https://localhost:8080/"
        },
        "id": "fb-fwJDpiyPF",
        "outputId": "fcbcad2f-0dc2-4652-87ac-bdefd5a12ba0"
      },
      "execution_count": null,
      "outputs": [
        {
          "output_type": "execute_result",
          "data": {
            "text/plain": [
              "(array([[[0, 0, 0, ..., 0, 0, 0],\n",
              "         [0, 0, 0, ..., 0, 0, 0],\n",
              "         [0, 0, 0, ..., 0, 0, 0],\n",
              "         ...,\n",
              "         [0, 0, 0, ..., 0, 0, 0],\n",
              "         [0, 0, 0, ..., 0, 0, 0],\n",
              "         [0, 0, 0, ..., 0, 0, 0]],\n",
              " \n",
              "        [[0, 0, 0, ..., 0, 0, 0],\n",
              "         [0, 0, 0, ..., 0, 0, 0],\n",
              "         [0, 0, 0, ..., 0, 0, 0],\n",
              "         ...,\n",
              "         [0, 0, 0, ..., 0, 0, 0],\n",
              "         [0, 0, 0, ..., 0, 0, 0],\n",
              "         [0, 0, 0, ..., 0, 0, 0]],\n",
              " \n",
              "        [[0, 0, 0, ..., 0, 0, 0],\n",
              "         [0, 0, 0, ..., 0, 0, 0],\n",
              "         [0, 0, 0, ..., 0, 0, 0],\n",
              "         ...,\n",
              "         [0, 0, 0, ..., 0, 0, 0],\n",
              "         [0, 0, 0, ..., 0, 0, 0],\n",
              "         [0, 0, 0, ..., 0, 0, 0]],\n",
              " \n",
              "        ...,\n",
              " \n",
              "        [[0, 0, 0, ..., 0, 0, 0],\n",
              "         [0, 0, 0, ..., 0, 0, 0],\n",
              "         [0, 0, 0, ..., 0, 0, 0],\n",
              "         ...,\n",
              "         [0, 0, 0, ..., 0, 0, 0],\n",
              "         [0, 0, 0, ..., 0, 0, 0],\n",
              "         [0, 0, 0, ..., 0, 0, 0]],\n",
              " \n",
              "        [[0, 0, 0, ..., 0, 0, 0],\n",
              "         [0, 0, 0, ..., 0, 0, 0],\n",
              "         [0, 0, 0, ..., 0, 0, 0],\n",
              "         ...,\n",
              "         [0, 0, 0, ..., 0, 0, 0],\n",
              "         [0, 0, 0, ..., 0, 0, 0],\n",
              "         [0, 0, 0, ..., 0, 0, 0]],\n",
              " \n",
              "        [[0, 0, 0, ..., 0, 0, 0],\n",
              "         [0, 0, 0, ..., 0, 0, 0],\n",
              "         [0, 0, 0, ..., 0, 0, 0],\n",
              "         ...,\n",
              "         [0, 0, 0, ..., 0, 0, 0],\n",
              "         [0, 0, 0, ..., 0, 0, 0],\n",
              "         [0, 0, 0, ..., 0, 0, 0]]], dtype=uint8), 255, 0, 73.14656658163265)"
            ]
          },
          "metadata": {},
          "execution_count": 11
        }
      ]
    },
    {
      "cell_type": "code",
      "source": [
        "y_train, np.max(y_train) , np.min(y_train), np.mean(y_train)"
      ],
      "metadata": {
        "colab": {
          "base_uri": "https://localhost:8080/"
        },
        "id": "CfKWpWAtiyR5",
        "outputId": "c0738d4c-2199-4585-8618-b8d71e2a854d"
      },
      "execution_count": null,
      "outputs": [
        {
          "output_type": "execute_result",
          "data": {
            "text/plain": [
              "(array([9, 0, 0, ..., 3, 0, 5], dtype=uint8), 9, 0, 4.5)"
            ]
          },
          "metadata": {},
          "execution_count": 12
        }
      ]
    },
    {
      "cell_type": "code",
      "source": [
        "y_test, np.max(y_test), np.min(y_test), np.mean(y_test)"
      ],
      "metadata": {
        "colab": {
          "base_uri": "https://localhost:8080/"
        },
        "id": "VqesDOQ8j_Xv",
        "outputId": "2e503bc7-fcf3-4880-dca3-d92775da68cc"
      },
      "execution_count": null,
      "outputs": [
        {
          "output_type": "execute_result",
          "data": {
            "text/plain": [
              "(array([9, 2, 1, ..., 8, 1, 5], dtype=uint8), 9, 0, 4.5)"
            ]
          },
          "metadata": {},
          "execution_count": 13
        }
      ]
    },
    {
      "cell_type": "code",
      "source": [
        "# Define  variable of \"Labels\"\n",
        "\n",
        "''' 0 T-shirt/top\n",
        "1 Trouser\n",
        "2 Pullover\n",
        "3 Dress\n",
        "4 Coat\n",
        "5 Sandal\n",
        "6 Shirt\n",
        "7 Sneaker\n",
        "8 Bag\n",
        "9 Ankle boot '''"
      ],
      "metadata": {
        "colab": {
          "base_uri": "https://localhost:8080/",
          "height": 35
        },
        "id": "kpmg7kD0j_da",
        "outputId": "9da8c0ff-c200-4d7d-e15d-dd33f846b5d4"
      },
      "execution_count": null,
      "outputs": [
        {
          "output_type": "execute_result",
          "data": {
            "text/plain": [
              "' 0 T-shirt/top\\n1 Trouser\\n2 Pullover\\n3 Dress\\n4 Coat\\n5 Sandal\\n6 Shirt\\n7 Sneaker\\n8 Bag\\n9 Ankle boot '"
            ],
            "application/vnd.google.colaboratory.intrinsic+json": {
              "type": "string"
            }
          },
          "metadata": {},
          "execution_count": 14
        }
      ]
    },
    {
      "cell_type": "code",
      "source": [
        "class_names = [\"0 T-shirt/top\", \"1 Trouser\", \"2 Pullover\", \"3 Dress\", \"4 Coat\", \"5 Sandal\", \"6 Shirt\", \"7 Sneaker\", \"8 Bag\", \"9 Ankle boot \"]"
      ],
      "metadata": {
        "id": "Kn4vHyc0mYhQ"
      },
      "execution_count": null,
      "outputs": []
    },
    {
      "cell_type": "code",
      "source": [
        "print(class_names)"
      ],
      "metadata": {
        "colab": {
          "base_uri": "https://localhost:8080/"
        },
        "id": "K2RArU0SmYsq",
        "outputId": "a409628b-4260-4e89-da41-102c648ebc31"
      },
      "execution_count": null,
      "outputs": [
        {
          "output_type": "stream",
          "name": "stdout",
          "text": [
            "['0 T-shirt/top', '1 Trouser', '2 Pullover', '3 Dress', '4 Coat', '5 Sandal', '6 Shirt', '7 Sneaker', '8 Bag', '9 Ankle boot ']\n"
          ]
        }
      ]
    },
    {
      "cell_type": "markdown",
      "source": [
        "## Data Exploration"
      ],
      "metadata": {
        "id": "VYEql3kMqK_Q"
      }
    },
    {
      "cell_type": "code",
      "source": [
        "plt.figure()\n",
        "plt.imshow(x_train[3])\n",
        "plt.colorbar()"
      ],
      "metadata": {
        "colab": {
          "base_uri": "https://localhost:8080/",
          "height": 282
        },
        "id": "2J1h6wrilJ0Q",
        "outputId": "4d4d0cc1-bfb5-4d03-d886-25f2067232aa"
      },
      "execution_count": null,
      "outputs": [
        {
          "output_type": "execute_result",
          "data": {
            "text/plain": [
              "<matplotlib.colorbar.Colorbar at 0x7fa5c485a0d0>"
            ]
          },
          "metadata": {},
          "execution_count": 17
        },
        {
          "output_type": "display_data",
          "data": {
            "text/plain": [
              "<Figure size 432x288 with 2 Axes>"
            ],
            "image/png": "[encoded data removed]"
          },
          "metadata": {
            "needs_background": "light"
          }
        }
      ]
    },
    {
      "cell_type": "markdown",
      "source": [
        "## Dataset Normalization"
      ],
      "metadata": {
        "id": "XYh-bQ96rfgA"
      }
    },
    {
      "cell_type": "code",
      "source": [
        "x_train = x_train / 255.0\n",
        "x_test = x_test / 255.0"
      ],
      "metadata": {
        "id": "K32i0J4MlJ3h"
      },
      "execution_count": null,
      "outputs": []
    },
    {
      "cell_type": "code",
      "source": [
        "# Verify normalization //checking the colour bar scale\n",
        "\n",
        "plt.figure()\n",
        "plt.imshow(x_train[3])\n",
        "plt.colorbar()"
      ],
      "metadata": {
        "colab": {
          "base_uri": "https://localhost:8080/",
          "height": 286
        },
        "id": "gwokG6x2lJ6S",
        "outputId": "cdadf543-f0f6-432b-8732-643eaaaf4ff4"
      },
      "execution_count": null,
      "outputs": [
        {
          "output_type": "execute_result",
          "data": {
            "text/plain": [
              "<matplotlib.colorbar.Colorbar at 0x7fa5a7bf35e0>"
            ]
          },
          "metadata": {},
          "execution_count": 19
        },
        {
          "output_type": "display_data",
          "data": {
            "text/plain": [
              "<Figure size 432x288 with 2 Axes>"
            ],
            "image/png": "[encoded data removed]"
          },
          "metadata": {
            "needs_background": "light"
          }
        }
      ]
    },
    {
      "cell_type": "markdown",
      "source": [
        "## Dataset Flattening"
      ],
      "metadata": {
        "id": "HM49bZMA4tt2"
      }
    },
    {
      "cell_type": "code",
      "source": [
        "# Recall data shape\n",
        "x_train.shape, x_test.shape"
      ],
      "metadata": {
        "colab": {
          "base_uri": "https://localhost:8080/"
        },
        "id": "JDrsGfQph8xS",
        "outputId": "064049da-ea69-4dc5-9522-109f0c3f00f3"
      },
      "execution_count": null,
      "outputs": [
        {
          "output_type": "execute_result",
          "data": {
            "text/plain": [
              "((60000, 28, 28), (10000, 28, 28))"
            ]
          },
          "metadata": {},
          "execution_count": 20
        }
      ]
    },
    {
      "cell_type": "code",
      "source": [
        "x_train = x_train.reshape(-1, 28*28)\n",
        "x_test = x_test.reshape(-1, 28*28)"
      ],
      "metadata": {
        "id": "I98yZxXz4fbv"
      },
      "execution_count": null,
      "outputs": []
    },
    {
      "cell_type": "code",
      "source": [
        "# Recall new data shape\n",
        "x_train.shape, x_test.shape"
      ],
      "metadata": {
        "colab": {
          "base_uri": "https://localhost:8080/"
        },
        "id": "XSY3LpjD5yBx",
        "outputId": "fd9fdb6c-2888-4e10-c602-8bbf79957e85"
      },
      "execution_count": null,
      "outputs": [
        {
          "output_type": "execute_result",
          "data": {
            "text/plain": [
              "((60000, 784), (10000, 784))"
            ]
          },
          "metadata": {},
          "execution_count": 22
        }
      ]
    },
    {
      "cell_type": "markdown",
      "source": [
        "# Step-3: Model Building"
      ],
      "metadata": {
        "id": "Gueai6h1887l"
      }
    },
    {
      "cell_type": "code",
      "source": [
        "# Define an object // Sequence of layers\n",
        "\n",
        "model = tf.keras.models.Sequential()"
      ],
      "metadata": {
        "id": "HIbgOb7h5yFq"
      },
      "execution_count": null,
      "outputs": []
    },
    {
      "cell_type": "code",
      "source": [
        "# Add 1st fuly connected hidden layer\n",
        "\"\"\"\n",
        "1. Units (No of neurons) = 128\n",
        "2. Activation function = ReLU\n",
        "3. input shape = 784\n",
        "\"\"\"\n",
        "model.add(tf.keras.layers.Dense(units= 128, activation= \"relu\", input_shape= (784,) ))"
      ],
      "metadata": {
        "id": "xNKG4pJn87Vc"
      },
      "execution_count": null,
      "outputs": []
    },
    {
      "cell_type": "code",
      "source": [
        "# Adding second layer with dropout // Regularization technique prevents overfitting\n",
        "\n",
        "model.add(tf.keras.layers.Dropout(0.3))"
      ],
      "metadata": {
        "id": "LocMFjft87ZL"
      },
      "execution_count": null,
      "outputs": []
    },
    {
      "cell_type": "code",
      "source": [
        "from tensorflow.python.ops.gen_nn_ops import softmax\n",
        "# Adding the Output Layer\n",
        "\"\"\"\n",
        "1. Units (No of neurons) = 10\n",
        "2. Activation function = softmax\n",
        "\"\"\"\n",
        "model.add(tf.keras.layers.Dense(units= 10, activation= softmax))"
      ],
      "metadata": {
        "id": "KzpTdG3y87ck"
      },
      "execution_count": null,
      "outputs": []
    },
    {
      "cell_type": "code",
      "source": [
        "# Model Compilation\n",
        "\"\"\"\n",
        "1. Optimizer = adam, - loss function minimizer\n",
        "2.Loss function = sparse_categorical_crossentropy, -Optimizer guide\n",
        "3.Metrices = sparse_categorical_accuracy\n",
        "\"\"\"\n",
        "model.compile(optimizer= \"adam\", loss= \"sparse_categorical_crossentropy\", metrics= [\"sparse_categorical_accuracy\"])\n"
      ],
      "metadata": {
        "id": "fFYENoo03ZGD"
      },
      "execution_count": null,
      "outputs": []
    },
    {
      "cell_type": "code",
      "source": [
        "# Summary Model\n",
        "\n",
        "model.summary()"
      ],
      "metadata": {
        "colab": {
          "base_uri": "https://localhost:8080/"
        },
        "id": "g8KDmkpR3fd0",
        "outputId": "3a6749cb-a270-4021-8ba8-534bbcccd0ad"
      },
      "execution_count": null,
      "outputs": [
        {
          "output_type": "stream",
          "name": "stdout",
          "text": [
            "Model: \"sequential\"\n",
            "_________________________________________________________________\n",
            " Layer (type)                Output Shape              Param #   \n",
            "=================================================================\n",
            " dense (Dense)               (None, 128)               100480    \n",
            "                                                                 \n",
            " dropout (Dropout)           (None, 128)               0         \n",
            "                                                                 \n",
            " dense_1 (Dense)             (None, 10)                1290      \n",
            "                                                                 \n",
            "=================================================================\n",
            "Total params: 101,770\n",
            "Trainable params: 101,770\n",
            "Non-trainable params: 0\n",
            "_________________________________________________________________\n"
          ]
        }
      ]
    },
    {
      "cell_type": "markdown",
      "source": [
        "# Step-4: Model Training"
      ],
      "metadata": {
        "id": "j4eEzNunCpjj"
      }
    },
    {
      "cell_type": "code",
      "source": [
        "# Train the Model\n",
        "\n",
        "model.fit(x_train, y_train, epochs= 10)"
      ],
      "metadata": {
        "colab": {
          "base_uri": "https://localhost:8080/"
        },
        "id": "gKjWr0L0CMMd",
        "outputId": "59b2779e-d650-4b81-a700-0bf4ebaa9bca"
      },
      "execution_count": null,
      "outputs": [
        {
          "output_type": "stream",
          "name": "stdout",
          "text": [
            "Epoch 1/10\n",
            "1875/1875 [==============================] - 11s 5ms/step - loss: 0.5599 - sparse_categorical_accuracy: 0.8031\n",
            "Epoch 2/10\n",
            "1875/1875 [==============================] - 9s 5ms/step - loss: 0.4199 - sparse_categorical_accuracy: 0.8484\n",
            "Epoch 3/10\n",
            "1875/1875 [==============================] - 8s 4ms/step - loss: 0.3886 - sparse_categorical_accuracy: 0.8591\n",
            "Epoch 4/10\n",
            "1875/1875 [==============================] - 9s 5ms/step - loss: 0.3695 - sparse_categorical_accuracy: 0.8659\n",
            "Epoch 5/10\n",
            "1875/1875 [==============================] - 9s 5ms/step - loss: 0.3536 - sparse_categorical_accuracy: 0.8709\n",
            "Epoch 6/10\n",
            "1875/1875 [==============================] - 8s 4ms/step - loss: 0.3416 - sparse_categorical_accuracy: 0.8753\n",
            "Epoch 7/10\n",
            "1875/1875 [==============================] - 9s 5ms/step - loss: 0.3325 - sparse_categorical_accuracy: 0.8777\n",
            "Epoch 8/10\n",
            "1875/1875 [==============================] - 9s 5ms/step - loss: 0.3258 - sparse_categorical_accuracy: 0.8807\n",
            "Epoch 9/10\n",
            "1875/1875 [==============================] - 8s 4ms/step - loss: 0.3183 - sparse_categorical_accuracy: 0.8830\n",
            "Epoch 10/10\n",
            "1875/1875 [==============================] - 9s 5ms/step - loss: 0.3093 - sparse_categorical_accuracy: 0.8830\n"
          ]
        },
        {
          "output_type": "execute_result",
          "data": {
            "text/plain": [
              "<keras.callbacks.History at 0x7fa5a2caf910>"
            ]
          },
          "metadata": {},
          "execution_count": 29
        }
      ]
    },
    {
      "cell_type": "markdown",
      "source": [
        "# Step-5: Model Evaluation"
      ],
      "metadata": {
        "id": "0YzK4BJFLnTJ"
      }
    },
    {
      "cell_type": "code",
      "source": [
        "# Evaluating\n",
        "\n",
        "test_loss , test_accuracy = model.evaluate(x_test, y_test)"
      ],
      "metadata": {
        "colab": {
          "base_uri": "https://localhost:8080/"
        },
        "id": "Uamqn3Kw4fht",
        "outputId": "a0d39def-4ea5-4598-b85d-325e44a79430"
      },
      "execution_count": null,
      "outputs": [
        {
          "output_type": "stream",
          "name": "stdout",
          "text": [
            "313/313 [==============================] - 1s 2ms/step - loss: 0.3425 - sparse_categorical_accuracy: 0.8757\n"
          ]
        }
      ]
    },
    {
      "cell_type": "markdown",
      "source": [
        "## Model Prediction"
      ],
      "metadata": {
        "id": "1gyWoOrxQjkG"
      }
    },
    {
      "cell_type": "code",
      "source": [
        "y_pred = model.predict(x_test)\n",
        "y_pred_classes = np.argmax(y_pred, axis=1)"
      ],
      "metadata": {
        "colab": {
          "base_uri": "https://localhost:8080/"
        },
        "id": "JYCuvnUIQACo",
        "outputId": "874ee111-df2c-4f56-8b70-a65e87fe0584"
      },
      "execution_count": null,
      "outputs": [
        {
          "output_type": "stream",
          "name": "stdout",
          "text": [
            "313/313 [==============================] - 1s 2ms/step\n"
          ]
        }
      ]
    },
    {
      "cell_type": "code",
      "source": [
        "y_pred"
      ],
      "metadata": {
        "colab": {
          "base_uri": "https://localhost:8080/"
        },
        "id": "AY7gTKSHQAGs",
        "outputId": "a8c8cb5a-3928-41c2-9916-87379f76143b"
      },
      "execution_count": null,
      "outputs": [
        {
          "output_type": "execute_result",
          "data": {
            "text/plain": [
              "array([[2.77415850e-08, 4.61543870e-09, 2.92464430e-09, ...,\n",
              "        1.42793711e-02, 3.16089569e-07, 9.85217869e-01],\n",
              "       [2.79871947e-05, 6.07136411e-13, 9.95629489e-01, ...,\n",
              "        7.93037045e-17, 1.80794368e-09, 6.60030231e-21],\n",
              "       [5.16588577e-11, 9.99999940e-01, 4.20225270e-12, ...,\n",
              "        8.57949047e-25, 7.25272761e-13, 1.19100356e-24],\n",
              "       ...,\n",
              "       [6.57435303e-05, 2.76190271e-09, 3.88093849e-06, ...,\n",
              "        9.05348106e-12, 9.99849319e-01, 4.47155008e-13],\n",
              "       [6.74449563e-09, 9.99976933e-01, 3.98283823e-10, ...,\n",
              "        1.99957759e-11, 8.00890554e-09, 1.04200945e-11],\n",
              "       [2.64744122e-05, 3.58024209e-07, 7.15658598e-06, ...,\n",
              "        3.68339159e-02, 4.53414948e-04, 1.48724343e-04]], dtype=float32)"
            ]
          },
          "metadata": {},
          "execution_count": 32
        }
      ]
    },
    {
      "cell_type": "code",
      "source": [
        "# Predicted Output\n",
        "y_pred[0]"
      ],
      "metadata": {
        "colab": {
          "base_uri": "https://localhost:8080/"
        },
        "id": "OvMLdWmzQAJ4",
        "outputId": "e15d9de6-ca6f-4075-96b8-606621e9a0f7"
      },
      "execution_count": null,
      "outputs": [
        {
          "output_type": "execute_result",
          "data": {
            "text/plain": [
              "array([2.7741585e-08, 4.6154387e-09, 2.9246443e-09, 3.0428185e-10,\n",
              "       2.3665062e-10, 5.0231942e-04, 3.0217560e-09, 1.4279371e-02,\n",
              "       3.1608957e-07, 9.8521787e-01], dtype=float32)"
            ]
          },
          "metadata": {},
          "execution_count": 33
        }
      ]
    },
    {
      "cell_type": "code",
      "source": [
        "# Actual Output\n",
        "y_test[0]"
      ],
      "metadata": {
        "colab": {
          "base_uri": "https://localhost:8080/"
        },
        "id": "LYvvu8R1QANy",
        "outputId": "7ed5075b-ac69-4855-c4e1-420b6c6157e3"
      },
      "execution_count": null,
      "outputs": [
        {
          "output_type": "execute_result",
          "data": {
            "text/plain": [
              "9"
            ]
          },
          "metadata": {},
          "execution_count": 34
        }
      ]
    },
    {
      "cell_type": "markdown",
      "source": [
        "## Confusion Matrix"
      ],
      "metadata": {
        "id": "WohbktHbEopX"
      }
    },
    {
      "cell_type": "code",
      "source": [
        "from sklearn.metrics import confusion_matrix, accuracy_score, f1_score, r2_score, recall_score, precision_score"
      ],
      "metadata": {
        "id": "Ji2Liu_8TWUk"
      },
      "execution_count": null,
      "outputs": []
    },
    {
      "cell_type": "code",
      "source": [
        "# Convert continuous predictions to discrete class labels\n",
        "y_pred_classes = np.argmax(y_pred, axis=1)"
      ],
      "metadata": {
        "id": "S1Wlg3mSTWYQ"
      },
      "execution_count": null,
      "outputs": []
    },
    {
      "cell_type": "code",
      "source": [
        "# Evaluate the performance\n",
        "\n",
        "conf_m = confusion_matrix(y_test, y_pred_classes)\n",
        "acc = accuracy_score(y_test, y_pred_classes)\n",
        "f1 = f1_score(y_test, y_pred_classes, average= \"weighted\")\n",
        "r2 = r2_score(y_test, y_pred_classes)\n",
        "rs = recall_score(y_test, y_pred_classes, average= \"weighted\")\n",
        "ps = precision_score(y_test, y_pred_classes, average= \"weighted\")\n",
        "\n",
        "print(\"conf_m: {}  \\nacc: {} \\nf1: {}  \\nr2: {} \\nrs: {} \\nps: {}\".format(conf_m, acc*100, f1*100, r2*100, rs*100, ps*100))"
      ],
      "metadata": {
        "colab": {
          "base_uri": "https://localhost:8080/"
        },
        "id": "vixoHrQYTWeg",
        "outputId": "ef7b7e67-306a-47d3-b04e-3c437fa5ef6e"
      },
      "execution_count": null,
      "outputs": [
        {
          "output_type": "stream",
          "name": "stdout",
          "text": [
            "conf_m: [[812   2  20  20   0   0 139   0   7   0]\n",
            " [  3 965   1  22   2   0   4   0   3   0]\n",
            " [ 15   1 789   9  81   0 103   0   2   0]\n",
            " [ 18   6  11 890  23   1  46   0   5   0]\n",
            " [  2   1 117  40 734   0 104   0   2   0]\n",
            " [  0   0   0   0   0 948   0  32   2  18]\n",
            " [110   1  77  22  52   0 722   0  16   0]\n",
            " [  0   0   0   0   0   8   0 965   0  27]\n",
            " [  2   0   2   5   1   1   6   4 979   0]\n",
            " [  0   0   0   0   0   8   1  38   0 953]]  \n",
            "acc: 87.57000000000001 \n",
            "f1: 87.64390964850584  \n",
            "r2: 79.54787878787879 \n",
            "rs: 87.57000000000001 \n",
            "ps: 87.83914962936565\n"
          ]
        }
      ]
    },
    {
      "cell_type": "code",
      "source": [
        "# plot the matrix\n",
        "sns.heatmap(conf_m, annot=True, cmap='Blues')\n",
        "\n",
        "# add title and axis labels\n",
        "plt.title('Confusion Matrix')\n",
        "plt.ylabel('True label')\n",
        "plt.xlabel('Predicted label')\n",
        "\n"
      ],
      "metadata": {
        "colab": {
          "base_uri": "https://localhost:8080/",
          "height": 312
        },
        "id": "xV592YanTWg6",
        "outputId": "1c16db86-c0e1-4583-a3c4-362fbdb20890"
      },
      "execution_count": null,
      "outputs": [
        {
          "output_type": "execute_result",
          "data": {
            "text/plain": [
              "Text(0.5, 15.0, 'Predicted label')"
            ]
          },
          "metadata": {},
          "execution_count": 38
        },
        {
          "output_type": "display_data",
          "data": {
            "text/plain": [
              "<Figure size 432x288 with 2 Axes>"
            ],
            "image/png": "[encoded data removed]"
          },
          "metadata": {
            "needs_background": "light"
          }
        }
      ]
    }
  ]
}