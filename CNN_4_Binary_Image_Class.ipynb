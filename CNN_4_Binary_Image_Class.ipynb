{
  "nbformat": 4,
  "nbformat_minor": 0,
  "metadata": {
    "colab": {
      "provenance": [],
      "toc_visible": true,
      "authorship_tag": "ABX9TyOobffwPhkDVmmtLmaGDYwi",
      "include_colab_link": true
    },
    "kernelspec": {
      "name": "python3",
      "display_name": "Python 3"
    },
    "language_info": {
      "name": "python"
    },
    "accelerator": "TPU",
    "gpuClass": "standard"
  },
  "cells": [
    {
      "cell_type": "markdown",
      "metadata": {
        "id": "view-in-github",
        "colab_type": "text"
      },
      "source": [
        "<a href=\"https://colab.research.google.com/github/Elixirman/Blackbox/blob/main/CNN_4_Binary_Image_Class.ipynb\" target=\"_parent\"><img src=\"https://colab.research.google.com/assets/colab-badge.svg\" alt=\"Open In Colab\"/></a>"
      ]
    },
    {
      "cell_type": "markdown",
      "source": [
        "# Step-1: Installation & Setup"
      ],
      "metadata": {
        "id": "hkfavMHf93qS"
      }
    },
    {
      "cell_type": "code",
      "source": [
        "!pip install --upgrade pip"
      ],
      "metadata": {
        "colab": {
          "base_uri": "https://localhost:8080/"
        },
        "id": "LjtaHgAU-TVT",
        "outputId": "82f63d08-c795-4a3a-fff2-e770e4d37f72"
      },
      "execution_count": null,
      "outputs": [
        {
          "output_type": "stream",
          "name": "stdout",
          "text": [
            "Looking in indexes: https://pypi.org/simple, https://us-python.pkg.dev/colab-wheels/public/simple/\n",
            "Requirement already satisfied: pip in /usr/local/lib/python3.9/dist-packages (23.0.1)\n",
            "\u001b[33mWARNING: Running pip as the 'root' user can result in broken permissions and conflicting behaviour with the system package manager. It is recommended to use a virtual environment instead: https://pip.pypa.io/warnings/venv\u001b[0m\u001b[33m\n",
            "\u001b[0m"
          ]
        }
      ]
    },
    {
      "cell_type": "code",
      "source": [
        "# Install TensorFlow\n",
        "\"\"\"\n",
        "!pip install -q tensorflow-gpu\n",
        "\n",
        "- Command executed on cmd\n",
        "\"\"\""
      ],
      "metadata": {
        "colab": {
          "base_uri": "https://localhost:8080/",
          "height": 35
        },
        "id": "Gea3I03qANTl",
        "outputId": "686d6de5-4cf6-42e5-f3ea-e9eed78765de"
      },
      "execution_count": null,
      "outputs": [
        {
          "output_type": "execute_result",
          "data": {
            "text/plain": [
              "'\\n!pip install -q tensorflow-gpu\\n\\n- Command executed on cmd\\n'"
            ],
            "application/vnd.google.colaboratory.intrinsic+json": {
              "type": "string"
            }
          },
          "metadata": {},
          "execution_count": 2
        }
      ]
    },
    {
      "cell_type": "code",
      "source": [
        "import tensorflow as tf\n",
        "\n",
        "print(tf.__version__)"
      ],
      "metadata": {
        "colab": {
          "base_uri": "https://localhost:8080/"
        },
        "id": "UIoru49cAfgp",
        "outputId": "9b376948-7e6e-468b-e3a7-8926c0b65b42"
      },
      "execution_count": null,
      "outputs": [
        {
          "output_type": "stream",
          "name": "stdout",
          "text": [
            "2.11.0\n"
          ]
        }
      ]
    },
    {
      "cell_type": "markdown",
      "source": [
        "# Step-2: Data Preprocessing"
      ],
      "metadata": {
        "id": "j3pBf6S3BVS3"
      }
    },
    {
      "cell_type": "markdown",
      "source": [
        "## Data and Library Importation"
      ],
      "metadata": {
        "id": "tK3sbnzkBb87"
      }
    },
    {
      "cell_type": "code",
      "source": [
        "import pandas as pd\n",
        "import numpy as np\n",
        "import matplotlib.pyplot as plt\n",
        "import seaborn as sns"
      ],
      "metadata": {
        "id": "EdGFJBkHA4F6"
      },
      "execution_count": null,
      "outputs": []
    },
    {
      "cell_type": "markdown",
      "source": [
        "Install Kaggle API"
      ],
      "metadata": {
        "id": "Q1UekILXCi4Z"
      }
    },
    {
      "cell_type": "code",
      "source": [
        "!pip install -q kaggle"
      ],
      "metadata": {
        "colab": {
          "base_uri": "https://localhost:8080/"
        },
        "id": "l4L8HYYECdJn",
        "outputId": "1530e538-1601-41dc-b7bc-a95ef1accade"
      },
      "execution_count": null,
      "outputs": [
        {
          "output_type": "stream",
          "name": "stdout",
          "text": [
            "\u001b[33mWARNING: Running pip as the 'root' user can result in broken permissions and conflicting behaviour with the system package manager. It is recommended to use a virtual environment instead: https://pip.pypa.io/warnings/venv\u001b[0m\u001b[33m\n",
            "\u001b[0m"
          ]
        }
      ]
    },
    {
      "cell_type": "markdown",
      "source": [
        "Create a Directory as kaggle"
      ],
      "metadata": {
        "id": "6my-2-VRDbTs"
      }
    },
    {
      "cell_type": "code",
      "source": [
        "! mkdir -p ~/.kaggle"
      ],
      "metadata": {
        "id": "WnH8f8mhCyyi"
      },
      "execution_count": null,
      "outputs": []
    },
    {
      "cell_type": "markdown",
      "source": [
        "Import API key to Colab"
      ],
      "metadata": {
        "id": "BNwdAi19Dz2X"
      }
    },
    {
      "cell_type": "code",
      "source": [
        "from google.colab import files\n",
        "uploaded = files.upload()"
      ],
      "metadata": {
        "colab": {
          "base_uri": "https://localhost:8080/",
          "height": 72
        },
        "id": "FXdoUFoXDU0K",
        "outputId": "fd0e0166-b4e2-43ec-de44-8dc7dbd12ca8"
      },
      "execution_count": null,
      "outputs": [
        {
          "output_type": "display_data",
          "data": {
            "text/plain": [
              "<IPython.core.display.HTML object>"
            ],
            "text/html": [
              "\n",
              "     <input type=\"file\" id=\"files-9002e97d-8173-4994-a89c-72aa06f7fc75\" name=\"files[]\" multiple disabled\n",
              "        style=\"border:none\" />\n",
              "     <output id=\"result-9002e97d-8173-4994-a89c-72aa06f7fc75\">\n",
              "      Upload widget is only available when the cell has been executed in the\n",
              "      current browser session. Please rerun this cell to enable.\n",
              "      </output>\n",
              "      <script>// Copyright 2017 Google LLC\n",
              "//\n",
              "// Licensed under the Apache License, Version 2.0 (the \"License\");\n",
              "// you may not use this file except in compliance with the License.\n",
              "// You may obtain a copy of the License at\n",
              "//\n",
              "//      http://www.apache.org/licenses/LICENSE-2.0\n",
              "//\n",
              "// Unless required by applicable law or agreed to in writing, software\n",
              "// distributed under the License is distributed on an \"AS IS\" BASIS,\n",
              "// WITHOUT WARRANTIES OR CONDITIONS OF ANY KIND, either express or implied.\n",
              "// See the License for the specific language governing permissions and\n",
              "// limitations under the License.\n",
              "\n",
              "/**\n",
              " * @fileoverview Helpers for google.colab Python module.\n",
              " */\n",
              "(function(scope) {\n",
              "function span(text, styleAttributes = {}) {\n",
              "  const element = document.createElement('span');\n",
              "  element.textContent = text;\n",
              "  for (const key of Object.keys(styleAttributes)) {\n",
              "    element.style[key] = styleAttributes[key];\n",
              "  }\n",
              "  return element;\n",
              "}\n",
              "\n",
              "// Max number of bytes which will be uploaded at a time.\n",
              "const MAX_PAYLOAD_SIZE = 100 * 1024;\n",
              "\n",
              "function _uploadFiles(inputId, outputId) {\n",
              "  const steps = uploadFilesStep(inputId, outputId);\n",
              "  const outputElement = document.getElementById(outputId);\n",
              "  // Cache steps on the outputElement to make it available for the next call\n",
              "  // to uploadFilesContinue from Python.\n",
              "  outputElement.steps = steps;\n",
              "\n",
              "  return _uploadFilesContinue(outputId);\n",
              "}\n",
              "\n",
              "// This is roughly an async generator (not supported in the browser yet),\n",
              "// where there are multiple asynchronous steps and the Python side is going\n",
              "// to poll for completion of each step.\n",
              "// This uses a Promise to block the python side on completion of each step,\n",
              "// then passes the result of the previous step as the input to the next step.\n",
              "function _uploadFilesContinue(outputId) {\n",
              "  const outputElement = document.getElementById(outputId);\n",
              "  const steps = outputElement.steps;\n",
              "\n",
              "  const next = steps.next(outputElement.lastPromiseValue);\n",
              "  return Promise.resolve(next.value.promise).then((value) => {\n",
              "    // Cache the last promise value to make it available to the next\n",
              "    // step of the generator.\n",
              "    outputElement.lastPromiseValue = value;\n",
              "    return next.value.response;\n",
              "  });\n",
              "}\n",
              "\n",
              "/**\n",
              " * Generator function which is called between each async step of the upload\n",
              " * process.\n",
              " * @param {string} inputId Element ID of the input file picker element.\n",
              " * @param {string} outputId Element ID of the output display.\n",
              " * @return {!Iterable<!Object>} Iterable of next steps.\n",
              " */\n",
              "function* uploadFilesStep(inputId, outputId) {\n",
              "  const inputElement = document.getElementById(inputId);\n",
              "  inputElement.disabled = false;\n",
              "\n",
              "  const outputElement = document.getElementById(outputId);\n",
              "  outputElement.innerHTML = '';\n",
              "\n",
              "  const pickedPromise = new Promise((resolve) => {\n",
              "    inputElement.addEventListener('change', (e) => {\n",
              "      resolve(e.target.files);\n",
              "    });\n",
              "  });\n",
              "\n",
              "  const cancel = document.createElement('button');\n",
              "  inputElement.parentElement.appendChild(cancel);\n",
              "  cancel.textContent = 'Cancel upload';\n",
              "  const cancelPromise = new Promise((resolve) => {\n",
              "    cancel.onclick = () => {\n",
              "      resolve(null);\n",
              "    };\n",
              "  });\n",
              "\n",
              "  // Wait for the user to pick the files.\n",
              "  const files = yield {\n",
              "    promise: Promise.race([pickedPromise, cancelPromise]),\n",
              "    response: {\n",
              "      action: 'starting',\n",
              "    }\n",
              "  };\n",
              "\n",
              "  cancel.remove();\n",
              "\n",
              "  // Disable the input element since further picks are not allowed.\n",
              "  inputElement.disabled = true;\n",
              "\n",
              "  if (!files) {\n",
              "    return {\n",
              "      response: {\n",
              "        action: 'complete',\n",
              "      }\n",
              "    };\n",
              "  }\n",
              "\n",
              "  for (const file of files) {\n",
              "    const li = document.createElement('li');\n",
              "    li.append(span(file.name, {fontWeight: 'bold'}));\n",
              "    li.append(span(\n",
              "        `(${file.type || 'n/a'}) - ${file.size} bytes, ` +\n",
              "        `last modified: ${\n",
              "            file.lastModifiedDate ? file.lastModifiedDate.toLocaleDateString() :\n",
              "                                    'n/a'} - `));\n",
              "    const percent = span('0% done');\n",
              "    li.appendChild(percent);\n",
              "\n",
              "    outputElement.appendChild(li);\n",
              "\n",
              "    const fileDataPromise = new Promise((resolve) => {\n",
              "      const reader = new FileReader();\n",
              "      reader.onload = (e) => {\n",
              "        resolve(e.target.result);\n",
              "      };\n",
              "      reader.readAsArrayBuffer(file);\n",
              "    });\n",
              "    // Wait for the data to be ready.\n",
              "    let fileData = yield {\n",
              "      promise: fileDataPromise,\n",
              "      response: {\n",
              "        action: 'continue',\n",
              "      }\n",
              "    };\n",
              "\n",
              "    // Use a chunked sending to avoid message size limits. See b/62115660.\n",
              "    let position = 0;\n",
              "    do {\n",
              "      const length = Math.min(fileData.byteLength - position, MAX_PAYLOAD_SIZE);\n",
              "      const chunk = new Uint8Array(fileData, position, length);\n",
              "      position += length;\n",
              "\n",
              "      const base64 = btoa(String.fromCharCode.apply(null, chunk));\n",
              "      yield {\n",
              "        response: {\n",
              "          action: 'append',\n",
              "          file: file.name,\n",
              "          data: base64,\n",
              "        },\n",
              "      };\n",
              "\n",
              "      let percentDone = fileData.byteLength === 0 ?\n",
              "          100 :\n",
              "          Math.round((position / fileData.byteLength) * 100);\n",
              "      percent.textContent = `${percentDone}% done`;\n",
              "\n",
              "    } while (position < fileData.byteLength);\n",
              "  }\n",
              "\n",
              "  // All done.\n",
              "  yield {\n",
              "    response: {\n",
              "      action: 'complete',\n",
              "    }\n",
              "  };\n",
              "}\n",
              "\n",
              "scope.google = scope.google || {};\n",
              "scope.google.colab = scope.google.colab || {};\n",
              "scope.google.colab._files = {\n",
              "  _uploadFiles,\n",
              "  _uploadFilesContinue,\n",
              "};\n",
              "})(self);\n",
              "</script> "
            ]
          },
          "metadata": {}
        },
        {
          "output_type": "stream",
          "name": "stdout",
          "text": [
            "Saving kaggle.json to kaggle (1).json\n"
          ]
        }
      ]
    },
    {
      "cell_type": "markdown",
      "source": [
        "Copy API key to Kaggle Directory"
      ],
      "metadata": {
        "id": "xn2BlxdPFnTn"
      }
    },
    {
      "cell_type": "code",
      "source": [
        "! cp kaggle.json ~/.kaggle/"
      ],
      "metadata": {
        "id": "CeGG0sMyFrW7"
      },
      "execution_count": null,
      "outputs": []
    },
    {
      "cell_type": "markdown",
      "source": [
        "Disable API key"
      ],
      "metadata": {
        "id": "j6iICCBcGIKA"
      }
    },
    {
      "cell_type": "code",
      "source": [
        "! chmod 600 /root/.kaggle/kaggle.json"
      ],
      "metadata": {
        "id": "WZBFlUDqGcqq"
      },
      "execution_count": null,
      "outputs": []
    },
    {
      "cell_type": "code",
      "source": [
        "!mkdir -p ~/.kaggle && cp kaggle.json ~/.kaggle/ && chmod 600 ~/.kaggle/kaggle.json"
      ],
      "metadata": {
        "id": "k-El44sHPfd-"
      },
      "execution_count": null,
      "outputs": []
    },
    {
      "cell_type": "markdown",
      "source": [
        " Check list of dataset"
      ],
      "metadata": {
        "id": "rpHiuEix8qBm"
      }
    },
    {
      "cell_type": "code",
      "source": [
        "! kaggle datasets list"
      ],
      "metadata": {
        "colab": {
          "base_uri": "https://localhost:8080/"
        },
        "id": "MPgjPOIk8t-G",
        "outputId": "43ba5654-f7e4-40e8-f4ea-e73c28a93d2c"
      },
      "execution_count": null,
      "outputs": [
        {
          "output_type": "stream",
          "name": "stdout",
          "text": [
            "ref                                                           title                                          size  lastUpdated          downloadCount  voteCount  usabilityRating  \n",
            "------------------------------------------------------------  ---------------------------------------------  ----  -------------------  -------------  ---------  ---------------  \n",
            "salvatorerastelli/spotify-and-youtube                         Spotify and Youtube                             9MB  2023-03-20 15:43:25           1109         40  1.0              \n",
            "dgoenrique/netflix-movies-and-tv-shows                        Netflix Movies and TV Shows                     2MB  2023-03-13 18:49:00            800         27  1.0              \n",
            "rajkumarpandey02/list-of-countries-by-gdp-sector-composition  List of Countries by GDP Sector Composition     8KB  2023-03-20 04:42:10           1008         35  1.0              \n",
            "datascientistanna/customers-dataset                           Shop Customer Data                             23KB  2023-02-07 18:42:21          14367        315  1.0              \n",
            "ajaypalsinghlo/world-happiness-report-2023                    World Happiness Report 2023                     7KB  2023-03-22 07:29:42            627         27  0.88235295       \n",
            "amaanansari09/most-streamed-songs-all-time                    Most Streamed Songs (All Time)                  8KB  2023-03-08 10:56:24           2845         69  1.0              \n",
            "rkiattisak/student-performance-in-mathematics                 Student performance prediction                  9KB  2023-03-12 04:32:56           2885         69  1.0              \n",
            "darshanpatel3112/top-rated-movies-from-tmdb                   Top Rated Movies  from TMDB                     1MB  2023-03-22 12:56:39            424         22  1.0              \n",
            "arnabchaki/popular-video-games-1980-2023                      Popular Video Games 1980 - 2023 🎮               1MB  2023-03-23 16:16:51            636         28  1.0              \n",
            "ramkrijal/tomato-daily-prices                                 Tomato Daily Prices                            10KB  2023-03-10 15:39:14           1627         49  1.0              \n",
            "themrityunjaypathak/covid-cases-and-deaths-worldwide          Covid Cases and Deaths WorldWide                8KB  2023-02-01 12:22:51          15445        494  1.0              \n",
            "anandaramg/apartment-cost-in-new-york-city                    Housing Cost in New York                        1MB  2023-03-22 02:48:15            616         24  1.0              \n",
            "zusmani/pakistan-toshakhana-files                             Pakistan ToshaKhana Files                       1MB  2023-03-15 16:25:43           2486        125  1.0              \n",
            "mehmettahiraslan/customer-shopping-dataset                    Customer Shopping Dataset - Retail Sales Data   2MB  2023-03-09 07:44:35           1941         63  1.0              \n",
            "shreyajagani13/imdb-movies-data                               imdb movies data                               27KB  2023-03-15 04:26:49            689         27  1.0              \n",
            "thedevastator/airbnb-prices-in-european-cities                Airbnb Prices in European Cities                4MB  2023-02-20 09:48:04           5677        101  1.0              \n",
            "arnabchaki/fitness-trackers-products-ecommerce                Fitness Trackers Products Ecommerce ⌚          14KB  2023-03-23 09:15:56            613         26  1.0              \n",
            "priyankkhanna/flipkart-product-dataset-by-priyank-khanna      Flipkart Product Dataset                        2MB  2023-03-03 13:44:42           1339         32  1.0              \n",
            "gianinamariapetrascu/top-250-anime-2023                       🍥 Top 250 Anime 2023                           10KB  2023-03-20 20:09:40            536         35  1.0              \n",
            "shreyajagani13/used-car-dataset                               Used Car Dataset                               12KB  2023-03-19 06:38:54            849         22  1.0              \n"
          ]
        }
      ]
    },
    {
      "cell_type": "markdown",
      "source": [
        "Importing Dataset"
      ],
      "metadata": {
        "id": "yKP2W2ulG4yw"
      }
    },
    {
      "cell_type": "code",
      "source": [
        "# Copy API command from (https://www.kaggle.com/datasets/tongpython/cat-and-dog)\n",
        "\n",
        "! kaggle datasets download -d tongpython/cat-and-dog"
      ],
      "metadata": {
        "colab": {
          "base_uri": "https://localhost:8080/"
        },
        "id": "u1rDLibtGGk8",
        "outputId": "e63dcd9a-afe4-48a0-b4a6-9023b216ff99"
      },
      "execution_count": null,
      "outputs": [
        {
          "output_type": "stream",
          "name": "stdout",
          "text": [
            "cat-and-dog.zip: Skipping, found more recently modified local copy (use --force to force download)\n"
          ]
        }
      ]
    },
    {
      "cell_type": "code",
      "source": [
        "# We need to unzip, \"cat-and-dogs.zip\"\n",
        "\n",
        "! unzip -q /content/cat-and-dog.zip"
      ],
      "metadata": {
        "colab": {
          "base_uri": "https://localhost:8080/"
        },
        "id": "h9Bly-NDHzSu",
        "outputId": "727f7669-2ccd-49db-df1e-fbacece75793"
      },
      "execution_count": null,
      "outputs": [
        {
          "output_type": "stream",
          "name": "stdout",
          "text": [
            "replace test_set/test_set/cats/_DS_Store? [y]es, [n]o, [A]ll, [N]one, [r]ename: y\n",
            "replace test_set/test_set/cats/cat.4001.jpg? [y]es, [n]o, [A]ll, [N]one, [r]ename: y\n",
            "replace test_set/test_set/cats/cat.4002.jpg? [y]es, [n]o, [A]ll, [N]one, [r]ename: y\n",
            "replace test_set/test_set/cats/cat.4003.jpg? [y]es, [n]o, [A]ll, [N]one, [r]ename: yes\n",
            "replace test_set/test_set/cats/cat.4004.jpg? [y]es, [n]o, [A]ll, [N]one, [r]ename: yes\n",
            "replace test_set/test_set/cats/cat.4005.jpg? [y]es, [n]o, [A]ll, [N]one, [r]ename: yes\n",
            "replace test_set/test_set/cats/cat.4006.jpg? [y]es, [n]o, [A]ll, [N]one, [r]ename: A\n"
          ]
        }
      ]
    },
    {
      "cell_type": "markdown",
      "source": [
        "# Step-3: Model Building"
      ],
      "metadata": {
        "id": "OQLc-NN9Ljm0"
      }
    },
    {
      "cell_type": "markdown",
      "source": [
        "Initializing The CNN"
      ],
      "metadata": {
        "id": "LpSZsRCkL9g9"
      }
    },
    {
      "cell_type": "code",
      "source": [
        "# Create an instance of the class\n",
        "\n",
        "model = tf.keras.models.Sequential()"
      ],
      "metadata": {
        "id": "_4pL1UskME2Q"
      },
      "execution_count": null,
      "outputs": []
    },
    {
      "cell_type": "markdown",
      "source": [
        "Establishing the input layer"
      ],
      "metadata": {
        "id": "yjWEpNbnMhjT"
      }
    },
    {
      "cell_type": "code",
      "source": [
        "# Adding 1st CNN Layer\n",
        "\"\"\"\n",
        "1. Filters (kernel) = 64\n",
        "2. kernel_size = 3\n",
        "3. padding = same\n",
        "4. Activation function = relu\n",
        "5. input_shape = (32,32,3)\n",
        "\"\"\"\n",
        "model.add(tf.keras.layers.Conv2D(filters= 64, kernel_size= 3, padding= \"same\", activation= \"relu\",input_shape= [32, 32, 3] ))"
      ],
      "metadata": {
        "id": "K5Tdb25_MSdm"
      },
      "execution_count": null,
      "outputs": []
    },
    {
      "cell_type": "code",
      "source": [
        "# Specify maxpool layer parameters\n",
        "\"\"\"\n",
        "1. pool_size = 2\n",
        "2. strides = 2\n",
        "3. padding = valid\n",
        "\"\"\"\n",
        "model.add(tf.keras.layers.MaxPool2D(pool_size= (2,2), strides= 2, padding= \"valid\"))"
      ],
      "metadata": {
        "id": "AYLbNikxM2IH"
      },
      "execution_count": null,
      "outputs": []
    },
    {
      "cell_type": "code",
      "source": [
        "# Adding 2nd CNN layer and maxpool layer\n",
        "\"\"\"\n",
        "1. Filters (kernel) = 32\n",
        "2. kernel_size = 3\n",
        "3. padding = same\n",
        "4. Activation function = ReLU\n",
        "\"\"\"\n",
        "model.add(tf.keras.layers.Conv2D(filters= 64, kernel_size= 3, padding= \"same\", activation= \"relu\"))\n",
        "\n",
        "# Specify maxpool layer parameters\n",
        "\"\"\"\n",
        "1. pool_size = 2\n",
        "2. strides = 2\n",
        "3. padding = valid\n",
        "\"\"\"\n",
        "model.add(tf.keras.layers.MaxPool2D(pool_size= (2,2), strides= 2, padding= \"valid\"))"
      ],
      "metadata": {
        "id": "cS6gp8lUODWf"
      },
      "execution_count": null,
      "outputs": []
    },
    {
      "cell_type": "code",
      "source": [
        "# Adding the Flattening layer\n",
        "\n",
        "model.add(tf.keras.layers.Flatten())"
      ],
      "metadata": {
        "id": "Qq36wbcROsRB"
      },
      "execution_count": null,
      "outputs": []
    },
    {
      "cell_type": "code",
      "source": [
        "# Adding the dropout layer\n",
        "\n",
        "model.add(tf.keras.layers.Dropout(0.4))"
      ],
      "metadata": {
        "id": "CfK3Gzgqxx6C"
      },
      "execution_count": null,
      "outputs": []
    },
    {
      "cell_type": "code",
      "source": [
        "# Adding fully connected layer // 1st Dense layer\n",
        "\n",
        "model.add(tf.keras.layers.Dense(units= 128, activation= \"relu\"))"
      ],
      "metadata": {
        "id": "bIilbPnCyA2t"
      },
      "execution_count": null,
      "outputs": []
    },
    {
      "cell_type": "code",
      "source": [
        "# Adding 2nd Dense layer = Output Layer\n",
        "\"\"\"\n",
        "Units= 1 because of it binary objective\n",
        "\"\"\"\n",
        "\n",
        "model.add(tf.keras.layers.Dense(units= 1, activation= \"sigmoid\"))"
      ],
      "metadata": {
        "id": "SdxAsLAvyA_F"
      },
      "execution_count": null,
      "outputs": []
    },
    {
      "cell_type": "markdown",
      "source": [
        "Model Summary"
      ],
      "metadata": {
        "id": "66Yn14rvamEG"
      }
    },
    {
      "cell_type": "code",
      "source": [
        "# Model Summary\n",
        "\n",
        "model.summary()"
      ],
      "metadata": {
        "colab": {
          "base_uri": "https://localhost:8080/"
        },
        "id": "HTUu_GIbzrHo",
        "outputId": "6946ebee-b199-4236-a25f-2d4da78858fc"
      },
      "execution_count": null,
      "outputs": [
        {
          "output_type": "stream",
          "name": "stdout",
          "text": [
            "Model: \"sequential\"\n",
            "_________________________________________________________________\n",
            " Layer (type)                Output Shape              Param #   \n",
            "=================================================================\n",
            " conv2d (Conv2D)             (None, 32, 32, 64)        1792      \n",
            "                                                                 \n",
            " max_pooling2d (MaxPooling2D  (None, 16, 16, 64)       0         \n",
            " )                                                               \n",
            "                                                                 \n",
            " conv2d_1 (Conv2D)           (None, 16, 16, 64)        36928     \n",
            "                                                                 \n",
            " max_pooling2d_1 (MaxPooling  (None, 8, 8, 64)         0         \n",
            " 2D)                                                             \n",
            "                                                                 \n",
            " flatten (Flatten)           (None, 4096)              0         \n",
            "                                                                 \n",
            " dropout (Dropout)           (None, 4096)              0         \n",
            "                                                                 \n",
            " dense (Dense)               (None, 1)                 4097      \n",
            "                                                                 \n",
            "=================================================================\n",
            "Total params: 42,817\n",
            "Trainable params: 42,817\n",
            "Non-trainable params: 0\n",
            "_________________________________________________________________\n"
          ]
        }
      ]
    },
    {
      "cell_type": "markdown",
      "source": [
        "Model Compilation"
      ],
      "metadata": {
        "id": "uKFggOGUa8-_"
      }
    },
    {
      "cell_type": "code",
      "source": [
        "# Model Compilation\n",
        "\n",
        "model.compile(loss= \"binary_crossentropy\", optimizer= \"adam\", metrics= [\"accuracy\"] )"
      ],
      "metadata": {
        "id": "ju5kP60Ea8GA"
      },
      "execution_count": null,
      "outputs": []
    },
    {
      "cell_type": "markdown",
      "source": [
        "# Step-4: Model Training (CNN Image Fitting)"
      ],
      "metadata": {
        "id": "D71g1hc6a1Po"
      }
    },
    {
      "cell_type": "code",
      "source": [
        "# Import a class\n",
        "\n",
        "from tensorflow.keras.preprocessing.image import ImageDataGenerator"
      ],
      "metadata": {
        "id": "SQ9ZpiUPddbt"
      },
      "execution_count": null,
      "outputs": []
    },
    {
      "cell_type": "code",
      "source": [
        "# Define variables for dataset directory\n",
        "\n",
        "test_data= \"/content/test_set/test_set\"\n",
        "train_data = \"/content/training_set/training_set\""
      ],
      "metadata": {
        "id": "baGrxka8d0Xa"
      },
      "execution_count": null,
      "outputs": []
    },
    {
      "cell_type": "markdown",
      "source": [
        "Image Rescaling"
      ],
      "metadata": {
        "id": "A8Dggcg6iD6d"
      }
    },
    {
      "cell_type": "code",
      "source": [
        "# Define an object // Create an instance\n",
        "\n",
        "dataGen = ImageDataGenerator(rescale= 1./255)"
      ],
      "metadata": {
        "id": "jpIkErQgiHi_"
      },
      "execution_count": null,
      "outputs": []
    },
    {
      "cell_type": "code",
      "source": [
        "# define training & test set\n",
        "\n",
        "train_set = dataGen.flow_from_directory(directory= train_data, target_size= (32,32), classes= [\"dogs\", \"cats\"], class_mode= \"binary\", batch_size= 20)\n",
        "\n",
        "test_set = dataGen.flow_from_directory(directory= test_data, target_size= (32,32), classes= [\"dogs\", \"cats\"], class_mode= \"binary\", batch_size= 20)"
      ],
      "metadata": {
        "colab": {
          "base_uri": "https://localhost:8080/"
        },
        "id": "Q47vSye1jsVC",
        "outputId": "8b9cb7ac-7869-4f6c-f54f-e29f9c07baa2"
      },
      "execution_count": null,
      "outputs": [
        {
          "output_type": "stream",
          "name": "stdout",
          "text": [
            "Found 8005 images belonging to 2 classes.\n",
            "Found 2023 images belonging to 2 classes.\n"
          ]
        }
      ]
    },
    {
      "cell_type": "code",
      "source": [
        "# preview length of train and test set\n",
        "\n",
        "len(train_set), len(test_set)"
      ],
      "metadata": {
        "colab": {
          "base_uri": "https://localhost:8080/"
        },
        "id": "PcmEAc1pk8P_",
        "outputId": "c7e6a001-ebba-4284-eb96-543373e2fb58"
      },
      "execution_count": null,
      "outputs": [
        {
          "output_type": "execute_result",
          "data": {
            "text/plain": [
              "(401, 102)"
            ]
          },
          "metadata": {},
          "execution_count": 29
        }
      ]
    },
    {
      "cell_type": "markdown",
      "source": [
        "Train The Model"
      ],
      "metadata": {
        "id": "X2YosRkWFyGo"
      }
    },
    {
      "cell_type": "code",
      "source": [
        "history = model.fit_generator(generator= train_set, steps_per_epoch=401, epochs= 20, validation_data= test_set, validation_steps= 102)"
      ],
      "metadata": {
        "colab": {
          "base_uri": "https://localhost:8080/"
        },
        "id": "GgJ-QZf2lNNQ",
        "outputId": "ae6d348b-5dbe-4c6e-8f46-01c182ae86e0"
      },
      "execution_count": null,
      "outputs": [
        {
          "output_type": "stream",
          "name": "stdout",
          "text": [
            "Epoch 1/20\n"
          ]
        },
        {
          "output_type": "stream",
          "name": "stderr",
          "text": [
            "<ipython-input-31-3a48cd933a4e>:1: UserWarning: `Model.fit_generator` is deprecated and will be removed in a future version. Please use `Model.fit`, which supports generators.\n",
            "  history = model.fit_generator(generator= train_set, steps_per_epoch=401, epochs= 20, validation_data= test_set, validation_steps= 102)\n"
          ]
        },
        {
          "output_type": "stream",
          "name": "stdout",
          "text": [
            "401/401 [==============================] - 65s 162ms/step - loss: 0.2805 - accuracy: 0.8793 - val_loss: 0.4942 - val_accuracy: 0.7810\n",
            "Epoch 2/20\n",
            "401/401 [==============================] - 65s 163ms/step - loss: 0.2689 - accuracy: 0.8869 - val_loss: 0.5192 - val_accuracy: 0.7776\n",
            "Epoch 3/20\n",
            "401/401 [==============================] - 65s 162ms/step - loss: 0.2591 - accuracy: 0.8882 - val_loss: 0.4902 - val_accuracy: 0.7909\n",
            "Epoch 4/20\n",
            "401/401 [==============================] - 65s 163ms/step - loss: 0.2534 - accuracy: 0.8949 - val_loss: 0.4978 - val_accuracy: 0.7958\n",
            "Epoch 5/20\n",
            "401/401 [==============================] - 65s 163ms/step - loss: 0.2528 - accuracy: 0.8918 - val_loss: 0.4794 - val_accuracy: 0.7909\n",
            "Epoch 6/20\n",
            "401/401 [==============================] - 65s 162ms/step - loss: 0.2479 - accuracy: 0.8969 - val_loss: 0.5355 - val_accuracy: 0.7929\n",
            "Epoch 7/20\n",
            "401/401 [==============================] - 65s 162ms/step - loss: 0.2335 - accuracy: 0.9041 - val_loss: 0.5499 - val_accuracy: 0.7771\n",
            "Epoch 8/20\n",
            "401/401 [==============================] - 62s 154ms/step - loss: 0.2268 - accuracy: 0.9048 - val_loss: 0.5051 - val_accuracy: 0.7820\n",
            "Epoch 9/20\n",
            "401/401 [==============================] - 65s 162ms/step - loss: 0.2249 - accuracy: 0.9068 - val_loss: 0.5183 - val_accuracy: 0.7924\n",
            "Epoch 10/20\n",
            "401/401 [==============================] - 66s 163ms/step - loss: 0.2080 - accuracy: 0.9143 - val_loss: 0.5246 - val_accuracy: 0.7939\n",
            "Epoch 11/20\n",
            "401/401 [==============================] - 66s 164ms/step - loss: 0.2054 - accuracy: 0.9157 - val_loss: 0.5359 - val_accuracy: 0.7988\n",
            "Epoch 12/20\n",
            "401/401 [==============================] - 65s 162ms/step - loss: 0.1962 - accuracy: 0.9166 - val_loss: 0.5282 - val_accuracy: 0.7790\n",
            "Epoch 13/20\n",
            "401/401 [==============================] - 65s 162ms/step - loss: 0.1988 - accuracy: 0.9183 - val_loss: 0.5250 - val_accuracy: 0.7879\n",
            "Epoch 14/20\n",
            "401/401 [==============================] - 66s 164ms/step - loss: 0.1842 - accuracy: 0.9213 - val_loss: 0.5416 - val_accuracy: 0.7919\n",
            "Epoch 15/20\n",
            "401/401 [==============================] - 64s 160ms/step - loss: 0.1855 - accuracy: 0.9270 - val_loss: 0.5585 - val_accuracy: 0.7884\n",
            "Epoch 16/20\n",
            "401/401 [==============================] - 65s 162ms/step - loss: 0.1772 - accuracy: 0.9239 - val_loss: 0.5459 - val_accuracy: 0.7924\n",
            "Epoch 17/20\n",
            "401/401 [==============================] - 65s 162ms/step - loss: 0.1735 - accuracy: 0.9310 - val_loss: 0.6106 - val_accuracy: 0.7692\n",
            "Epoch 18/20\n",
            "401/401 [==============================] - 65s 163ms/step - loss: 0.1656 - accuracy: 0.9362 - val_loss: 0.5564 - val_accuracy: 0.7949\n",
            "Epoch 19/20\n",
            "401/401 [==============================] - 65s 163ms/step - loss: 0.1745 - accuracy: 0.9298 - val_loss: 0.5579 - val_accuracy: 0.7899\n",
            "Epoch 20/20\n",
            "401/401 [==============================] - 66s 164ms/step - loss: 0.1662 - accuracy: 0.9345 - val_loss: 0.5802 - val_accuracy: 0.7845\n"
          ]
        }
      ]
    },
    {
      "cell_type": "code",
      "source": [
        "# Accuracy 93% greater than Val_accuracy - 78%\n",
        "\"\"\"\n",
        "Model has learnt too much and is overfitted\n",
        "\"\"\""
      ],
      "metadata": {
        "id": "wTAK5eOvozpK"
      },
      "execution_count": null,
      "outputs": []
    },
    {
      "cell_type": "markdown",
      "source": [
        "# Step-5: Learning Curve Plot"
      ],
      "metadata": {
        "id": "iPrbLgi8qIdO"
      }
    },
    {
      "cell_type": "code",
      "source": [
        "# Define a function\n",
        "\n",
        "def learning_curve(history, epoch):\n",
        "\n",
        "# Training vs validation accuracy\n",
        "\n",
        "  epoch_range = range(1, epoch+1)\n",
        "  plt.plot(epoch_range, history.history[\"accuracy\"])\n",
        "  plt.plot(epoch_range, history.history[\"val_accuracy\"])\n",
        "  plt.title(\"Model Accuracy\")\n",
        "  plt.ylabel(\"Accuracy\")\n",
        "  plt.xlabel(\"epoch\")\n",
        "  plt.legend([\"Train\", \"val\"], loc=\"upper left\")\n",
        "  plt.show()\n",
        "\n",
        "  # Training vs validation loss\n",
        "\n",
        "  plt.plot(epoch_range, history.history[\"loss\"])\n",
        "  plt.plot(epoch_range, history.history[\"val_loss\"])\n",
        "  plt.title(\"Model Loss\")\n",
        "  plt.ylabel(\"Loss\")\n",
        "  plt.xlabel(\"epoch\")\n",
        "  plt.legend([\"Train\", \"val\"], loc=\"upper left\")\n",
        "  plt.show()"
      ],
      "metadata": {
        "id": "IaDjg9AHqRSu"
      },
      "execution_count": null,
      "outputs": []
    },
    {
      "cell_type": "code",
      "source": [
        "learning_curve(history, epoch= 20)"
      ],
      "metadata": {
        "colab": {
          "base_uri": "https://localhost:8080/",
          "height": 573
        },
        "id": "65Ip7CAdsucL",
        "outputId": "2c1e9b69-bcfd-4c79-e558-3e8e259db75f"
      },
      "execution_count": null,
      "outputs": [
        {
          "output_type": "display_data",
          "data": {
            "text/plain": [
              "<Figure size 432x288 with 1 Axes>"
            ],
            "image/png": "[encoded data removed]"
          },
          "metadata": {
            "needs_background": "light"
          }
        },
        {
          "output_type": "display_data",
          "data": {
            "text/plain": [
              "<Figure size 432x288 with 1 Axes>"
            ],
            "image/png": "[encoded data removed]"
          },
          "metadata": {
            "needs_background": "light"
          }
        }
      ]
    },
    {
      "cell_type": "code",
      "source": [],
      "metadata": {
        "id": "IHvk8WyxswEx"
      },
      "execution_count": null,
      "outputs": []
    }
  ]
}